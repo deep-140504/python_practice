{
 "cells": [
  {
   "cell_type": "markdown",
   "id": "c6b5dba5-3cfe-491f-8c8a-1b9130a9db3c",
   "metadata": {},
   "source": [
    "# Date and Time\n",
    "#### 2. Write a Python program to determine whether a given year is a leap year"
   ]
  },
  {
   "cell_type": "code",
   "execution_count": 8,
   "id": "44a5940b-8d22-460a-8be1-6d5d7a2c4b78",
   "metadata": {},
   "outputs": [
    {
     "name": "stdout",
     "output_type": "stream",
     "text": [
      "2020 is leap year\n"
     ]
    }
   ],
   "source": [
    "import datetime\n",
    "def check(year):\n",
    "    try:\n",
    "        datetime.date(year, 2, 29)\n",
    "        return True\n",
    "    except ValueError:\n",
    "        return False\n",
    "year = 2020\n",
    "if(check(year)):\n",
    "    print(f\"{year} is leap year\")\n",
    "else:\n",
    "    print(f\"{year} is not a leap year\")"
   ]
  },
  {
   "cell_type": "markdown",
   "id": "549b763a-dfeb-4fd7-824c-e661e778e579",
   "metadata": {},
   "source": [
    "#### 57. Write a Python program to get different time values with components timezone, timezone abbreviations, the offset of the local (non-DST) timezone, DST timezone and time of different timezones."
   ]
  },
  {
   "cell_type": "code",
   "execution_count": 15,
   "id": "79c5ea8d-3f15-432a-baaa-2f4da337d250",
   "metadata": {},
   "outputs": [
    {
     "name": "stdout",
     "output_type": "stream",
     "text": [
      "\n",
      "UTC :\n",
      "TZ : (not set)\n",
      "Timezone abbreviations: ('UTC', 'UTC')\n",
      "Timezone : 0.0 (0.0)\n",
      "DST timezone 0\n",
      "Time : 06:49:36 01/24/25 UTC\n",
      "\n",
      "Asia/Kolkata :\n",
      "TZ : Asia/Kolkata\n",
      "Timezone abbreviations: ('IST', 'IST')\n",
      "Timezone : 19800.0 (5.5)\n",
      "DST timezone 0\n",
      "Time : 12:19:36 01/24/25 IST\n",
      "\n",
      "Pacific/Auckland :\n",
      "TZ : Pacific/Auckland\n",
      "Timezone abbreviations: ('NZDT', 'NZDT')\n",
      "Timezone : 46800.0 (13.0)\n",
      "DST timezone 1\n",
      "Time : 19:49:36 01/24/25 NZDT\n",
      "\n",
      "Europe/Berlin :\n",
      "TZ : Europe/Berlin\n",
      "Timezone abbreviations: ('CET', 'CET')\n",
      "Timezone : 3600.0 (1.0)\n",
      "DST timezone 0\n",
      "Time : 07:49:36 01/24/25 CET\n",
      "\n",
      "America/Detroit :\n",
      "TZ : America/Detroit\n",
      "Timezone abbreviations: ('EST', 'EST')\n",
      "Timezone : -18000.0 (-5.0)\n",
      "DST timezone 0\n",
      "Time : 01:49:36 01/24/25 EST\n",
      "\n",
      "Singapore :\n",
      "TZ : Singapore\n",
      "Timezone abbreviations: ('+08', '+08')\n",
      "Timezone : 28800.0 (8.0)\n",
      "DST timezone 0\n",
      "Time : 14:49:36 01/24/25 +08\n"
     ]
    }
   ],
   "source": [
    "import datetime\n",
    "import pytz\n",
    "\n",
    "# Function to get the current time and various timezone components\n",
    "def get_timezone_info():\n",
    "    # Get the current UTC time\n",
    "    utc_time = datetime.datetime.now(pytz.utc)\n",
    "\n",
    "    timezones = ['UTC', 'Asia/Kolkata', 'Pacific/Auckland', 'Europe/Berlin', 'America/Detroit', 'Singapore']\n",
    "\n",
    "    for tz_name in timezones:\n",
    "        # Get the timezone object\n",
    "        tz = pytz.timezone(tz_name)\n",
    "\n",
    "        # Get the current time in the given timezone\n",
    "        local_time = utc_time.astimezone(tz)\n",
    "\n",
    "        # Get the UTC offset and DST information\n",
    "        offset = local_time.utcoffset()  # This gives the offset from UTC in timedelta format\n",
    "        is_dst = local_time.dst()  # This gives the DST offset (timedelta)\n",
    "        timezone_abbr = local_time.tzname()  # Timezone abbreviation (e.g., \"EST\", \"GMT\")\n",
    "\n",
    "        # Display the results in the required format\n",
    "        print(f\"\\n{tz_name} :\")\n",
    "        print(f\"TZ : {tz_name if tz_name != 'UTC' else '(not set)'}\")\n",
    "        print(f\"Timezone abbreviations: {tuple([timezone_abbr, timezone_abbr])}\")\n",
    "        print(f\"Timezone : {offset.total_seconds()} ({offset.total_seconds() / 3600})\")\n",
    "        print(f\"DST timezone {1 if is_dst else 0}\")\n",
    "        print(f\"Time : {local_time.strftime('%H:%M:%S %m/%d/%y')} {timezone_abbr}\")\n",
    "\n",
    "# Call the function to display the information\n",
    "get_timezone_info()\n"
   ]
  },
  {
   "cell_type": "markdown",
   "id": "93555c6e-1072-4394-96f4-c123b19ae296",
   "metadata": {},
   "source": [
    "#### 56. Write a Python program to get time values with components using local time and gmtime."
   ]
  },
  {
   "cell_type": "code",
   "execution_count": 19,
   "id": "645c79b9-c433-4bfa-9d09-34297f96c673",
   "metadata": {},
   "outputs": [
    {
     "name": "stdout",
     "output_type": "stream",
     "text": [
      "localtime:\n",
      "tm_year : 2025\n",
      "tm_mon : 1\n",
      "tm_mday : 24\n",
      "tm_hour : 12\n",
      "tm_min : 27\n",
      "tm_sec : 9\n",
      "tm_wday : 4\n",
      "tm_yday : 24\n",
      "tm_isdst: 0\n",
      "gmtime:\n",
      "tm_year : 2025\n",
      "tm_mon : 1\n",
      "tm_mday : 24\n",
      "tm_hour : 6\n",
      "tm_min : 57\n",
      "tm_sec : 9\n",
      "tm_wday : 4\n",
      "tm_yday : 24\n",
      "tm_isdst: 0\n"
     ]
    }
   ],
   "source": [
    "import time\n",
    "\n",
    "# Get the local time and gmtime\n",
    "local_time = time.localtime()\n",
    "gmt_time = time.gmtime()\n",
    "\n",
    "# Function to print time components\n",
    "def print_time_components(time_struct, time_label):\n",
    "    print(f\"{time_label}:\")\n",
    "    print(f\"tm_year : {time_struct.tm_year}\")\n",
    "    print(f\"tm_mon : {time_struct.tm_mon}\")\n",
    "    print(f\"tm_mday : {time_struct.tm_mday}\")\n",
    "    print(f\"tm_hour : {time_struct.tm_hour}\")\n",
    "    print(f\"tm_min : {time_struct.tm_min}\")\n",
    "    print(f\"tm_sec : {time_struct.tm_sec}\")\n",
    "    print(f\"tm_wday : {time_struct.tm_wday}\")\n",
    "    print(f\"tm_yday : {time_struct.tm_yday}\")\n",
    "    print(f\"tm_isdst: {time_struct.tm_isdst}\")\n",
    "\n",
    "# Call the function to display localtime and gmtime components\n",
    "print_time_components(local_time, \"localtime\")\n",
    "print_time_components(gmt_time, \"gmtime\")\n"
   ]
  },
  {
   "cell_type": "markdown",
   "id": "f4cb74e0-437e-4dd3-b53b-e1f05a39d866",
   "metadata": {},
   "source": [
    "# Python Pendulum Module\n",
    "#### 6. Write a Python program to find the difference in days between two arbitrary dates using Pendulum module."
   ]
  },
  {
   "cell_type": "code",
   "execution_count": 23,
   "id": "81ac3ac9-e499-4339-afdf-d8422b3c8e24",
   "metadata": {},
   "outputs": [
    {
     "name": "stdout",
     "output_type": "stream",
     "text": [
      "Collecting pendulum\n",
      "  Downloading pendulum-3.0.0-cp312-none-win_amd64.whl.metadata (7.0 kB)\n",
      "Requirement already satisfied: python-dateutil>=2.6 in c:\\users\\deepadabhi\\anaconda3\\lib\\site-packages (from pendulum) (2.9.0.post0)\n",
      "Requirement already satisfied: tzdata>=2020.1 in c:\\users\\deepadabhi\\anaconda3\\lib\\site-packages (from pendulum) (2023.3)\n",
      "Collecting time-machine>=2.6.0 (from pendulum)\n",
      "  Downloading time_machine-2.16.0-cp312-cp312-win_amd64.whl.metadata (21 kB)\n",
      "Requirement already satisfied: six>=1.5 in c:\\users\\deepadabhi\\anaconda3\\lib\\site-packages (from python-dateutil>=2.6->pendulum) (1.16.0)\n",
      "Downloading pendulum-3.0.0-cp312-none-win_amd64.whl (293 kB)\n",
      "Downloading time_machine-2.16.0-cp312-cp312-win_amd64.whl (19 kB)\n",
      "Installing collected packages: time-machine, pendulum\n",
      "Successfully installed pendulum-3.0.0 time-machine-2.16.0\n",
      "Note: you may need to restart the kernel to use updated packages.\n"
     ]
    }
   ],
   "source": [
    "pip install pendulum"
   ]
  },
  {
   "cell_type": "code",
   "execution_count": 3,
   "id": "cde7622d-3edb-4bcc-a8fe-44f88a5bf29e",
   "metadata": {},
   "outputs": [
    {
     "name": "stdout",
     "output_type": "stream",
     "text": [
      "The difference between 2021-04-13 and 2023-01-01 is 628 days.\n"
     ]
    }
   ],
   "source": [
    "import pendulum\n",
    "def date_difference(date1, date2):\n",
    "    date1 = pendulum.parse(date1)\n",
    "    date2 = pendulum.parse(date2)\n",
    "    \n",
    "    diff_days = date2.diff(date1).in_days()\n",
    "    return diff_days\n",
    "\n",
    "date1 = \"2021-04-13\"\n",
    "date2 = \"2023-01-01\"\n",
    "\n",
    "difference = date_difference(date1, date2)\n",
    "print(f\"The difference between {date1} and {date2} is {difference} days.\")"
   ]
  },
  {
   "cell_type": "markdown",
   "id": "32803cbd-b0f9-41bc-9fd5-0e1306ad716f",
   "metadata": {},
   "source": [
    "#### 10. Write a Python program to determine if the current year is a leap year using Pendulum module."
   ]
  },
  {
   "cell_type": "code",
   "execution_count": 8,
   "id": "5627d9be-4867-4624-9271-5cb5f4ee4dcf",
   "metadata": {},
   "outputs": [
    {
     "name": "stdout",
     "output_type": "stream",
     "text": [
      "2025 is not a leap year.\n"
     ]
    }
   ],
   "source": [
    "import pendulum\n",
    "\n",
    "current_year = pendulum.now().year\n",
    "\n",
    "if pendulum.Date(current_year, 1, 1).is_leap_year():\n",
    "    print(f\"{current_year} is a leap year.\")\n",
    "else:\n",
    "    print(f\"{current_year} is not a leap year.\")\n"
   ]
  },
  {
   "cell_type": "code",
   "execution_count": null,
   "id": "f804e0c6-6db8-45fa-ab56-e98cb36a1357",
   "metadata": {},
   "outputs": [],
   "source": []
  }
 ],
 "metadata": {
  "kernelspec": {
   "display_name": "Python [conda env:base] *",
   "language": "python",
   "name": "conda-base-py"
  },
  "language_info": {
   "codemirror_mode": {
    "name": "ipython",
    "version": 3
   },
   "file_extension": ".py",
   "mimetype": "text/x-python",
   "name": "python",
   "nbconvert_exporter": "python",
   "pygments_lexer": "ipython3",
   "version": "3.12.7"
  }
 },
 "nbformat": 4,
 "nbformat_minor": 5
}
