{
 "cells": [
  {
   "cell_type": "markdown",
   "id": "d0da43f2-3253-410d-ae9e-11210484e5cb",
   "metadata": {},
   "source": [
    "# Pandas Excel Data Analysis"
   ]
  },
  {
   "cell_type": "markdown",
   "id": "b77487fe-faf2-4136-9686-271ff5c91aaa",
   "metadata": {},
   "source": [
    "#### 1. Import Excel Data into a Pandas DataFrame"
   ]
  },
  {
   "cell_type": "code",
   "execution_count": 6,
   "id": "ae55221a-7b21-49eb-aca7-58295f611d19",
   "metadata": {},
   "outputs": [
    {
     "name": "stdout",
     "output_type": "stream",
     "text": [
      "   Year  MSHA ID                       Mine_Name  Production  Labor_Hours\n",
      "0  2013   103381            Tacoa Highwall Miner       56004        22392\n",
      "1  2013   103404                Reid School Mine       28807        28447\n",
      "2  2013   100759  North River #1 Underground Min     1440115       474784\n",
      "3  2013   103246                      Bear Creek       87587        29193\n",
      "4  2013   103451                     Knight Mine      147499        46393\n"
     ]
    }
   ],
   "source": [
    "import pandas as pd\n",
    "\n",
    "df = pd.read_excel('coalpublic2013.xlsx')\n",
    "\n",
    "print(df.head())\n"
   ]
  },
  {
   "cell_type": "markdown",
   "id": "3ab74819-eb08-48fb-b52d-51a090309a7d",
   "metadata": {},
   "source": [
    "# Pivot table"
   ]
  },
  {
   "cell_type": "code",
   "execution_count": 8,
   "id": "94fb41f5-c30c-4c9d-a82b-25abfe3570b9",
   "metadata": {},
   "outputs": [
    {
     "name": "stdout",
     "output_type": "stream",
     "text": [
      "    OrderDate   Region  Manager   SalesMan          Item   Units  Unit_price  \\\n",
      "0  2018-01-06     East   Martha  Alexander    Television   95.00    1198.000   \n",
      "1  2018-01-23  Central  Hermann     Shelli  Home Theater   50.00     500.000   \n",
      "2  2018-02-09  Central  Hermann       Luis    Television   36.00    1198.000   \n",
      "3  2018-02-26  Central  Timothy      David    Cell Phone   27.00     225.000   \n",
      "4  2018-03-15     West  Timothy    Stephen    Television   56.00    1198.000   \n",
      "5  2018-04-01     East   Martha  Alexander  Home Theater   60.00     500.000   \n",
      "6  2018-04-18  Central   Martha     Steven    Television   75.00    1198.000   \n",
      "7  2018-05-05  Central  Hermann       Luis    Television   90.00    1198.000   \n",
      "8  2018-05-22     West  Douglas    Michael    Television   32.00    1198.000   \n",
      "9  2018-06-08     East   Martha  Alexander  Home Theater   60.00     500.000   \n",
      "10 2018-06-25  Central  Hermann      Sigal    Television   90.00    1198.000   \n",
      "11 2018-07-12     East   Martha      Diana  Home Theater   29.00     500.000   \n",
      "12 2018-07-29     East  Douglas      Karen  Home Theater   81.00     500.000   \n",
      "13 2018-08-15     East   Martha  Alexander    Television   35.00    1198.000   \n",
      "14 2018-09-01  Central  Douglas       John          Desk    2.00     125.000   \n",
      "15 2018-09-18     East   Martha  Alexander   Video Games   16.00      58.500   \n",
      "16 2018-10-05  Central  Hermann      Sigal  Home Theater   28.00     500.000   \n",
      "17 2018-10-22     East   Martha  Alexander    Cell Phone   64.00     225.000   \n",
      "18 2018-11-08     East  Douglas      Karen    Cell Phone   15.00     225.000   \n",
      "19 2018-11-25  Central  Hermann     Shelli   Video Games   96.00      58.500   \n",
      "20 2018-12-12  Central  Douglas       John    Television   67.00    1198.000   \n",
      "21 2018-12-29     East  Douglas      Karen   Video Games   74.00      58.500   \n",
      "22 2019-01-15  Central  Timothy      David  Home Theater   46.00     500.000   \n",
      "23 2019-02-01  Central  Douglas       John  Home Theater   87.00     500.000   \n",
      "24 2019-02-18     East   Martha  Alexander  Home Theater    4.00     500.000   \n",
      "25 2019-03-07     West  Timothy    Stephen  Home Theater    7.00     500.000   \n",
      "26 2019-03-24  Central  Hermann       Luis   Video Games   50.00      58.500   \n",
      "27 2019-04-10  Central   Martha     Steven    Television   66.00    1198.000   \n",
      "28 2019-04-27     East   Martha      Diana    Cell Phone   96.00     225.000   \n",
      "29 2019-05-14  Central  Timothy      David    Television   53.00    1198.000   \n",
      "30 2019-05-31  Central  Timothy      David  Home Theater   80.00     500.000   \n",
      "31 2019-06-17  Central  Hermann     Shelli          Desk    5.00     125.000   \n",
      "32 2019-07-04     East   Martha  Alexander   Video Games   62.00      58.500   \n",
      "33 2019-07-21  Central  Hermann      Sigal   Video Games   55.00      58.500   \n",
      "34 2019-08-07  Central  Hermann     Shelli   Video Games   42.00      58.500   \n",
      "35 2019-08-24     West  Timothy    Stephen          Desk    3.00     125.000   \n",
      "36 2019-09-10  Central  Timothy      David    Television    7.00    1198.000   \n",
      "37 2019-09-27     West  Timothy    Stephen    Cell Phone   76.00     225.000   \n",
      "38 2019-10-14     West  Douglas    Michael  Home Theater   57.00     500.000   \n",
      "39 2019-10-31  Central   Martha     Steven    Television   14.00    1198.000   \n",
      "40 2019-11-17  Central  Hermann       Luis  Home Theater   11.00     500.000   \n",
      "41 2019-12-04  Central  Hermann       Luis  Home Theater   94.00     500.000   \n",
      "42 2019-12-21  Central   Martha     Steven  Home Theater   28.00     500.000   \n",
      "43        NaT      NaN      NaN        NaN           NaN  278.00    1125.000   \n",
      "44        NaT      NaN      NaN        NaN           NaN   34.75     140.625   \n",
      "\n",
      "     Sale_amt  \n",
      "0   113810.00  \n",
      "1    25000.00  \n",
      "2    43128.00  \n",
      "3     6075.00  \n",
      "4    67088.00  \n",
      "5    30000.00  \n",
      "6    89850.00  \n",
      "7   107820.00  \n",
      "8    38336.00  \n",
      "9    30000.00  \n",
      "10  107820.00  \n",
      "11   14500.00  \n",
      "12   40500.00  \n",
      "13   41930.00  \n",
      "14     250.00  \n",
      "15     936.00  \n",
      "16   14000.00  \n",
      "17   14400.00  \n",
      "18    3375.00  \n",
      "19    5616.00  \n",
      "20   80266.00  \n",
      "21    4329.00  \n",
      "22   23000.00  \n",
      "23   43500.00  \n",
      "24    2000.00  \n",
      "25    3500.00  \n",
      "26    2925.00  \n",
      "27   79068.00  \n",
      "28   21600.00  \n",
      "29   63494.00  \n",
      "30   40000.00  \n",
      "31     625.00  \n",
      "32    3627.00  \n",
      "33    3217.50  \n",
      "34    2457.00  \n",
      "35     375.00  \n",
      "36    8386.00  \n",
      "37   17100.00  \n",
      "38   28500.00  \n",
      "39   16772.00  \n",
      "40    5500.00  \n",
      "41   47000.00  \n",
      "42   14000.00  \n",
      "43   62550.00  \n",
      "44    7818.75  \n"
     ]
    }
   ],
   "source": [
    "import pandas as pd\n",
    "df = pd.read_excel(\"Saledata.xlsx\")\n",
    "print(df)"
   ]
  },
  {
   "cell_type": "markdown",
   "id": "6efbd1ce-911e-41c2-a1db-f4e120015f5e",
   "metadata": {},
   "source": [
    "#### 4. Item-wise Units Sold"
   ]
  },
  {
   "cell_type": "code",
   "execution_count": 10,
   "id": "d866884a-db69-4cbc-a471-e60df1e695c3",
   "metadata": {},
   "outputs": [
    {
     "name": "stdout",
     "output_type": "stream",
     "text": [
      "              Units\n",
      "Item               \n",
      "Cell Phone    278.0\n",
      "Desk           10.0\n",
      "Home Theater  722.0\n",
      "Television    716.0\n",
      "Video Games   395.0\n"
     ]
    }
   ],
   "source": [
    "pivot = pd.pivot_table(df, values=\"Units\", index=[\"Item\"], aggfunc=\"sum\")\n",
    "print(pivot)"
   ]
  },
  {
   "cell_type": "markdown",
   "id": "b480cfab-8b75-4c96-9edd-0e73bfde15e2",
   "metadata": {},
   "source": [
    "#### 8. Manager and Salesman-wise Total Sale with Grand Total"
   ]
  },
  {
   "cell_type": "code",
   "execution_count": 12,
   "id": "ae4b476f-a309-4c0a-8dc8-caad77ae677c",
   "metadata": {},
   "outputs": [
    {
     "name": "stdout",
     "output_type": "stream",
     "text": [
      "                        Sale_amt\n",
      "Manager     SalesMan            \n",
      "Douglas     John        124016.0\n",
      "            Karen        48204.0\n",
      "            Michael      66836.0\n",
      "Hermann     Luis        206373.0\n",
      "            Shelli       33698.0\n",
      "            Sigal       125037.5\n",
      "Martha      Alexander   236703.0\n",
      "            Diana        36100.0\n",
      "            Steven      199690.0\n",
      "Timothy     David       140955.0\n",
      "            Stephen      88063.0\n",
      "Grand Total            1305675.5\n"
     ]
    }
   ],
   "source": [
    "pivot = pd.pivot_table(df, values=\"Sale_amt\", index=[\"Manager\", \"SalesMan\"], aggfunc=\"sum\", margins=True, margins_name=\"Grand Total\")\n",
    "print(pivot)\n"
   ]
  },
  {
   "cell_type": "markdown",
   "id": "6f2ca01c-8f98-4131-8105-e09cfddce9f6",
   "metadata": {},
   "source": [
    "#### 9. Average Age by Gender and Survival Status"
   ]
  },
  {
   "cell_type": "code",
   "execution_count": 14,
   "id": "33800f43-b568-415c-bba3-8b7758952570",
   "metadata": {},
   "outputs": [
    {
     "name": "stdout",
     "output_type": "stream",
     "text": [
      "                       Age\n",
      "Sex    Survived           \n",
      "female 0         24.419753\n",
      "       1         28.866953\n",
      "male   0         31.136853\n",
      "       1         27.428165\n"
     ]
    }
   ],
   "source": [
    "import pandas as pd\n",
    "df = pd.read_csv('titanic.csv')\n",
    "pivot_table = pd.pivot_table(df, values = 'Age', index = ['Sex', 'Survived'], aggfunc = 'mean')\n",
    "print(pivot_table)"
   ]
  },
  {
   "cell_type": "markdown",
   "id": "d3de541b-8707-45fa-8b52-18b26231b7fc",
   "metadata": {},
   "source": [
    "#### 10. Total Fare by Class and Gender"
   ]
  },
  {
   "cell_type": "code",
   "execution_count": 16,
   "id": "74bf515a-331f-4fc6-8fbf-b20575a55aa7",
   "metadata": {},
   "outputs": [
    {
     "name": "stdout",
     "output_type": "stream",
     "text": [
      "                    Fare\n",
      "Pclass Sex              \n",
      "1      female  9975.8250\n",
      "       male    8201.5875\n",
      "2      female  1669.7292\n",
      "       male    2132.1125\n",
      "3      female  2321.1086\n",
      "       male    4354.5449\n"
     ]
    }
   ],
   "source": [
    "pivot_table = pd.pivot_table(df, values = 'Fare', index = ['Pclass', 'Sex'], aggfunc = 'sum')\n",
    "print(pivot_table)"
   ]
  },
  {
   "cell_type": "markdown",
   "id": "d1bdeb21-6e91-46c5-bc93-ebc6b1b9115a",
   "metadata": {},
   "source": [
    "#### 11. Total Passengers by Age Category and Class"
   ]
  },
  {
   "cell_type": "code",
   "execution_count": 18,
   "id": "a43435ae-3443-4628-860d-1acfa398175f",
   "metadata": {},
   "outputs": [
    {
     "name": "stdout",
     "output_type": "stream",
     "text": [
      "     Survived  Pclass                                               Name  \\\n",
      "0           0       3                             Mr. Owen Harris Braund   \n",
      "1           1       1  Mrs. John Bradley (Florence Briggs Thayer) Cum...   \n",
      "2           1       3                              Miss. Laina Heikkinen   \n",
      "3           1       1        Mrs. Jacques Heath (Lily May Peel) Futrelle   \n",
      "4           0       3                            Mr. William Henry Allen   \n",
      "..        ...     ...                                                ...   \n",
      "882         0       2                               Rev. Juozas Montvila   \n",
      "883         1       1                        Miss. Margaret Edith Graham   \n",
      "884         0       3                     Miss. Catherine Helen Johnston   \n",
      "885         1       1                               Mr. Karl Howell Behr   \n",
      "886         0       3                                 Mr. Patrick Dooley   \n",
      "\n",
      "        Sex   Age  Siblings/Spouses Aboard  Parents/Children Aboard     Fare  \\\n",
      "0      male  22.0                        1                        0   7.2500   \n",
      "1    female  38.0                        1                        0  71.2833   \n",
      "2    female  26.0                        0                        0   7.9250   \n",
      "3    female  35.0                        1                        0  53.1000   \n",
      "4      male  35.0                        0                        0   8.0500   \n",
      "..      ...   ...                      ...                      ...      ...   \n",
      "882    male  27.0                        0                        0  13.0000   \n",
      "883  female  19.0                        0                        0  30.0000   \n",
      "884  female   7.0                        1                        2  23.4500   \n",
      "885    male  26.0                        0                        0  30.0000   \n",
      "886    male  32.0                        0                        0   7.7500   \n",
      "\n",
      "    AgeGroup  \n",
      "0      10-30  \n",
      "1      30-60  \n",
      "2      10-30  \n",
      "3      30-60  \n",
      "4      30-60  \n",
      "..       ...  \n",
      "882    10-30  \n",
      "883    10-30  \n",
      "884     0-10  \n",
      "885    10-30  \n",
      "886    30-60  \n",
      "\n",
      "[887 rows x 9 columns]\n"
     ]
    }
   ],
   "source": [
    "age_bins = [0, 10, 30, 60, 80]\n",
    "age_labels = ['0-10', '10-30', '30-60', '60-80']\n",
    "df['AgeGroup'] = pd.cut(df['Age'], bins=age_bins, labels=age_labels)\n",
    "print(df)"
   ]
  },
  {
   "cell_type": "code",
   "execution_count": 20,
   "id": "928fb35c-1452-4764-8c31-5df177160974",
   "metadata": {},
   "outputs": [
    {
     "name": "stdout",
     "output_type": "stream",
     "text": [
      "Pclass      1   2    3\n",
      "AgeGroup              \n",
      "0-10        3  17   53\n",
      "10-30      63  85  304\n",
      "30-60     135  79  122\n",
      "60-80      15   3    8\n"
     ]
    }
   ],
   "source": [
    "pivot_table = pd.pivot_table(df, values='Age', index='AgeGroup', columns='Pclass', aggfunc='count', observed=False)\n",
    "print(pivot_table)"
   ]
  },
  {
   "cell_type": "markdown",
   "id": "b18354c1-6892-40cc-a928-bea0a610e08d",
   "metadata": {},
   "source": [
    "#### 19. find the probability of survival by class, gender, solo boarding and port of embarkation."
   ]
  },
  {
   "cell_type": "code",
   "execution_count": 22,
   "id": "fbcd7235-6d50-4cf2-b3b7-6de90cd92aa9",
   "metadata": {},
   "outputs": [
    {
     "name": "stdout",
     "output_type": "stream",
     "text": [
      "                            Survived\n",
      "Pclass Sex    SoloBoarding          \n",
      "1      female False         0.966667\n",
      "              True          0.970588\n",
      "       male   False         0.425532\n",
      "              True          0.333333\n",
      "2      female False         0.931818\n",
      "              True          0.906250\n",
      "       male   False         0.277778\n",
      "              True          0.097222\n",
      "3      female False         0.416667\n",
      "              True          0.616667\n",
      "       male   False         0.180723\n",
      "              True          0.123077\n"
     ]
    }
   ],
   "source": [
    "df['SoloBoarding'] = ((df['Siblings/Spouses Aboard'] == 0) & (df['Parents/Children Aboard'] == 0))\n",
    "\n",
    "# Create the pivot table\n",
    "pivot_survival = pd.pivot_table(df, \n",
    "                                values='Survived', \n",
    "                                index=['Pclass', 'Sex', 'SoloBoarding'], \n",
    "                                aggfunc='mean')\n",
    "print(pivot_survival)\n"
   ]
  },
  {
   "cell_type": "markdown",
   "id": "57ee91ba-13ad-4b97-b209-2d6a05effae4",
   "metadata": {},
   "source": [
    "# Pandas Datetime"
   ]
  },
  {
   "cell_type": "markdown",
   "id": "1fbcd988-8c1e-4ddb-83f3-b5dc58e5a90e",
   "metadata": {},
   "source": [
    "#### 22. Write a Pandas program to create a comparison of the top 10 years in which the UFO was sighted vs the hours of the day."
   ]
  },
  {
   "cell_type": "code",
   "execution_count": 32,
   "id": "636f1c06-ddc7-42df-bdf4-35a01158767b",
   "metadata": {},
   "outputs": [
    {
     "name": "stdout",
     "output_type": "stream",
     "text": [
      "Month   1.0   2.0   3.0   4.0   5.0   6.0   7.0   8.0   9.0   10.0  11.0  12.0\n",
      "Year                                                                          \n",
      "2003.0   323   262   189   222   248   302   442   538   504   467   467   379\n",
      "2004.0   298   299   406   387   381   420   432   541   406   448   327   303\n",
      "2005.0   254   276   354   311   299   396   446   345   522   471   458   268\n",
      "2007.0   438   260   358   316   307   415   458   467   446   438   368   354\n",
      "2008.0   462   363   336   430   336   467   566   496   381   522   451   343\n",
      "2009.0   489   383   339   316   355   381   597   496   598   320   319   285\n",
      "2010.0   289   186   257   289   324   377   833   522   447   468   359   303\n",
      "2011.0   322   271   330   314   316   393   754   629   552   634   440   523\n",
      "2012.0   573   388   523   492   504   745   920   880   746   663   765   658\n",
      "2013.0   385   275   390   420   521   620   954   890   771   774   790   744\n"
     ]
    }
   ],
   "source": [
    "import pandas as pd\n",
    "\n",
    "# df = pd.read_csv(\"ufo-reports.csv\")\n",
    "df = pd.read_csv(\"ufo-reports.csv\", on_bad_lines='skip', low_memory = False)\n",
    "\n",
    "df['datetime'] = pd.to_datetime(df['datetime'], errors='coerce')\n",
    "\n",
    "df['Year'] = df['datetime'].dt.year\n",
    "df['Month'] = df['datetime'].dt.month\n",
    "\n",
    "top_years = df['Year'].value_counts().nlargest(10).index\n",
    "\n",
    "df_top = df[df['Year'].isin(top_years)]\n",
    "\n",
    "pivot_ufo = pd.pivot_table(df_top, values='datetime', index='Year', columns='Month', aggfunc='count', fill_value=0)\n",
    "\n",
    "print(pivot_ufo)\n"
   ]
  },
  {
   "cell_type": "markdown",
   "id": "64788677-4fdd-41af-8cc6-b3e1a000dc39",
   "metadata": {},
   "source": [
    "# Pandas Plotting"
   ]
  },
  {
   "cell_type": "markdown",
   "id": "95fc1a63-028e-4136-8ca7-d85b6fbac76b",
   "metadata": {},
   "source": [
    "#### 19. Write a Pandas program to create a histogram to visualize daily return distribution of Alphabet Inc. stock price between two specific dates."
   ]
  },
  {
   "cell_type": "code",
   "execution_count": 47,
   "id": "4da9e569-26fc-46d9-a976-8a2750af797e",
   "metadata": {},
   "outputs": [
    {
     "name": "stderr",
     "output_type": "stream",
     "text": [
      "C:\\Users\\dabhi\\AppData\\Local\\Temp\\ipykernel_10788\\570905254.py:11: SettingWithCopyWarning: \n",
      "A value is trying to be set on a copy of a slice from a DataFrame.\n",
      "Try using .loc[row_indexer,col_indexer] = value instead\n",
      "\n",
      "See the caveats in the documentation: https://pandas.pydata.org/pandas-docs/stable/user_guide/indexing.html#returning-a-view-versus-a-copy\n",
      "  filtered_data['Daily Return'] = filtered_data['Close'].pct_change()\n"
     ]
    },
    {
     "data": {
      "image/png": "[encoded data removed]",
      "text/plain": [
       "<Figure size 1000x600 with 1 Axes>"
      ]
     },
     "metadata": {},
     "output_type": "display_data"
    }
   ],
   "source": [
    "import pandas as pd\n",
    "import matplotlib.pyplot as plt\n",
    "\n",
    "data = pd.read_csv('alphabet.csv', parse_dates=['Date'])\n",
    "data.set_index('Date', inplace=True)\n",
    "\n",
    "start_date = '2020-04-01'\n",
    "end_date = '2020-06-30'\n",
    "filtered_data = data.loc[start_date:end_date]\n",
    "\n",
    "filtered_data['Daily Return'] = filtered_data['Close'].pct_change()\n",
    "\n",
    "plt.figure(figsize=(10, 6))\n",
    "plt.hist(filtered_data['Daily Return'].dropna(), bins=50, edgecolor='black')\n",
    "plt.title('Daily Return Distribution of Alphabet Inc. Stock')\n",
    "plt.xlabel('Daily Return')\n",
    "plt.ylabel('Frequency')\n",
    "plt.grid(True)\n",
    "plt.show()\n"
   ]
  },
  {
   "cell_type": "markdown",
   "id": "d323c88d-6e2b-48e6-a819-c3a30f08c82d",
   "metadata": {},
   "source": [
    "# Pandas Performance optimization"
   ]
  },
  {
   "cell_type": "markdown",
   "id": "815ab683-1278-4f20-a24c-91fe87ac48b4",
   "metadata": {},
   "source": [
    "#### 14. Write a Pandas program to compare the performance of calculating the cumulative sum of a column using the \"cumsum\" method vs. using a \"for\" loop."
   ]
  },
  {
   "cell_type": "code",
   "execution_count": 52,
   "id": "7cc73b86-7bd1-4007-be4e-987a6ec69970",
   "metadata": {},
   "outputs": [
    {
     "name": "stdout",
     "output_type": "stream",
     "text": [
      "Time taken using 'cumsum': 0.005042 seconds\n",
      "Time taken using 'for' loop: 7.082325 seconds\n",
      "Are the results equal? True\n"
     ]
    }
   ],
   "source": [
    "import pandas as pd\n",
    "import time\n",
    "\n",
    "data = pd.DataFrame({'Values': range(1, 1000001)})\n",
    "\n",
    "start_time = time.perf_counter()\n",
    "cumsum_result = data['Values'].cumsum()\n",
    "end_time = time.perf_counter()\n",
    "cumsum_time = end_time - start_time\n",
    "\n",
    "start_time = time.perf_counter()\n",
    "for_loop_result = [data['Values'].iloc[0]]\n",
    "for i in range(1, len(data)):\n",
    "    for_loop_result.append(for_loop_result[i-1] + data['Values'].iloc[i])\n",
    "end_time = time.perf_counter()\n",
    "for_loop_time = end_time - start_time\n",
    "\n",
    "print(f\"Time taken using 'cumsum': {cumsum_time:.6f} seconds\")\n",
    "print(f\"Time taken using 'for' loop: {for_loop_time:.6f} seconds\")\n",
    "print(f\"Are the results equal? {cumsum_result.equals(pd.Series(for_loop_result))}\")\n"
   ]
  },
  {
   "cell_type": "markdown",
   "id": "98f6c4cf-b5af-4eac-b14f-8f5361905577",
   "metadata": {},
   "source": [
    "# Advanced indexing and slicing"
   ]
  },
  {
   "cell_type": "markdown",
   "id": "e9609981-5b06-4049-9be0-cfc6d6bff15c",
   "metadata": {},
   "source": [
    "#### 15. Write a Pandas program that uses MultiIndex to select data based on conditions."
   ]
  },
  {
   "cell_type": "code",
   "execution_count": 66,
   "id": "2fe4458c-c83f-4e42-882c-59763e048fde",
   "metadata": {},
   "outputs": [
    {
     "name": "stdout",
     "output_type": "stream",
     "text": [
      "Original DataFrame:\n",
      "               Sales\n",
      "Store   Month       \n",
      "Store_A Jan     2000\n",
      "        Feb     2200\n",
      "Store_B Jan     3000\n",
      "        Feb     3500\n",
      "Store_C Jan     4500\n",
      "        Feb     4700\n",
      "\n",
      "Sales for Store_A in February: Sales    2200\n",
      "Name: (Store_A, Feb), dtype: int64\n"
     ]
    }
   ],
   "source": [
    "import pandas as pd\n",
    "\n",
    "data = {\n",
    "    'Store': ['Store_A', 'Store_A', 'Store_B', 'Store_B', 'Store_C', 'Store_C'],\n",
    "    'Month': ['Jan', 'Feb', 'Jan', 'Feb', 'Jan', 'Feb'],\n",
    "    'Sales': [2000, 2200, 3000, 3500, 4500, 4700]\n",
    "}\n",
    "\n",
    "df = pd.DataFrame(data)\n",
    "df.set_index(['Store', 'Month'], inplace=True)\n",
    "\n",
    "print(\"Original DataFrame:\")\n",
    "print(df)\n",
    "\n",
    "sales_store_a_february = df.loc[('Store_A', 'Feb')]\n",
    "print(\"\\nSales for Store_A in February:\", sales_store_a_february)\n"
   ]
  },
  {
   "cell_type": "markdown",
   "id": "1998979a-1927-49eb-9677-7fd7211335a3",
   "metadata": {},
   "source": [
    "# Sql database queries"
   ]
  },
  {
   "cell_type": "markdown",
   "id": "b6ff215d-9edf-46a2-b040-85a73fbd5156",
   "metadata": {},
   "source": [
    "#### 3. Write a Pandas program to extract first 7 records from employees file."
   ]
  },
  {
   "cell_type": "code",
   "execution_count": 72,
   "id": "4556a9b3-6c37-4c3b-852b-9f50065a09ef",
   "metadata": {},
   "outputs": [
    {
     "name": "stdout",
     "output_type": "stream",
     "text": [
      "   EMPLOYEE_ID FIRST_NAME  LAST_NAME     EMAIL  PHONE_NUMBER   HIRE_DATE  \\\n",
      "0          100     Steven       King     SKING  515.123.4567  2003-06-17   \n",
      "1          101      Neena    Kochhar  NKOCHHAR  515.123.4568  2005-09-21   \n",
      "2          102        Lex    De Haan   LDEHAAN  515.123.4569  2001-01-13   \n",
      "3          103  Alexander     Hunold   AHUNOLD  590.423.4567  2006-01-03   \n",
      "4          104      Bruce      Ernst    BERNST  590.423.4568  2007-05-21   \n",
      "5          105      David     Austin   DAUSTIN  590.423.4569  2005-06-25   \n",
      "6          106      Valli  Pataballa  VPATABAL  590.423.4560  2006-02-05   \n",
      "\n",
      "    JOB_ID   SALARY  COMMISSION_PCT  MANAGER_ID  DEPARTMENT_ID  \n",
      "0  AD_PRES  24000.0             0.0           0             90  \n",
      "1    AD_VP  17000.0             0.0         100             90  \n",
      "2    AD_VP  17000.0             0.0         100             90  \n",
      "3  IT_PROG   9000.0             0.0         102             60  \n",
      "4  IT_PROG   6000.0             0.0         103             60  \n",
      "5  IT_PROG   4800.0             0.0         103             60  \n",
      "6  IT_PROG   4800.0             0.0         103             60  \n"
     ]
    }
   ],
   "source": [
    "import pandas as pd\n",
    "\n",
    "employees = pd.read_csv('emp.csv') \n",
    "\n",
    "first_7_records = employees.head(7)\n",
    "\n",
    "print(first_7_records)\n"
   ]
  },
  {
   "cell_type": "markdown",
   "id": "817bf070-65f2-4b9f-a870-9be81185bc05",
   "metadata": {},
   "source": [
    "#### 24. Write a Pandas program to display the first and last name and date of joining of the employees who is either Sales Representative or Sales Man.\n",
    "\n"
   ]
  },
  {
   "cell_type": "code",
   "execution_count": 79,
   "id": "35fdbea8-77ce-40df-8ada-1a5ffb07c1aa",
   "metadata": {},
   "outputs": [
    {
     "name": "stdout",
     "output_type": "stream",
     "text": [
      "      FIRST_NAME LAST_NAME   HIRE_DATE\n",
      "11   Christopher    Harris  2003-11-05\n",
      "12         Susan     Young  2005-07-07\n",
      "13         Larry    Thomas  2006-02-01\n",
      "14        Sandra     Moore  2008-06-22\n",
      "15          Paul    Martin  2006-04-03\n",
      "..           ...       ...         ...\n",
      "131      Lillian   Roberts  2007-07-20\n",
      "132         John    Wilson  2006-03-22\n",
      "133   Jacqueline     Adams  2004-09-19\n",
      "134      Charles     Moore  2007-03-25\n",
      "135       Thomas   Jackson  2005-10-08\n",
      "\n",
      "[91 rows x 3 columns]\n"
     ]
    }
   ],
   "source": [
    "import pandas as pd\n",
    "\n",
    "df = pd.read_csv('emp.csv', on_bad_lines='skip', low_memory = False)\n",
    "filtered_df = df[df['JOB_ID'].isin(['SA_REP', 'SA_MAN'])]\n",
    "result = filtered_df[['FIRST_NAME', 'LAST_NAME', 'HIRE_DATE']]\n",
    "print(result)\n"
   ]
  },
  {
   "cell_type": "markdown",
   "id": "92a78fe8-4734-491a-bb53-e2f194cf6b33",
   "metadata": {},
   "source": [
    "# Resampling"
   ]
  },
  {
   "cell_type": "markdown",
   "id": "e15fe8fc-8fe3-4279-abb0-cd5172a8b9a3",
   "metadata": {},
   "source": [
    "#### 15. Write a Pandas program to calculate percentage change in Resampled data."
   ]
  },
  {
   "cell_type": "code",
   "execution_count": 83,
   "id": "ca7e5794-2668-48be-8683-69b320fdb567",
   "metadata": {},
   "outputs": [
    {
     "name": "stdout",
     "output_type": "stream",
     "text": [
      "                value\n",
      "date                 \n",
      "2025-01-01        NaN\n",
      "2025-01-02  10.000000\n",
      "2025-01-03   9.090909\n",
      "2025-01-04  -4.166667\n",
      "2025-01-05  13.043478\n",
      "2025-01-06   7.692308\n",
      "2025-01-07   7.142857\n"
     ]
    }
   ],
   "source": [
    "import pandas as pd\n",
    "\n",
    "data = {\n",
    "    'date': ['2025-01-01', '2025-01-02', '2025-01-03', '2025-01-04', '2025-01-05', \n",
    "             '2025-01-06', '2025-01-07'],\n",
    "    'value': [100, 110, 120, 115, 130, 140, 150]\n",
    "}\n",
    "\n",
    "df = pd.DataFrame(data)\n",
    "df['date'] = pd.to_datetime(df['date'])\n",
    "df.set_index('date', inplace=True)\n",
    "resampled_df = df.resample('D').mean()\n",
    "percentage_change = resampled_df.pct_change() * 100\n",
    "\n",
    "print(percentage_change)\n"
   ]
  },
  {
   "cell_type": "markdown",
   "id": "68fbb77d-caee-41ac-a21b-5b3839a68d8f",
   "metadata": {},
   "source": [
    "# Advanced Grouping and Aggregation"
   ]
  },
  {
   "cell_type": "markdown",
   "id": "6776105a-e297-4a64-b8d0-76c4106cf138",
   "metadata": {},
   "source": [
    "#### 15. Write a Pandas program to apply multiple aggregations with named functions in GroupBy for detailed data analysis."
   ]
  },
  {
   "cell_type": "code",
   "execution_count": 87,
   "id": "e8131a91-6740-4f11-abbc-ac2a64f6be74",
   "metadata": {},
   "outputs": [
    {
     "name": "stdout",
     "output_type": "stream",
     "text": [
      "            total_salary  average_salary  total_experience  average_experience\n",
      "Department                                                                    \n",
      "HR                115000         57500.0                 7                 3.5\n",
      "IT                150000         75000.0                15                 7.5\n",
      "Sales             110000         55000.0                11                 5.5\n"
     ]
    }
   ],
   "source": [
    "import pandas as pd\n",
    "\n",
    "data = {\n",
    "    'Department': ['Sales', 'Sales', 'IT', 'IT', 'HR', 'HR'],\n",
    "    'Employee': ['John', 'Anna', 'Peter', 'Linda', 'James', 'Robert'],\n",
    "    'Salary': [50000, 60000, 70000, 80000, 55000, 60000],\n",
    "    'Experience': [5, 6, 8, 7, 4, 3]\n",
    "}\n",
    "\n",
    "df = pd.DataFrame(data)\n",
    "\n",
    "grouped = df.groupby('Department').agg(\n",
    "    total_salary=('Salary', 'sum'),\n",
    "    average_salary=('Salary', 'mean'),\n",
    "    total_experience=('Experience', 'sum'),\n",
    "    average_experience=('Experience', 'mean')\n",
    ")\n",
    "\n",
    "print(grouped)\n"
   ]
  },
  {
   "cell_type": "markdown",
   "id": "d6c9c94f-050f-4f95-9e9c-6ebcbd983ea9",
   "metadata": {},
   "source": [
    "# IMDb Movie Queries"
   ]
  },
  {
   "cell_type": "markdown",
   "id": "50458ce7-d091-4563-a106-4c353461b68c",
   "metadata": {},
   "source": [
    "#### 17. Write a Pandas program to display the movies (title, number of votes) that received specified number of votes."
   ]
  },
  {
   "cell_type": "code",
   "execution_count": 91,
   "id": "a0936e77-574d-4000-9270-4e203e3de31a",
   "metadata": {},
   "outputs": [
    {
     "name": "stdout",
     "output_type": "stream",
     "text": [
      "     Movie  Votes\n",
      "0  Movie A   1500\n",
      "2  Movie C   1500\n",
      "4  Movie E   1500\n"
     ]
    }
   ],
   "source": [
    "import pandas as pd\n",
    "\n",
    "data = {\n",
    "    'Movie': ['Movie A', 'Movie B', 'Movie C', 'Movie D', 'Movie E'],\n",
    "    'Votes': [1500, 2000, 1500, 3000, 1500]\n",
    "}\n",
    "\n",
    "df = pd.DataFrame(data)\n",
    "\n",
    "specified_votes = 1500\n",
    "filtered_df = df[df['Votes'] == specified_votes]\n",
    "\n",
    "print(filtered_df[['Movie', 'Votes']])\n"
   ]
  },
  {
   "cell_type": "markdown",
   "id": "12f1d679-5ab8-402c-b7c2-df24e1e77d41",
   "metadata": {},
   "source": [
    "# Mastering numpy"
   ]
  },
  {
   "cell_type": "markdown",
   "id": "4c63ac93-38c7-4f18-ad6a-8cb9eaa0d23c",
   "metadata": {},
   "source": [
    "#### 13. Calculate the mean of values in each row."
   ]
  },
  {
   "cell_type": "code",
   "execution_count": 97,
   "id": "d366cef2-fbbc-4af0-8725-7a08cbd0f138",
   "metadata": {},
   "outputs": [
    {
     "name": "stdout",
     "output_type": "stream",
     "text": [
      "0    2.5\n",
      "1    3.5\n",
      "2    4.5\n",
      "dtype: float64\n"
     ]
    }
   ],
   "source": [
    "import pandas as pd\n",
    "data = {'X': [1, 2, 3], 'Y': [4, 5, 6]}\n",
    "df = pd.DataFrame(data)\n",
    "print(df.mean(axis=1))"
   ]
  },
  {
   "cell_type": "markdown",
   "id": "d281da4b-385b-4f02-8830-0c84bbc9721b",
   "metadata": {},
   "source": [
    "# Pandas Practice Set-1"
   ]
  },
  {
   "cell_type": "markdown",
   "id": "cb928993-f72c-473e-972c-71600a52d11b",
   "metadata": {},
   "source": [
    "#### 57. Write a Pandas program to read rows in positions 0 through 4 (exclusive) and all columns of diamonds DataFrame."
   ]
  },
  {
   "cell_type": "code",
   "execution_count": 101,
   "id": "e3364aaf-55fb-4534-8c92-21c3c8dafd20",
   "metadata": {},
   "outputs": [
    {
     "name": "stdout",
     "output_type": "stream",
     "text": [
      "   carat      cut color clarity  depth  table  price     x     y     z\n",
      "0   0.23    Ideal     E     SI2   61.5   55.0    326  3.95  3.98  2.43\n",
      "1   0.21  Premium     E     SI1   59.8   61.0    326  3.89  3.84  2.31\n",
      "2   0.23     Good     E     VS1   56.9   65.0    327  4.05  4.07  2.31\n",
      "3   0.29  Premium     I     VS2   62.4   58.0    334  4.20  4.23  2.63\n"
     ]
    }
   ],
   "source": [
    "import pandas as pd\n",
    "\n",
    "diamonds = pd.read_csv('diamond.csv')\n",
    "\n",
    "subset_df = diamonds.iloc[0:4, :]\n",
    "\n",
    "print(subset_df)\n"
   ]
  },
  {
   "cell_type": "markdown",
   "id": "76bc3bde-4388-497e-b334-589ac988c645",
   "metadata": {},
   "source": [
    "#### 63. Write a Pandas program to get sample 75% of the diamonds DataFrame's rows without replacement and store the remaining 25% of the rows in another DataFrame."
   ]
  },
  {
   "cell_type": "code",
   "execution_count": 106,
   "id": "c9ca0977-1d88-4df8-89f6-59f30eb8dbd3",
   "metadata": {},
   "outputs": [
    {
     "name": "stdout",
     "output_type": "stream",
     "text": [
      "Sampled DataFrame (75%):\n",
      "       carat        cut color clarity  depth  table  price     x     y     z\n",
      "1388    0.24      Ideal     G    VVS1   62.1   56.0    559  3.97  4.00  2.47\n",
      "50052   0.58  Very Good     F    VVS2   60.0   57.0   2201  5.44  5.42  3.26\n",
      "41645   0.40      Ideal     E    VVS2   62.1   55.0   1238  4.76  4.74  2.95\n",
      "42377   0.43    Premium     E    VVS2   60.8   57.0   1304  4.92  4.89  2.98\n",
      "17244   1.55      Ideal     E     SI2   62.3   55.0   6901  7.44  7.37  4.61\n",
      "...      ...        ...   ...     ...    ...    ...    ...   ...   ...   ...\n",
      "48565   0.50       Good     G    VVS2   64.4   57.0   1991  4.97  5.05  3.22\n",
      "12312   1.24      Ideal     I     SI2   61.9   57.0   5221  6.87  6.92  4.27\n",
      "18130   1.51    Premium     H     SI2   60.2   62.0   7340  7.43  7.38  4.46\n",
      "39846   0.51  Very Good     F     SI2   62.7   56.0   1100  5.07  5.10  3.19\n",
      "9114    1.02  Very Good     I     VS2   59.3   59.0   4532  6.56  6.60  3.90\n",
      "\n",
      "[40455 rows x 10 columns]\n",
      "\n",
      "Remaining DataFrame (25%):\n",
      "       carat        cut color clarity  depth  table  price     x     y     z\n",
      "2       0.23       Good     E     VS1   56.9   65.0    327  4.05  4.07  2.31\n",
      "9       0.23  Very Good     H     VS1   59.4   61.0    338  4.00  4.05  2.39\n",
      "10      0.30       Good     J     SI1   64.0   55.0    339  4.25  4.28  2.73\n",
      "12      0.22    Premium     F     SI1   60.4   61.0    342  3.88  3.84  2.33\n",
      "16      0.30      Ideal     I     SI2   62.0   54.0    348  4.31  4.34  2.68\n",
      "...      ...        ...   ...     ...    ...    ...    ...   ...   ...   ...\n",
      "53921   0.70  Very Good     E     VS2   62.8   60.0   2755  5.59  5.65  3.53\n",
      "53925   0.79      Ideal     I     SI1   61.6   56.0   2756  5.95  5.97  3.67\n",
      "53930   0.71    Premium     E     SI1   60.5   55.0   2756  5.79  5.74  3.49\n",
      "53935   0.72      Ideal     D     SI1   60.8   57.0   2757  5.75  5.76  3.50\n",
      "53937   0.70  Very Good     D     SI1   62.8   60.0   2757  5.66  5.68  3.56\n",
      "\n",
      "[13485 rows x 10 columns]\n"
     ]
    }
   ],
   "source": [
    "import pandas as pd\n",
    "\n",
    "diamonds = pd.read_csv('diamond.csv')\n",
    "\n",
    "sampled_df = diamonds.sample(frac=0.75, random_state=42)\n",
    "remaining_df = diamonds.drop(sampled_df.index)\n",
    "\n",
    "print(\"Sampled DataFrame (75%):\")\n",
    "print(sampled_df)\n",
    "print(\"\\nRemaining DataFrame (25%):\")\n",
    "print(remaining_df)\n"
   ]
  },
  {
   "cell_type": "markdown",
   "id": "1c3d0e93-bf01-4ea7-bd81-996042e2f16c",
   "metadata": {},
   "source": [
    "#### 38. Write a Pandas program to create a bar plot of the 'value_counts' for the 'cut' series of diamonds DataFrame."
   ]
  },
  {
   "cell_type": "code",
   "execution_count": 111,
   "id": "2e89f925-48d8-4b38-b931-3148ef93dc5f",
   "metadata": {},
   "outputs": [
    {
     "data": {
      "image/png": "[encoded data removed]",
      "text/plain": [
       "<Figure size 640x480 with 1 Axes>"
      ]
     },
     "metadata": {},
     "output_type": "display_data"
    }
   ],
   "source": [
    "import pandas as pd\n",
    "import matplotlib.pyplot as plt\n",
    "\n",
    "diamonds = pd.read_csv('diamond.csv')\n",
    "cut_counts = diamonds['cut'].value_counts()\n",
    "cut_counts.plot(kind='bar', color='skyblue', edgecolor='black')\n",
    "\n",
    "plt.title('Bar Plot of Value Counts for the \"cut\" Series')\n",
    "plt.xlabel('Cut')\n",
    "plt.ylabel('Count')\n",
    "\n",
    "plt.show()\n"
   ]
  },
  {
   "cell_type": "code",
   "execution_count": null,
   "id": "71de07e9-907f-432f-9e90-6b94fd47a70e",
   "metadata": {},
   "outputs": [],
   "source": []
  }
 ],
 "metadata": {
  "kernelspec": {
   "display_name": "Python [conda env:base] *",
   "language": "python",
   "name": "conda-base-py"
  },
  "language_info": {
   "codemirror_mode": {
    "name": "ipython",
    "version": 3
   },
   "file_extension": ".py",
   "mimetype": "text/x-python",
   "name": "python",
   "nbconvert_exporter": "python",
   "pygments_lexer": "ipython3",
   "version": "3.12.7"
  }
 },
 "nbformat": 4,
 "nbformat_minor": 5
}
