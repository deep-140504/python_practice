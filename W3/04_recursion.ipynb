{
 "cells": [
  {
   "cell_type": "markdown",
   "id": "54bde8ef-2b15-4857-b478-da108fa467ef",
   "metadata": {},
   "source": [
    "#### 3. Write a Python program to sum recursion lists using recursion."
   ]
  },
  {
   "cell_type": "code",
   "execution_count": 18,
   "id": "6405db46-89ac-4bfb-b8f2-852f750a7956",
   "metadata": {},
   "outputs": [
    {
     "name": "stdout",
     "output_type": "stream",
     "text": [
      "34\n",
      "34\n"
     ]
    }
   ],
   "source": [
    "def fun_lst(arr):\n",
    "    return solution1(arr)\n",
    "\n",
    "def solution1(arr, i = 0):\n",
    "    if(i == len(arr)):\n",
    "        return 0\n",
    "    if(type(arr[i]) == type([])):\n",
    "       return fun_lst(arr[i]) + solution1(arr, i + 1)\n",
    "    else:\n",
    "        return arr[i] + solution1(arr, i + 1)\n",
    "\n",
    "def solution2(arr, i = 0):\n",
    "    if(i == len(arr)):\n",
    "        return 0\n",
    "    if(type(arr[i]) == type([])):\n",
    "        return solution2(arr[i]) + solution2(arr, i + 1)\n",
    "    else:\n",
    "        return arr[i] + solution2(arr, i + 1)\n",
    "\n",
    "arr = [1, 2, [3,4,[5,5,[1,2]]], [5,6]]\n",
    "print(solution1(arr, 0))\n",
    "print(solution2(arr, 0))"
   ]
  },
  {
   "cell_type": "markdown",
   "id": "ac854f93-7631-4bbe-9f84-5c83ca2470ec",
   "metadata": {},
   "source": [
    "#### 6. Write a Python program to get the sum of a non-negative integer using recursion."
   ]
  },
  {
   "cell_type": "code",
   "execution_count": 25,
   "id": "35436201-249c-438f-9c73-18c4936a47b2",
   "metadata": {},
   "outputs": [
    {
     "name": "stdout",
     "output_type": "stream",
     "text": [
      "12\n"
     ]
    }
   ],
   "source": [
    "def fun(n):\n",
    "    if(n == 0):\n",
    "        return 0\n",
    "    return n % 10 + fun(n // 10)\n",
    "n = 1234\n",
    "n = 345\n",
    "print(fun(n))"
   ]
  },
  {
   "cell_type": "code",
   "execution_count": null,
   "id": "957a4d2f-50ab-4895-8827-5d76f3c4fbe3",
   "metadata": {},
   "outputs": [],
   "source": []
  }
 ],
 "metadata": {
  "kernelspec": {
   "display_name": "Python [conda env:base] *",
   "language": "python",
   "name": "conda-base-py"
  },
  "language_info": {
   "codemirror_mode": {
    "name": "ipython",
    "version": 3
   },
   "file_extension": ".py",
   "mimetype": "text/x-python",
   "name": "python",
   "nbconvert_exporter": "python",
   "pygments_lexer": "ipython3",
   "version": "3.12.7"
  }
 },
 "nbformat": 4,
 "nbformat_minor": 5
}
