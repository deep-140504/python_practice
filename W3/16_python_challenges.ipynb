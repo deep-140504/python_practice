{
 "cells": [
  {
   "cell_type": "markdown",
   "id": "4fdee0cb-6123-499a-b46b-e3c4a2e9187b",
   "metadata": {},
   "source": [
    "#### 49. Write a Python program to find the index of the first term in the Fibonacci sequence to contain 500 digits."
   ]
  },
  {
   "cell_type": "code",
   "execution_count": 12,
   "id": "4bb42c9d-d3c8-4836-91a1-b60374bc2e0d",
   "metadata": {},
   "outputs": [
    {
     "name": "stdout",
     "output_type": "stream",
     "text": [
      "2389\n"
     ]
    }
   ],
   "source": [
    "fib = [1, 1]\n",
    "def fun():\n",
    "    i = 2\n",
    "    while True:\n",
    "        a = fib[i - 1] \n",
    "        b = fib[i - 2]\n",
    "        fib.append(a + b)\n",
    "        if(len(str(fib[i])) == 500):\n",
    "            print(i)\n",
    "            break\n",
    "        i = i + 1\n",
    "fun()\n",
    "# print(fib)"
   ]
  },
  {
   "cell_type": "markdown",
   "id": "88e34c7a-852d-46a6-ab61-09c67700cc89",
   "metadata": {},
   "source": [
    "#### 59. Starting with the number 1 and moving to the right in a clockwise direction a 5 by 5 spiral is formed as follows"
   ]
  },
  {
   "cell_type": "markdown",
   "id": "177f1376-3a93-45b5-9840-73831cdad337",
   "metadata": {},
   "source": [
    "#### Solution 1"
   ]
  },
  {
   "cell_type": "code",
   "execution_count": 176,
   "id": "88b234b8-ac43-47f9-abfa-280e183d84f5",
   "metadata": {},
   "outputs": [
    {
     "name": "stdout",
     "output_type": "stream",
     "text": [
      "669171001\n"
     ]
    }
   ],
   "source": [
    "def fun(n):\n",
    "    s1, fs1, ans1 = 1, 2, 1\n",
    "    fs2, curr, ans2 = 4, 1, 0\n",
    "    \n",
    "    for i in range(1, n):\n",
    "        s1 += fs1\n",
    "        fs1 += 2\n",
    "        ans1 += s1\n",
    "    \n",
    "    for i in range(n // 2):\n",
    "        a = curr + fs2\n",
    "        b = curr + fs2 * 2\n",
    "        fs2 += 4\n",
    "        curr = b\n",
    "        ans2 += a + b\n",
    "    \n",
    "    return ans1 + ans2\n",
    "\n",
    "# n = 7\n",
    "n = 1001\n",
    "print(fun(n))\n"
   ]
  },
  {
   "cell_type": "markdown",
   "id": "06d43c3b-9592-4d1b-832f-f65d99d95573",
   "metadata": {},
   "source": [
    "#### Solution 2"
   ]
  },
  {
   "cell_type": "code",
   "execution_count": 168,
   "id": "a82f9d7a-b80d-421f-8eac-8761da9e0335",
   "metadata": {},
   "outputs": [
    {
     "name": "stdout",
     "output_type": "stream",
     "text": [
      "669171001\n"
     ]
    }
   ],
   "source": [
    "def fun(n):\n",
    "    traversals = n // 2 + 1\n",
    "    temp = 1\n",
    "    ans = 1\n",
    "    for i in range(1, traversals):\n",
    "        f = (i) * 2\n",
    "        for j in range(4):\n",
    "            temp = temp + f\n",
    "            ans += temp\n",
    "    return (ans)\n",
    "n = 1001\n",
    "print(fun(n))"
   ]
  },
  {
   "cell_type": "code",
   "execution_count": null,
   "id": "f4e33311-78f4-4498-8577-06f855b5482f",
   "metadata": {},
   "outputs": [],
   "source": []
  },
  {
   "cell_type": "code",
   "execution_count": null,
   "id": "e6833699-c536-42e0-a318-b7638a8db8cd",
   "metadata": {},
   "outputs": [],
   "source": []
  },
  {
   "cell_type": "markdown",
   "id": "5737bafe-fce6-4813-8f10-ab6a400db9d3",
   "metadata": {},
   "source": [
    "#### 51. Write a Python program that takes a string of numbers and letters and return string which consists of letters."
   ]
  },
  {
   "cell_type": "code",
   "execution_count": 174,
   "id": "4293dae8-70d3-4913-a551-f02546109a8f",
   "metadata": {},
   "outputs": [
    {
     "name": "stdout",
     "output_type": "stream",
     "text": [
      "AAAABBBCCDAA\n",
      "AAAABBBCCDAAA\n",
      "PHP\n",
      "AAAABBBCCCDAABDAAAAC\n",
      "AABBBCCCC\n"
     ]
    }
   ],
   "source": [
    "def decode(encoded_str):\n",
    "    digits = \"1234567890\"\n",
    "    \n",
    "    repeat_count = \"\"\n",
    "    letters = \"\"\n",
    "    decoded_str = \"\"\n",
    "\n",
    "    index = 0\n",
    "\n",
    "    for char in encoded_str:\n",
    "        if char not in digits and not char.isalpha():\n",
    "            return \"Invalid character detected. Please use digits and letters only.\"\n",
    "\n",
    "    while index < len(encoded_str):\n",
    "        if encoded_str[index] in digits:\n",
    "            repeat_count += encoded_str[index]\n",
    "        else:\n",
    "            letters += encoded_str[index]\n",
    "        index += 1\n",
    "\n",
    "    for i, letter in enumerate(letters):\n",
    "        count = int(repeat_count[i]) if i < len(repeat_count) else 1\n",
    "        decoded_str += letter * count\n",
    "\n",
    "    return decoded_str\n",
    "\n",
    "\n",
    "print(decode(\"4A3B2C1D2A\"))\n",
    "print(decode(\"4A3B2C1D3A\"))\n",
    "print(decode(\"1P1H1P\"))\n",
    "print(decode(\"4A3B3C1D2A1B1D4A1C\"))\n",
    "print(decode(\"2A3B4C\"))\n"
   ]
  },
  {
   "cell_type": "code",
   "execution_count": null,
   "id": "24765459-19b3-4dd9-9848-f1e3ce7fccfe",
   "metadata": {},
   "outputs": [],
   "source": []
  }
 ],
 "metadata": {
  "kernelspec": {
   "display_name": "Python [conda env:base] *",
   "language": "python",
   "name": "conda-base-py"
  },
  "language_info": {
   "codemirror_mode": {
    "name": "ipython",
    "version": 3
   },
   "file_extension": ".py",
   "mimetype": "text/x-python",
   "name": "python",
   "nbconvert_exporter": "python",
   "pygments_lexer": "ipython3",
   "version": "3.12.7"
  }
 },
 "nbformat": 4,
 "nbformat_minor": 5
}
