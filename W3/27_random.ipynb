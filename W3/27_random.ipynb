{
 "cells": [
  {
   "cell_type": "markdown",
   "id": "fe3c4e81-7ba4-4353-93b9-e8e60d3e140c",
   "metadata": {},
   "source": [
    "#### 16. Write a NumPy program to get the n largest values of an array."
   ]
  },
  {
   "cell_type": "code",
   "execution_count": 2,
   "id": "87671a8f-bf8e-432d-9b4b-b0f71615916e",
   "metadata": {},
   "outputs": [
    {
     "name": "stdout",
     "output_type": "stream",
     "text": [
      "Original array:\n",
      "[0.85117792 0.29422795 0.4285353  0.22972206 0.78465448 0.24176059\n",
      " 0.39256099 0.13913393 0.41386818 0.02489837]\n",
      "1 largest value(s):\n",
      "[0.85117792]\n"
     ]
    }
   ],
   "source": [
    "import numpy as np\n",
    "\n",
    "arr = np.random.random(10)\n",
    "n = 1\n",
    "n_largest_values = np.partition(arr, -n)[-n:]\n",
    "\n",
    "print(\"Original array:\")\n",
    "print(arr)\n",
    "print(f\"{n} largest value(s):\")\n",
    "print(n_largest_values)\n"
   ]
  },
  {
   "cell_type": "code",
   "execution_count": null,
   "id": "cb824b49-a7f7-4b41-8961-b22c9ea83b35",
   "metadata": {},
   "outputs": [],
   "source": []
  }
 ],
 "metadata": {
  "kernelspec": {
   "display_name": "Python [conda env:base] *",
   "language": "python",
   "name": "conda-base-py"
  },
  "language_info": {
   "codemirror_mode": {
    "name": "ipython",
    "version": 3
   },
   "file_extension": ".py",
   "mimetype": "text/x-python",
   "name": "python",
   "nbconvert_exporter": "python",
   "pygments_lexer": "ipython3",
   "version": "3.12.7"
  }
 },
 "nbformat": 4,
 "nbformat_minor": 5
}
