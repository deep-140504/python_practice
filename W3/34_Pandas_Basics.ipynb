{
 "cells": [
  {
   "cell_type": "markdown",
   "id": "fcbf8aa2-8ca2-4945-bfbe-abbc405247e5",
   "metadata": {
    "jp-MarkdownHeadingCollapsed": true
   },
   "source": [
    "# Learning"
   ]
  },
  {
   "cell_type": "code",
   "execution_count": 170,
   "id": "06144b5f-cac3-4224-98f2-c60f0118e57b",
   "metadata": {},
   "outputs": [
    {
     "name": "stdout",
     "output_type": "stream",
     "text": [
      "  name  age\n",
      "0    a    1\n",
      "1    b    2\n",
      "2    c    3\n"
     ]
    }
   ],
   "source": [
    "import pandas as pd\n",
    "arr = {'name': ['a', 'b', 'c'], 'age': [1, 2, 3]}\n",
    "print(pd.DataFrame(arr))"
   ]
  },
  {
   "cell_type": "code",
   "execution_count": 172,
   "id": "3aa2851c-169e-4262-81b1-845bdafb5ad3",
   "metadata": {},
   "outputs": [
    {
     "name": "stdout",
     "output_type": "stream",
     "text": [
      "1    a\n",
      "2    b\n",
      "3    c\n",
      "4    d\n",
      "5    e\n",
      "Name: panda series, dtype: object\n",
      "0    a\n",
      "1    b\n",
      "2    c\n",
      "3    d\n",
      "4    e\n",
      "dtype: object\n"
     ]
    }
   ],
   "source": [
    "import pandas as pd\n",
    "arr = pd.Series( ['a', 'b', 'c', 'd', 'e'], index = [1, 2, 3, 4, 5], name = \"panda series\")\n",
    "print(arr)\n",
    "brr = pd.Series( ['a', 'b', 'c', 'd', 'e']) # taking the default indexing as 0, 1, 2 .......\n",
    "print(brr)"
   ]
  },
  {
   "cell_type": "markdown",
   "id": "0fa9e980-00e0-4b05-9646-4b333b56e952",
   "metadata": {
    "jp-MarkdownHeadingCollapsed": true
   },
   "source": [
    "# Pandas Data Series "
   ]
  },
  {
   "cell_type": "markdown",
   "id": "acb0db3f-21fa-43fa-af45-c2d9aa1a9eb6",
   "metadata": {},
   "source": [
    "#### 1. Write a Pandas program to create and display a one-dimensional array-like object containing an array of data using Pandas module."
   ]
  },
  {
   "cell_type": "code",
   "execution_count": 174,
   "id": "fdf4caeb-1aab-40a3-89e2-f46cc69664b9",
   "metadata": {},
   "outputs": [
    {
     "name": "stdout",
     "output_type": "stream",
     "text": [
      "0    x\n",
      "1    y\n",
      "2    z\n",
      "dtype: object\n"
     ]
    }
   ],
   "source": [
    "import pandas as pd\n",
    "# df = pd.DataFrame({'name': ['x', 'y', 'z'], 'age': [1, 2, 3]})\n",
    "df = pd.Series(['x', 'y', 'z'])\n",
    "print(df)\n",
    "# so to display array like object containing an array of data, use Series"
   ]
  },
  {
   "cell_type": "markdown",
   "id": "a2921d56-1286-47d1-9d93-44391ce19579",
   "metadata": {},
   "source": [
    "#### 3. Write a Pandas program to add, subtract, multiple and divide two Pandas Series."
   ]
  },
  {
   "cell_type": "code",
   "execution_count": 176,
   "id": "cfe7668b-b38e-4543-b1c8-846327d52f7e",
   "metadata": {},
   "outputs": [
    {
     "name": "stdout",
     "output_type": "stream",
     "text": [
      "0    5\n",
      "1    7\n",
      "2    9\n",
      "dtype: int64\n",
      "0    3\n",
      "1    3\n",
      "2    3\n",
      "dtype: int64\n",
      "0     16\n",
      "1    100\n",
      "2    324\n",
      "dtype: int64\n",
      "0    0.25\n",
      "1    0.40\n",
      "2    0.50\n",
      "dtype: float64\n"
     ]
    }
   ],
   "source": [
    "import pandas as pd\n",
    "s1 = pd.Series([1, 2, 3])\n",
    "s2 = pd.Series([4, 5, 6])\n",
    "print(s1 + s2)\n",
    "print(abs(s1 - s2))\n",
    "print((s1 * s2) ** 2)\n",
    "print(s1 / s2)"
   ]
  },
  {
   "cell_type": "markdown",
   "id": "c403954d-771b-4d79-8c64-b03c891a9ba5",
   "metadata": {},
   "source": [
    "#### 5. Write a Pandas program to convert a dictionary to a Pandas series."
   ]
  },
  {
   "cell_type": "code",
   "execution_count": 50,
   "id": "54969bb0-689d-4cc0-9049-116a699a5171",
   "metadata": {},
   "outputs": [
    {
     "name": "stdout",
     "output_type": "stream",
     "text": [
      "a    100\n",
      "b    200\n",
      "c    300\n",
      "d    400\n",
      "e    800\n",
      "dtype: int64\n"
     ]
    }
   ],
   "source": [
    "import pandas as pd\n",
    "dct = {'a': 100, 'b': 200, 'c': 300, 'd': 400, 'e': 800}\n",
    "sr = pd.Series(dct)\n",
    "print(sr)"
   ]
  },
  {
   "cell_type": "markdown",
   "id": "5f724c7f-bed3-4642-83cb-f6d859bf68bd",
   "metadata": {},
   "source": [
    "#### 8. Write a Pandas program to convert the first column of a DataFrame as a Series."
   ]
  },
  {
   "cell_type": "code",
   "execution_count": 57,
   "id": "be753cb8-017c-4a26-9bd2-b1c66a36465d",
   "metadata": {},
   "outputs": [
    {
     "name": "stdout",
     "output_type": "stream",
     "text": [
      "   a  b\n",
      "0  1  4\n",
      "1  2  5\n",
      "2  3  6\n",
      "\n",
      "0    1\n",
      "1    2\n",
      "2    3\n",
      "Name: a, dtype: int64\n"
     ]
    }
   ],
   "source": [
    "import pandas as pd\n",
    "df = pd.DataFrame({'a': [1, 2, 3], 'b': [4, 5, 6]})\n",
    "print(df)\n",
    "df_series = df.iloc[:, 0]\n",
    "print()\n",
    "print(df_series)"
   ]
  },
  {
   "cell_type": "markdown",
   "id": "1b84cb36-4fad-459b-9ec1-e9d2a105e7e3",
   "metadata": {},
   "source": [
    "#### 40. Write a Pandas program to check inequality over the index axis of a given dataframe and a given series."
   ]
  },
  {
   "cell_type": "code",
   "execution_count": 153,
   "id": "9ff7a728-360c-4423-82d2-9956d17e6434",
   "metadata": {},
   "outputs": [
    {
     "name": "stdout",
     "output_type": "stream",
     "text": [
      "DataFrame:\n",
      "      W     X     Y     Z\n",
      "0  80.0  78.0  84.0  86.0\n",
      "1  86.0  75.0   NaN  97.0\n",
      "2  75.0   NaN  90.0  96.0\n",
      "3  68.0  80.0  86.0   NaN\n",
      "4   NaN  86.0  86.0  83.0\n",
      "\n",
      "Series:\n",
      "0    68.0\n",
      "1    75.0\n",
      "2    86.0\n",
      "3    80.0\n",
      "4     NaN\n",
      "dtype: float64\n",
      "\n",
      "Comparison result:\n",
      "      W      X     Y     Z\n",
      "0  True   True  True  True\n",
      "1  True  False  True  True\n",
      "2  True   True  True  True\n",
      "3  True  False  True  True\n"
     ]
    }
   ],
   "source": [
    "import pandas as pd\n",
    "\n",
    "dct1 = {'W': [80.0, 86.0, 75.0, 68.0, None], 'X': [78, 75, None, 80, 86], \n",
    "        'Y': [84, None, 90, 86, 86], 'Z': [86, 97, 96, None, 83]}\n",
    "df = pd.DataFrame(dct1)\n",
    "print(\"DataFrame:\")\n",
    "print(df)\n",
    "\n",
    "sr1 = pd.Series([68, 75, 86, 80, None])\n",
    "print(\"\\nSeries:\")\n",
    "print(sr1)\n",
    "\n",
    "lst = []\n",
    "for i in range(len(dct1)):\n",
    "    row_comparison = []\n",
    "    for col in df.columns:\n",
    "        if pd.isna(df.loc[i, col]) and pd.isna(sr1[i]):\n",
    "            row_comparison.append(False)\n",
    "        else:\n",
    "            row_comparison.append(df.loc[i, col] != sr1[i])\n",
    "    lst.append(row_comparison)\n",
    "\n",
    "ans = pd.DataFrame(lst, columns=df.columns)\n",
    "print(\"\\nComparison result:\")\n",
    "print(ans)\n"
   ]
  },
  {
   "cell_type": "markdown",
   "id": "2de15e1b-fff2-418c-8b45-be39688c7bdc",
   "metadata": {},
   "source": [
    "#### 33. Write a Pandas program to replace missing white spaces in a given string with the least frequent character."
   ]
  },
  {
   "cell_type": "code",
   "execution_count": 101,
   "id": "b89d157a-6a43-40d7-b107-e1dd781f24da",
   "metadata": {},
   "outputs": [
    {
     "name": "stdout",
     "output_type": "stream",
     "text": [
      "Original series:\n",
      "c    3\n",
      "     3\n",
      "d    3\n",
      "a    2\n",
      "b    2\n",
      "e    2\n",
      "f    2\n",
      "i    1\n",
      "Name: count, dtype: int64\n",
      "\n",
      "Modified string: abcidefiabcdefiicd\n"
     ]
    }
   ],
   "source": [
    "import pandas as pd\n",
    "\n",
    "input_string = \"abc def abcdef icd\"\n",
    "char_series = pd.Series(list(input_string))\n",
    "freq = char_series.value_counts()\n",
    "least_frequent_char = freq.idxmin()\n",
    "result = char_series.replace(' ', least_frequent_char)\n",
    "output_string = ''.join(result)\n",
    "\n",
    "print(\"Original series:\")\n",
    "print(char_series.value_counts())\n",
    "print(\"\\nModified string:\", output_string)"
   ]
  },
  {
   "cell_type": "markdown",
   "id": "8f57708c-2be5-498b-8d2c-0cc357002a0f",
   "metadata": {
    "jp-MarkdownHeadingCollapsed": true
   },
   "source": [
    "# Pandas DataFrame"
   ]
  },
  {
   "cell_type": "markdown",
   "id": "b282cb6d-7a30-465e-9a0c-c325beaa610f",
   "metadata": {},
   "source": [
    "#### 9. Write a Pandas program to select the rows where the score is missing, i.e. is NaN."
   ]
  },
  {
   "cell_type": "code",
   "execution_count": 178,
   "id": "cca68d19-8b2a-48a2-943e-41cf3a02fed5",
   "metadata": {},
   "outputs": [
    {
     "name": "stdout",
     "output_type": "stream",
     "text": [
      "        name  score  attempts qualify\n",
      "a  Anastasia   12.5         1     yes\n",
      "b       Dima    9.0         3      no\n",
      "c  Katherine   16.5         2     yes\n",
      "d      James    NaN         3      no\n",
      "e      Emily    9.0         2      no\n",
      "f    Michael   20.0         3     yes\n",
      "g    Matthew   14.5         1     yes\n",
      "h      Laura    NaN         1      no\n",
      "i      Kevin    8.0         2      no\n",
      "j      Jonas   19.0         1     yes\n",
      "----------------------------------------\n",
      "    name  score  attempts qualify\n",
      "d  James    NaN         3      no\n",
      "h  Laura    NaN         1      no\n"
     ]
    }
   ],
   "source": [
    "import pandas as pd\n",
    "import numpy as np\n",
    "exam_data = {'name': ['Anastasia', 'Dima', 'Katherine', 'James', 'Emily', 'Michael', 'Matthew', 'Laura', 'Kevin', 'Jonas'],\n",
    "             'score': [12.5, 9, 16.5, np.nan, 9, 20, 14.5, np.nan, 8, 19],\n",
    "             'attempts': [1, 3, 2, 3, 2, 3, 1, 1, 2, 1],\n",
    "             'qualify': ['yes', 'no', 'yes', 'no', 'no', 'yes', 'yes', 'no', 'no', 'yes']}\n",
    "labels = ['a', 'b', 'c', 'd', 'e', 'f', 'g', 'h', 'i', 'j']\n",
    "df = pd.DataFrame(exam_data, index = labels)\n",
    "print(df, end = \"\\n\" + \"-\"*40 + \"\\n\")\n",
    "unavailable_score = df[df['score'].isna()]\n",
    "print(unavailable_score)"
   ]
  },
  {
   "cell_type": "markdown",
   "id": "269ca41c-9f15-42bc-b86b-764adfe989e6",
   "metadata": {},
   "source": [
    "#### 16. Write a Pandas program to sort the DataFrame first by 'name' in descending order, then by 'score' in ascending order."
   ]
  },
  {
   "cell_type": "code",
   "execution_count": 137,
   "id": "c2e35245-bf32-4c11-97d3-c5893a47ee60",
   "metadata": {},
   "outputs": [
    {
     "name": "stdout",
     "output_type": "stream",
     "text": [
      "        name  score  attempts qualify\n",
      "a  Anastasia   12.5         1     yes\n",
      "b       Dima    9.0         3      no\n",
      "c  Katherine   16.5         2     yes\n",
      "d      James    NaN         3      no\n",
      "e      Emily    9.0         2      no\n",
      "f    Michael   20.0         3     yes\n",
      "g    Matthew   14.5         1     yes\n",
      "h      Laura    NaN         1      no\n",
      "i        Max   10.0         1      no\n",
      "j      Kevin    8.0         2      no\n",
      "k      Jonas   19.0         1     yes\n",
      "l     Suresh   15.5         1     yes\n",
      "        name  score  attempts qualify\n",
      "l     Suresh   15.5         1     yes\n",
      "f    Michael   20.0         3     yes\n",
      "i        Max   10.0         1      no\n",
      "g    Matthew   14.5         1     yes\n",
      "h      Laura    NaN         1      no\n",
      "j      Kevin    8.0         2      no\n",
      "c  Katherine   16.5         2     yes\n",
      "k      Jonas   19.0         1     yes\n",
      "d      James    NaN         3      no\n",
      "e      Emily    9.0         2      no\n",
      "b       Dima    9.0         3      no\n",
      "a  Anastasia   12.5         1     yes\n"
     ]
    }
   ],
   "source": [
    "import pandas as pd\n",
    "exam_data = {'name': ['Anastasia', 'Dima', 'Katherine', 'James', 'Emily', 'Michael', \n",
    "                      'Matthew', 'Laura', 'Max', 'Kevin', 'Jonas', 'Suresh'],\n",
    "             'score': [12.5, 9, 16.5, np.nan, 9, 20, 14.5, np.nan, 10, 8, 19, 15.5],\n",
    "             'attempts': [1, 3, 2, 3, 2, 3, 1, 1, 1, 2, 1, 1],\n",
    "             'qualify': ['yes', 'no', 'yes', 'no', 'no', 'yes', 'yes', 'no', 'no', 'no', 'yes', 'yes']}\n",
    "labels = ['a', 'b', 'c', 'd', 'e', 'f', 'g', 'h', 'i', 'j', 'k', 'l']\n",
    "\n",
    "df = pd.DataFrame(exam_data, index = labels)\n",
    "print(df)\n",
    "\n",
    "sorted_df = df.sort_values(by=['name', 'score'], ascending=[False, True])\n",
    "print(sorted_df)"
   ]
  },
  {
   "cell_type": "markdown",
   "id": "55d6e8b2-5cb1-4144-b9d2-49283daa0e72",
   "metadata": {},
   "source": [
    "#### 40. Write a Pandas program to shuffle a given DataFrame rows."
   ]
  },
  {
   "cell_type": "code",
   "execution_count": 133,
   "id": "e6b61c65-5376-47a2-85e5-90e03d053fee",
   "metadata": {},
   "outputs": [
    {
     "name": "stdout",
     "output_type": "stream",
     "text": [
      "Original DataFrame:\n",
      "        name  score\n",
      "a  Anastasia   12.5\n",
      "b       Dima    9.0\n",
      "c  Katherine   16.5\n",
      "d      James    9.0\n",
      "e      Emily    8.0\n",
      "\n",
      "Shuffled DataFrame:\n",
      "        name  score\n",
      "0  Katherine   16.5\n",
      "1       Dima    9.0\n",
      "2      James    9.0\n",
      "3  Anastasia   12.5\n",
      "4      Emily    8.0\n"
     ]
    }
   ],
   "source": [
    "import pandas as pd\n",
    "\n",
    "exam_data = {'name': ['Anastasia', 'Dima', 'Katherine', 'James', 'Emily'],\n",
    "             'score': [12.5, 9, 16.5, 9, 8]}\n",
    "labels = ['a', 'b', 'c', 'd', 'e']\n",
    "\n",
    "df = pd.DataFrame(exam_data, index=labels)\n",
    "\n",
    "print(\"Original DataFrame:\")\n",
    "print(df)\n",
    "\n",
    "df_shuffled = df.sample(frac=1).reset_index(drop=True)\n",
    "\n",
    "print(\"\\nShuffled DataFrame:\")\n",
    "print(df_shuffled)"
   ]
  },
  {
   "cell_type": "markdown",
   "id": "98412274-4d39-466e-b3a0-4f70476b1199",
   "metadata": {},
   "source": [
    "#### 17. Replace the 'qualify' column values from 'yes'/'no' to True/False"
   ]
  },
  {
   "cell_type": "code",
   "execution_count": 180,
   "id": "95c7ecd8-2b0e-438d-88f5-5ba47bce3e52",
   "metadata": {},
   "outputs": [
    {
     "name": "stdout",
     "output_type": "stream",
     "text": [
      "Replace 'yes'/'no' with True/False:\n",
      "        name  score  attempts  qualify\n",
      "a  Anastasia   12.5         1     True\n",
      "b       Dima    9.0         3    False\n",
      "c  Katherine   16.5         2     True\n",
      "d      James    NaN         3    False\n",
      "e      Emily    9.0         2    False\n",
      "f    Michael   20.0         3     True\n",
      "g    Matthew   14.5         1     True\n",
      "h      Laura    NaN         1    False\n",
      "i      Kevin    8.0         2    False\n",
      "j      Jonas   19.0         1     True\n"
     ]
    },
    {
     "name": "stderr",
     "output_type": "stream",
     "text": [
      "C:\\Users\\DeepADabhi\\AppData\\Local\\Temp\\ipykernel_2280\\1230947202.py:2: FutureWarning: Downcasting behavior in `replace` is deprecated and will be removed in a future version. To retain the old behavior, explicitly call `result.infer_objects(copy=False)`. To opt-in to the future behavior, set `pd.set_option('future.no_silent_downcasting', True)`\n",
      "  df['qualify'] = df['qualify'].replace({'yes': True, 'no': False}).astype(bool)\n"
     ]
    }
   ],
   "source": [
    "# df['qualify'] = df['qualify'].replace({'yes': True, 'no': False}) this dows not woek\n",
    "df['qualify'] = df['qualify'].replace({'yes': True, 'no': False}).astype(bool)\n",
    "print(\"Replace 'yes'/'no' with True/False:\")\n",
    "print(df)\n",
    "\n"
   ]
  },
  {
   "cell_type": "markdown",
   "id": "9fdb9991-fdcc-4cc7-a30b-168054e6b88d",
   "metadata": {},
   "source": [
    "#### 21. Write a Pandas program to iterate over rows in a DataFrame."
   ]
  },
  {
   "cell_type": "code",
   "execution_count": 149,
   "id": "9a0ac5b8-eced-4c22-889e-ff81d9ba5329",
   "metadata": {},
   "outputs": [
    {
     "name": "stdout",
     "output_type": "stream",
     "text": [
      "Anastasia 12.5\n",
      "Dima 9.0\n",
      "Katherine 16.5\n",
      "James nan\n",
      "Emily 9.0\n",
      "Michael 20.0\n",
      "Matthew 14.5\n",
      "Laura nan\n",
      "Max 10.0\n",
      "Kevin 8.0\n",
      "Jonas 19.0\n",
      "Suresh 15.5\n"
     ]
    }
   ],
   "source": [
    "for index, value in df.iterrows():\n",
    "    print(value['name'], value['score'])"
   ]
  },
  {
   "cell_type": "code",
   "execution_count": null,
   "id": "e1a264c3-1292-4f86-96b4-e47c11a7be7b",
   "metadata": {},
   "outputs": [],
   "source": []
  },
  {
   "cell_type": "code",
   "execution_count": 156,
   "id": "94453312-cf3b-428a-a046-1990d1c891cc",
   "metadata": {},
   "outputs": [
    {
     "name": "stdout",
     "output_type": "stream",
     "text": [
      "Value of Row 0:\n",
      " W    80.0\n",
      "X    78.0\n",
      "Y    84.0\n",
      "Z    86.0\n",
      "Name: 0, dtype: float64\n",
      "Value of Row 3:\n",
      " W    68.0\n",
      "X    80.0\n",
      "Y    86.0\n",
      "Z     NaN\n",
      "Name: 3, dtype: float64\n"
     ]
    }
   ],
   "source": [
    "row_value_0 = df.loc[0]\n",
    "row_value_3 = df.loc[3]\n",
    "\n",
    "print(\"Value of Row 0:\\n\", row_value_0)\n",
    "print(\"Value of Row 3:\\n\", row_value_3)\n"
   ]
  },
  {
   "cell_type": "code",
   "execution_count": 182,
   "id": "861d19b5-837e-4677-a4c0-ea4780cb98a0",
   "metadata": {},
   "outputs": [
    {
     "data": {
      "text/html": [
       "<div>\n",
       "<style scoped>\n",
       "    .dataframe tbody tr th:only-of-type {\n",
       "        vertical-align: middle;\n",
       "    }\n",
       "\n",
       "    .dataframe tbody tr th {\n",
       "        vertical-align: top;\n",
       "    }\n",
       "\n",
       "    .dataframe thead th {\n",
       "        text-align: right;\n",
       "    }\n",
       "</style>\n",
       "<table border=\"1\" class=\"dataframe\">\n",
       "  <thead>\n",
       "    <tr style=\"text-align: right;\">\n",
       "      <th></th>\n",
       "      <th>name</th>\n",
       "      <th>score</th>\n",
       "      <th>attempts</th>\n",
       "      <th>qualify</th>\n",
       "    </tr>\n",
       "  </thead>\n",
       "  <tbody>\n",
       "    <tr>\n",
       "      <th>a</th>\n",
       "      <td>Anastasia</td>\n",
       "      <td>12.5</td>\n",
       "      <td>1</td>\n",
       "      <td>True</td>\n",
       "    </tr>\n",
       "    <tr>\n",
       "      <th>b</th>\n",
       "      <td>Dima</td>\n",
       "      <td>9.0</td>\n",
       "      <td>3</td>\n",
       "      <td>False</td>\n",
       "    </tr>\n",
       "    <tr>\n",
       "      <th>c</th>\n",
       "      <td>Katherine</td>\n",
       "      <td>16.5</td>\n",
       "      <td>2</td>\n",
       "      <td>True</td>\n",
       "    </tr>\n",
       "    <tr>\n",
       "      <th>d</th>\n",
       "      <td>James</td>\n",
       "      <td>NaN</td>\n",
       "      <td>3</td>\n",
       "      <td>False</td>\n",
       "    </tr>\n",
       "    <tr>\n",
       "      <th>e</th>\n",
       "      <td>Emily</td>\n",
       "      <td>9.0</td>\n",
       "      <td>2</td>\n",
       "      <td>False</td>\n",
       "    </tr>\n",
       "    <tr>\n",
       "      <th>f</th>\n",
       "      <td>Michael</td>\n",
       "      <td>20.0</td>\n",
       "      <td>3</td>\n",
       "      <td>True</td>\n",
       "    </tr>\n",
       "    <tr>\n",
       "      <th>g</th>\n",
       "      <td>Matthew</td>\n",
       "      <td>14.5</td>\n",
       "      <td>1</td>\n",
       "      <td>True</td>\n",
       "    </tr>\n",
       "    <tr>\n",
       "      <th>h</th>\n",
       "      <td>Laura</td>\n",
       "      <td>NaN</td>\n",
       "      <td>1</td>\n",
       "      <td>False</td>\n",
       "    </tr>\n",
       "    <tr>\n",
       "      <th>i</th>\n",
       "      <td>Kevin</td>\n",
       "      <td>8.0</td>\n",
       "      <td>2</td>\n",
       "      <td>False</td>\n",
       "    </tr>\n",
       "    <tr>\n",
       "      <th>j</th>\n",
       "      <td>Jonas</td>\n",
       "      <td>19.0</td>\n",
       "      <td>1</td>\n",
       "      <td>True</td>\n",
       "    </tr>\n",
       "  </tbody>\n",
       "</table>\n",
       "</div>"
      ],
      "text/plain": [
       "        name  score  attempts  qualify\n",
       "a  Anastasia   12.5         1     True\n",
       "b       Dima    9.0         3    False\n",
       "c  Katherine   16.5         2     True\n",
       "d      James    NaN         3    False\n",
       "e      Emily    9.0         2    False\n",
       "f    Michael   20.0         3     True\n",
       "g    Matthew   14.5         1     True\n",
       "h      Laura    NaN         1    False\n",
       "i      Kevin    8.0         2    False\n",
       "j      Jonas   19.0         1     True"
      ]
     },
     "execution_count": 182,
     "metadata": {},
     "output_type": "execute_result"
    }
   ],
   "source": [
    "df"
   ]
  },
  {
   "cell_type": "markdown",
   "id": "0a0543db-67ed-49e1-8de6-dcc89ad1cbbf",
   "metadata": {},
   "source": [
    "# Pandas Index"
   ]
  },
  {
   "cell_type": "markdown",
   "id": "92b80200-2267-49d8-a775-70f2f9489bfb",
   "metadata": {},
   "source": [
    "#### 5. Create DataFrame with Intervals as Index"
   ]
  },
  {
   "cell_type": "code",
   "execution_count": 188,
   "id": "87947885-4ea9-45e1-98be-38ebb02d88b9",
   "metadata": {},
   "outputs": [
    {
     "name": "stdout",
     "output_type": "stream",
     "text": [
      "\n",
      "DataFrame with IntervalIndex:\n",
      "          ID  Age\n",
      "(0, 1]  s001   35\n",
      "(1, 2]  s002   32\n",
      "(2, 3]  s003   33\n",
      "(3, 4]  s004   32\n"
     ]
    }
   ],
   "source": [
    "import pandas as pd\n",
    "df_interval = pd.DataFrame({\n",
    "    'ID': ['s001', 's002', 's003', 's004'],\n",
    "    'Age': [35, 32, 33, 32]\n",
    "}, index=pd.interval_range(start=0, end=4, freq=1))\n",
    "\n",
    "print(\"\\nDataFrame with IntervalIndex:\")\n",
    "print(df_interval)\n"
   ]
  },
  {
   "cell_type": "code",
   "execution_count": null,
   "id": "f4b5671f-9160-443e-a450-33ec532b2db5",
   "metadata": {},
   "outputs": [],
   "source": []
  }
 ],
 "metadata": {
  "kernelspec": {
   "display_name": "Python [conda env:base] *",
   "language": "python",
   "name": "conda-base-py"
  },
  "language_info": {
   "codemirror_mode": {
    "name": "ipython",
    "version": 3
   },
   "file_extension": ".py",
   "mimetype": "text/x-python",
   "name": "python",
   "nbconvert_exporter": "python",
   "pygments_lexer": "ipython3",
   "version": "3.12.7"
  }
 },
 "nbformat": 4,
 "nbformat_minor": 5
}
