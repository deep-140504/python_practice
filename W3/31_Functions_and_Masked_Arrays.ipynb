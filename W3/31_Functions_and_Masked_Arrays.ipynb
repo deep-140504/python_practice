{
 "cells": [
  {
   "cell_type": "markdown",
   "id": "58e5e62c-d619-420d-866c-ee381fbc2647",
   "metadata": {},
   "source": [
    "# NumPy Universal Functions"
   ]
  },
  {
   "cell_type": "markdown",
   "id": "f9dff7fe-d43a-4b4d-b6be-47d461414aca",
   "metadata": {},
   "source": [
    "#### 20. Write a NumPy program that uses np.maximum.reduce to find the maximum element along a specified axis of a 2D array."
   ]
  },
  {
   "cell_type": "code",
   "execution_count": 5,
   "id": "cd292a35-d073-4d87-befe-d420edb5bce6",
   "metadata": {},
   "outputs": [
    {
     "name": "stdout",
     "output_type": "stream",
     "text": [
      "Original array:\n",
      "[[1 5 3]\n",
      " [7 2 8]\n",
      " [4 6 9]]\n",
      "\n",
      "Maximum along rows (axis 0): [7 6 9]\n",
      "Maximum along columns (axis 1): [5 8 9]\n"
     ]
    }
   ],
   "source": [
    "import numpy as np\n",
    "\n",
    "arr = np.array([[1, 5, 3],\n",
    "                [7, 2, 8],\n",
    "                [4, 6, 9]])\n",
    "\n",
    "max_along_axis0 = np.maximum.reduce(arr, axis=0)\n",
    "max_along_axis1 = np.maximum.reduce(arr, axis=1)\n",
    "\n",
    "print(\"Original array:\")\n",
    "print(arr)\n",
    "print(\"\\nMaximum along rows (axis 0):\", max_along_axis0)\n",
    "print(\"Maximum along columns (axis 1):\", max_along_axis1)\n"
   ]
  },
  {
   "cell_type": "markdown",
   "id": "4eedb5ff-42d5-4358-8ccc-becd9371c97f",
   "metadata": {},
   "source": [
    "#### 19. Write a NumPy program that uses np.logical_and to combine two boolean arrays based on element-wise logical AND operation."
   ]
  },
  {
   "cell_type": "code",
   "execution_count": 10,
   "id": "108d8065-d183-4936-b004-000793a094a6",
   "metadata": {},
   "outputs": [
    {
     "name": "stdout",
     "output_type": "stream",
     "text": [
      "mask 1: [False False False  True  True]\n",
      "mask 2: [False  True False  True False]\n",
      "Result of logical AND operation: [False False False  True False]\n"
     ]
    }
   ],
   "source": [
    "import numpy as np\n",
    "\n",
    "arr1 = np.array([1, 2, 3, 4, 5])\n",
    "arr2 = np.array([8, 1, 5, 4, 6])\n",
    "\n",
    "result = np.logical_and(arr1 > 3, arr2 < 5)\n",
    "\n",
    "print(\"mask 1:\", arr1 > 3)\n",
    "print(\"mask 2:\", arr2 < 5)\n",
    "print(\"Result of logical AND operation:\", result)\n"
   ]
  },
  {
   "cell_type": "markdown",
   "id": "4cd8e69e-3ccd-4168-9134-7484ea2704cf",
   "metadata": {},
   "source": [
    "# Functions Masked Arrays"
   ]
  },
  {
   "cell_type": "markdown",
   "id": "28a06b3f-8fd4-4190-ada5-f6b9b317bf62",
   "metadata": {},
   "source": [
    "#### 20. Write a NumPy program that creates a masked array and checks if any masked elements are present."
   ]
  },
  {
   "cell_type": "code",
   "execution_count": 16,
   "id": "a6914dce-d9a5-49f0-8f5c-9759f67eaad0",
   "metadata": {},
   "outputs": [
    {
     "name": "stdout",
     "output_type": "stream",
     "text": [
      "Masked Array: [1 2 -- 4 5 6]\n",
      "There are masked elements in the array.\n"
     ]
    }
   ],
   "source": [
    "import numpy as np\n",
    "\n",
    "data = np.array([1, 2, 3, 4, 5, 6])\n",
    "masked_data = np.ma.masked_values(data, 3)\n",
    "\n",
    "print(\"Masked Array:\", masked_data)\n",
    "\n",
    "if masked_data.mask.any():\n",
    "    print(\"There are masked elements in the array.\")\n",
    "else:\n",
    "    print(\"There are no masked elements in the array.\")\n"
   ]
  },
  {
   "cell_type": "markdown",
   "id": "dbaa42b4-5593-4ea9-aa28-7190fc6ee854",
   "metadata": {},
   "source": [
    "#### 18. Write a NumPy program that creates a masked array and changes the mask to include additional elements."
   ]
  },
  {
   "cell_type": "code",
   "execution_count": 35,
   "id": "1894295f-a58b-4cf4-b43b-80da18655e18",
   "metadata": {},
   "outputs": [
    {
     "name": "stdout",
     "output_type": "stream",
     "text": [
      "[[39 15 38 56  8]\n",
      " [61 44  0 91 26]\n",
      " [25 50 97 72 18]\n",
      " [87 76 84 16 74]\n",
      " [26 24 24 51 39]]\n",
      "[[39 -- 38 56 --]\n",
      " [61 44 -- 91 --]\n",
      " [-- 50 97 72 --]\n",
      " [87 76 84 -- 74]\n",
      " [-- -- -- 51 39]]\n",
      "[[39 -- 38 56 --]\n",
      " [61 44 -- -- --]\n",
      " [-- 50 -- 72 --]\n",
      " [87 76 84 -- 74]\n",
      " [-- -- -- 51 39]]\n"
     ]
    }
   ],
   "source": [
    "import numpy as np\n",
    "import numpy.ma as ma\n",
    "\n",
    "arr = np.array(np.random.randint(0, 100, (5, 5)))\n",
    "print(arr)\n",
    "\n",
    "condition1 = arr < 35\n",
    "masked_array = ma.masked_array(arr, condition1)\n",
    "print(masked_array)\n",
    "consition2 = arr > 90\n",
    "masked_array.mask = masked_array.mask | consition2\n",
    "print(masked_array)"
   ]
  },
  {
   "cell_type": "code",
   "execution_count": null,
   "id": "9d36d2ba-3cf6-4f18-a411-1031916b7325",
   "metadata": {},
   "outputs": [],
   "source": []
  }
 ],
 "metadata": {
  "kernelspec": {
   "display_name": "Python [conda env:base] *",
   "language": "python",
   "name": "conda-base-py"
  },
  "language_info": {
   "codemirror_mode": {
    "name": "ipython",
    "version": 3
   },
   "file_extension": ".py",
   "mimetype": "text/x-python",
   "name": "python",
   "nbconvert_exporter": "python",
   "pygments_lexer": "ipython3",
   "version": "3.12.7"
  }
 },
 "nbformat": 4,
 "nbformat_minor": 5
}
