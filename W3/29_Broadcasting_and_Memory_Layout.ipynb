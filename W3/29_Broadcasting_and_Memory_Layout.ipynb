{
 "cells": [
  {
   "cell_type": "markdown",
   "id": "d0348cd4-16cb-4b88-a03c-440a0550918c",
   "metadata": {},
   "source": [
    "# NumPy Broadcasting"
   ]
  },
  {
   "cell_type": "markdown",
   "id": "b49ea3e4-dfe4-4646-87b5-6444a193f4c4",
   "metadata": {},
   "source": [
    "#### 20. Write a NumPy program that Multiplies each column of a 2D array x of shape (7, 3) by a 1D array y of shape (7,) using broadcasting."
   ]
  },
  {
   "cell_type": "code",
   "execution_count": 36,
   "id": "d7f1b906-ef00-41a4-b02a-70764d160741",
   "metadata": {},
   "outputs": [
    {
     "name": "stdout",
     "output_type": "stream",
     "text": [
      "Original 2D array (x):\n",
      "[[9 9 7]\n",
      " [8 7 6]\n",
      " [6 2 9]\n",
      " [8 7 9]\n",
      " [9 5 9]\n",
      " [1 7 8]\n",
      " [1 6 7]]\n",
      "\n",
      "1D array (y):\n",
      "[3 2 1 4 4 4 3]\n",
      "\n",
      "Result after broadcasting multiplication:\n",
      "[[27 27 21]\n",
      " [16 14 12]\n",
      " [ 6  2  9]\n",
      " [32 28 36]\n",
      " [36 20 36]\n",
      " [ 4 28 32]\n",
      " [ 3 18 21]]\n"
     ]
    }
   ],
   "source": [
    "import numpy as np\n",
    "\n",
    "x = np.random.randint(1, 10, (7, 3))\n",
    "y = np.random.randint(1, 5, (7,))\n",
    "\n",
    "result = x * y[:, None] \n",
    "# result = x * y[:, np.newaxis]\n",
    "# both above methods yield the same output, it basically converts, 1d array to 2d array having list of each element in general\n",
    "print(\"Original 2D array (x):\")\n",
    "print(x)\n",
    "\n",
    "print(\"\\n1D array (y):\")\n",
    "print(y)\n",
    "\n",
    "print(\"\\nResult after broadcasting multiplication:\")\n",
    "print(result)\n"
   ]
  },
  {
   "cell_type": "markdown",
   "id": "beb63ed9-cfc7-4cda-8fb6-b70ea56f5cfe",
   "metadata": {},
   "source": [
    "# NumPy Memory Layout"
   ]
  },
  {
   "cell_type": "markdown",
   "id": "66cc80bf-7558-48ee-8966-2afd1ac6ded9",
   "metadata": {},
   "source": [
    "#### 19. Write a NumPy program that creates a 1D array of 20 elements and use reshape() to create a (4, 5) matrix. Slice a (2, 3) sub-matrix and print its strides."
   ]
  },
  {
   "cell_type": "code",
   "execution_count": 34,
   "id": "6bbd7d73-a31a-427c-9b28-c15bff505be7",
   "metadata": {},
   "outputs": [
    {
     "name": "stdout",
     "output_type": "stream",
     "text": [
      "[ 0  1  2  3  4  5  6  7  8  9 10 11 12 13 14 15 16 17 18 19] and (4,)\n",
      "[[ 0  1  2  3  4]\n",
      " [ 5  6  7  8  9]\n",
      " [10 11 12 13 14]\n",
      " [15 16 17 18 19]] and (20, 4)\n",
      "[[0 1 2]\n",
      " [5 6 7]] and (20, 4)\n"
     ]
    }
   ],
   "source": [
    "import numpy as np\n",
    "arr = np.array(np.arange(20))\n",
    "print(f\"{arr} and {arr.strides}\")\n",
    "brr = arr.reshape(4, 5)\n",
    "print(f\"{brr} and {brr.strides}\")\n",
    "print(f\"{brr[0:2, 0:3]} and {brr[0:2, 0:3].strides}\")"
   ]
  },
  {
   "cell_type": "code",
   "execution_count": null,
   "id": "e19bb10a-4c5c-428e-bf64-85ae0af0e12c",
   "metadata": {},
   "outputs": [],
   "source": []
  }
 ],
 "metadata": {
  "kernelspec": {
   "display_name": "Python [conda env:base] *",
   "language": "python",
   "name": "conda-base-py"
  },
  "language_info": {
   "codemirror_mode": {
    "name": "ipython",
    "version": 3
   },
   "file_extension": ".py",
   "mimetype": "text/x-python",
   "name": "python",
   "nbconvert_exporter": "python",
   "pygments_lexer": "ipython3",
   "version": "3.12.7"
  }
 },
 "nbformat": 4,
 "nbformat_minor": 5
}
