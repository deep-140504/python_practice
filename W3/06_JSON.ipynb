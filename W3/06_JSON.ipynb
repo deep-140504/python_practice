{
 "cells": [
  {
   "cell_type": "markdown",
   "id": "ba170cd0-70c7-4a84-a08a-8d547475d35e",
   "metadata": {},
   "source": [
    "#### Python JSON: Convert JSON data to Python object"
   ]
  },
  {
   "cell_type": "code",
   "execution_count": 2,
   "id": "638aefe2-10d1-4e15-8d59-14f7a2162122",
   "metadata": {},
   "outputs": [
    {
     "name": "stdout",
     "output_type": "stream",
     "text": [
      "\n",
      "JSON data:\n",
      "{'Product': 'Laptop', 'Brand': 'Dell', 'Price': 750}\n",
      "\n",
      "Product:  Laptop\n",
      "Brand:  Dell\n",
      "Price: $ 750\n"
     ]
    }
   ],
   "source": [
    "import json\n",
    "\n",
    "json_obj = '{ \"Product\":\"Laptop\", \"Brand\":\"Dell\", \"Price\":750 }'\n",
    "python_obj = json.loads(json_obj)\n",
    "\n",
    "print(\"\\nJSON data:\")\n",
    "print(python_obj)\n",
    "\n",
    "print(\"\\nProduct: \", python_obj[\"Product\"])\n",
    "print(\"Brand: \", python_obj[\"Brand\"])\n",
    "print(\"Price: $\", python_obj[\"Price\"])\n"
   ]
  },
  {
   "cell_type": "code",
   "execution_count": null,
   "id": "c186b0aa-9021-4730-a896-6c54b0c5d5b0",
   "metadata": {},
   "outputs": [],
   "source": []
  }
 ],
 "metadata": {
  "kernelspec": {
   "display_name": "Python [conda env:base] *",
   "language": "python",
   "name": "conda-base-py"
  },
  "language_info": {
   "codemirror_mode": {
    "name": "ipython",
    "version": 3
   },
   "file_extension": ".py",
   "mimetype": "text/x-python",
   "name": "python",
   "nbconvert_exporter": "python",
   "pygments_lexer": "ipython3",
   "version": "3.12.7"
  }
 },
 "nbformat": 4,
 "nbformat_minor": 5
}
