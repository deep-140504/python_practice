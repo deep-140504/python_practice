{
 "cells": [
  {
   "cell_type": "markdown",
   "id": "95518c70-13e5-4a34-acd3-4e1a61508834",
   "metadata": {},
   "source": [
    "# Mathematics, Linear Algebra, and Statistics"
   ]
  },
  {
   "cell_type": "markdown",
   "id": "b7cdc872-cc95-4f23-b796-aaa28a8fda01",
   "metadata": {},
   "source": [
    "# NumPy: Mathematics Exercises"
   ]
  },
  {
   "cell_type": "markdown",
   "id": "5d2727aa-7e65-4039-a475-200050f360ab",
   "metadata": {},
   "source": [
    "#### 41. Write a NumPy program to compute an element-wise indication of the sign for all elements in a given array."
   ]
  },
  {
   "cell_type": "code",
   "execution_count": 5,
   "id": "eaaada5e-ec52-43f8-b258-71ceffd2f5b8",
   "metadata": {},
   "outputs": [
    {
     "name": "stdout",
     "output_type": "stream",
     "text": [
      "Original Array:  [ 3 -5  0  8 -2]\n",
      "Sign Array:  [ 1 -1  0  1 -1]\n"
     ]
    }
   ],
   "source": [
    "import numpy as np\n",
    "\n",
    "arr = np.array([3, -5, 0, 8, -2])\n",
    "\n",
    "sign_arr = np.sign(arr)\n",
    "\n",
    "print(\"Original Array: \", arr)\n",
    "print(\"Sign Array: \", sign_arr)"
   ]
  },
  {
   "cell_type": "markdown",
   "id": "2877dace-5b73-419d-92c0-6f75c750cc53",
   "metadata": {},
   "source": [
    "#### 40. Write a NumPy program to compute xy, element-wise where x, y are two given arrays."
   ]
  },
  {
   "cell_type": "code",
   "execution_count": 10,
   "id": "083ceddb-7e80-4fce-a3ac-f3e5caa2c899",
   "metadata": {},
   "outputs": [
    {
     "name": "stdout",
     "output_type": "stream",
     "text": [
      "[[  1   4]\n",
      " [ 27 256]]\n"
     ]
    }
   ],
   "source": [
    "x = np.array([\n",
    "    [1, 2],\n",
    "    [3, 4]\n",
    "])\n",
    "y = np.array([\n",
    "    [1, 2],\n",
    "    [3, 4]\n",
    "])\n",
    "ans = x ** y\n",
    "print(ans)"
   ]
  },
  {
   "cell_type": "markdown",
   "id": "5b7b5a6f-0efe-4de0-858c-2f823ab48989",
   "metadata": {},
   "source": [
    "# NumPy Linear Algebra"
   ]
  },
  {
   "cell_type": "markdown",
   "id": "229e8a2f-3996-4457-954c-1d3ad85dd1c3",
   "metadata": {},
   "source": [
    "#### 13. Write a NumPy program to create an inner product of two arrays."
   ]
  },
  {
   "cell_type": "code",
   "execution_count": 21,
   "id": "aeeab18c-ddcd-4764-9c7d-f56320dffec5",
   "metadata": {},
   "outputs": [
    {
     "name": "stdout",
     "output_type": "stream",
     "text": [
      "[[[ 0  1  2  3]\n",
      "  [ 4  5  6  7]\n",
      "  [ 8  9 10 11]]\n",
      "\n",
      " [[12 13 14 15]\n",
      "  [16 17 18 19]\n",
      "  [20 21 22 23]]]\n",
      "----------------------------------------\n",
      "[0 1 2 3]\n",
      "[[ 14  38  62]\n",
      " [ 86 110 134]]\n"
     ]
    }
   ],
   "source": [
    "import numpy as np\n",
    "\n",
    "x = np.arange(24).reshape((2, 3, 4))\n",
    "print(x)\n",
    "print('-'*40)\n",
    "y = np.arange(4)\n",
    "print(y)\n",
    "\n",
    "print(np.inner(x, y))"
   ]
  },
  {
   "cell_type": "markdown",
   "id": "667d0b0f-5d09-4744-9463-a6bc1a5d12f6",
   "metadata": {},
   "source": [
    "#### 14. Write a NumPy program to generate inner, outer, and cross products of matrices and vectors."
   ]
  },
  {
   "cell_type": "code",
   "execution_count": 26,
   "id": "b1062b94-28f2-4b70-b711-695dd47b9b35",
   "metadata": {},
   "outputs": [
    {
     "name": "stdout",
     "output_type": "stream",
     "text": [
      "[1. 4. 0.]\n",
      "[2. 2. 1.]\n",
      "----------------------------------------\n",
      "10.0\n",
      "----------------------------------------\n",
      "[[2. 2. 1.]\n",
      " [8. 8. 4.]\n",
      " [0. 0. 0.]]\n",
      "----------------------------------------\n",
      "[ 4. -1. -6.]\n"
     ]
    }
   ],
   "source": [
    "import numpy as np\n",
    "\n",
    "x = np.array([1., 4., 0.])\n",
    "y = np.array([2., 2., 1.])\n",
    "\n",
    "print(x)\n",
    "print(y)\n",
    "print('-'*40)\n",
    "print(np.inner(x, y))\n",
    "print('-'*40)\n",
    "print(np.outer(x, y))\n",
    "print('-'*40)\n",
    "print(np.cross(x, y))\n"
   ]
  },
  {
   "cell_type": "markdown",
   "id": "98d24dcc-1b11-4509-a9da-16b3b9b8b716",
   "metadata": {},
   "source": [
    "# NumPy: Statistics"
   ]
  },
  {
   "cell_type": "markdown",
   "id": "e0d15167-a408-462c-859b-64fe16bdb17e",
   "metadata": {},
   "source": [
    "#### 14. Write a NumPy program to compute the histogram of nums against the bins."
   ]
  },
  {
   "cell_type": "code",
   "execution_count": 30,
   "id": "ea697eb9-adbe-42c5-b404-ac3e32ba850c",
   "metadata": {},
   "outputs": [
    {
     "name": "stdout",
     "output_type": "stream",
     "text": [
      "nums: [0.5 0.7 1.  1.2 1.3 2.1]\n",
      "bins: [0 1 2 3]\n",
      "Result: (array([2, 3, 1], dtype=int64), array([0, 1, 2, 3]))\n"
     ]
    }
   ],
   "source": [
    "import numpy as np\n",
    "\n",
    "nums = np.array([0.5, 0.7, 1.0, 1.2, 1.3, 2.1])\n",
    "bins = np.array([0, 1, 2, 3])\n",
    "\n",
    "hist, bin_edges = np.histogram(nums, bins)\n",
    "\n",
    "print(\"nums:\", nums)\n",
    "print(\"bins:\", bins)\n",
    "print(\"Result:\", (hist, bin_edges))\n"
   ]
  },
  {
   "cell_type": "markdown",
   "id": "b5f40508-f766-4517-bcba-5905e742f8fe",
   "metadata": {},
   "source": [
    "#### 13. Write a Python program to count number of occurrences of each value in a given array of non-negative integers."
   ]
  },
  {
   "cell_type": "code",
   "execution_count": 35,
   "id": "88191bec-f705-4f88-b733-3492562cd7ee",
   "metadata": {},
   "outputs": [
    {
     "name": "stdout",
     "output_type": "stream",
     "text": [
      "Original array:\n",
      "[ 0  1  6  1  4  1  2  2  7 15]\n",
      "Number of occurrences of each value in array:\n",
      "[1 3 2 0 1 0 1 1 0 0 0 0 0 0 0 1]\n"
     ]
    }
   ],
   "source": [
    "import numpy as np\n",
    "\n",
    "arr = np.array([0, 1, 6, 1, 4, 1, 2, 2, 7, 15])\n",
    "\n",
    "occurrences = np.bincount(arr)\n",
    "\n",
    "print(\"Original array:\")\n",
    "print(arr)\n",
    "print(\"Number of occurrences of each value in array:\")\n",
    "print(occurrences)\n"
   ]
  },
  {
   "cell_type": "code",
   "execution_count": null,
   "id": "a3a782ce-981a-48ab-9797-d98a6a2ccf17",
   "metadata": {},
   "outputs": [],
   "source": []
  }
 ],
 "metadata": {
  "kernelspec": {
   "display_name": "Python [conda env:base] *",
   "language": "python",
   "name": "conda-base-py"
  },
  "language_info": {
   "codemirror_mode": {
    "name": "ipython",
    "version": 3
   },
   "file_extension": ".py",
   "mimetype": "text/x-python",
   "name": "python",
   "nbconvert_exporter": "python",
   "pygments_lexer": "ipython3",
   "version": "3.12.7"
  }
 },
 "nbformat": 4,
 "nbformat_minor": 5
}
