{
 "cells": [
  {
   "cell_type": "markdown",
   "id": "febe11b0-abf5-4290-a5aa-6e7bcdde6fd1",
   "metadata": {},
   "source": [
    "#### 27. Write a Python program to get hourly datetime between two hours."
   ]
  },
  {
   "cell_type": "code",
   "execution_count": 2,
   "id": "f04339e1-e5e8-4798-8845-d2b16244b9c6",
   "metadata": {},
   "outputs": [
    {
     "name": "stdout",
     "output_type": "stream",
     "text": [
      "2025-01-28 08:00:00\n",
      "2025-01-28 09:00:00\n",
      "2025-01-28 10:00:00\n",
      "2025-01-28 11:00:00\n",
      "2025-01-28 12:00:00\n"
     ]
    }
   ],
   "source": [
    "from datetime import datetime, timedelta\n",
    "\n",
    "def get_hourly_datetimes(start_time_str, end_time_str, time_format=\"%Y-%m-%d %H:%M:%S\"):\n",
    "    start_time = datetime.strptime(start_time_str, time_format)\n",
    "    end_time = datetime.strptime(end_time_str, time_format)\n",
    "\n",
    "    hourly_datetimes = []\n",
    "\n",
    "    current_time = start_time\n",
    "    while current_time <= end_time:\n",
    "        hourly_datetimes.append(current_time)\n",
    "        current_time += timedelta(hours=1)\n",
    "\n",
    "    return hourly_datetimes\n",
    "\n",
    "start_time = \"2025-01-28 08:00:00\"\n",
    "end_time = \"2025-01-28 12:00:00\"\n",
    "\n",
    "hourly_datetimes = get_hourly_datetimes(start_time, end_time)\n",
    "\n",
    "for dt in hourly_datetimes:\n",
    "    print(dt.strftime(\"%Y-%m-%d %H:%M:%S\"))\n"
   ]
  },
  {
   "cell_type": "code",
   "execution_count": null,
   "id": "70a82f31-254c-4d34-a17d-26d159c8b423",
   "metadata": {},
   "outputs": [],
   "source": []
  }
 ],
 "metadata": {
  "kernelspec": {
   "display_name": "Python [conda env:base] *",
   "language": "python",
   "name": "conda-base-py"
  },
  "language_info": {
   "codemirror_mode": {
    "name": "ipython",
    "version": 3
   },
   "file_extension": ".py",
   "mimetype": "text/x-python",
   "name": "python",
   "nbconvert_exporter": "python",
   "pygments_lexer": "ipython3",
   "version": "3.12.7"
  }
 },
 "nbformat": 4,
 "nbformat_minor": 5
}
