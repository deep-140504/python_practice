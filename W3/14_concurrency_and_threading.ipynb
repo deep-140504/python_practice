{
 "cells": [
  {
   "cell_type": "markdown",
   "id": "3a01e1f0-83ac-451d-9ce4-57de52d0d3e7",
   "metadata": {},
   "source": [
    "# Python Multi-threading and Concurrency"
   ]
  },
  {
   "cell_type": "markdown",
   "id": "8e415e27-0fd1-4981-92ad-73fc112fbaf3",
   "metadata": {},
   "source": [
    "#### 1. Write a Python program to create multiple threads and print their names."
   ]
  },
  {
   "cell_type": "code",
   "execution_count": 1,
   "id": "dba4e108-55fa-4ce7-8d04-9d780123a13c",
   "metadata": {},
   "outputs": [
    {
     "name": "stdout",
     "output_type": "stream",
     "text": [
      "Current thread:thread-0\n",
      "Current thread:thread-1\n",
      "Current thread:thread-2\n",
      "Current thread:thread-3\n",
      "Current thread:thread-4\n"
     ]
    }
   ],
   "source": [
    "import threading\n",
    "def print_thread_name():\n",
    "    print(f\"Current thread:{threading.current_thread().name}\")\n",
    "threads = []\n",
    "for i in range(5):\n",
    "    thread = threading.Thread(target = print_thread_name, name = f\"thread-{i}\")\n",
    "    threads.append(thread)\n",
    "    thread.start()\n",
    "\n",
    "for i in range(len(threads)):\n",
    "    threads[i].join()"
   ]
  },
  {
   "cell_type": "markdown",
   "id": "2ced91d5-fab1-4096-a7d9-449cb09bc2fd",
   "metadata": {},
   "source": [
    "#### 2. Write a Python program to download multiple files concurrently using threads."
   ]
  },
  {
   "cell_type": "code",
   "execution_count": 3,
   "id": "ae5bfd3c-5e8d-4570-918c-d05e63a7ffd4",
   "metadata": {},
   "outputs": [
    {
     "name": "stdout",
     "output_type": "stream",
     "text": [
      "Downloaded file1.jpg successfully!\n",
      "Downloaded file2.jpg successfully!\n",
      "Downloaded file3.jpg successfully!\n"
     ]
    }
   ],
   "source": [
    "import threading\n",
    "import requests\n",
    "\n",
    "def download_file(url, filename):\n",
    "    try:\n",
    "        response = requests.get(url)\n",
    "        with open(filename, 'wb') as file:\n",
    "            file.write(response.content)\n",
    "        print(f\"Downloaded {filename} successfully!\")\n",
    "    except Exception as e:\n",
    "        print(f\"Failed to download {filename}: {e}\")\n",
    "\n",
    "def main():\n",
    "    urls = [\n",
    "        (\"https://example.com/file1.jpg\", \"file1.jpg\"),\n",
    "        (\"https://example.com/file2.jpg\", \"file2.jpg\"),\n",
    "        (\"https://example.com/file3.jpg\", \"file3.jpg\")\n",
    "    ]\n",
    "    \n",
    "    threads = []\n",
    "    \n",
    "    for url, filename in urls:\n",
    "        thread = threading.Thread(target=download_file, args=(url, filename))\n",
    "        threads.append(thread)\n",
    "        thread.start()\n",
    "    \n",
    "    for thread in threads:\n",
    "        thread.join()\n",
    "\n",
    "if __name__ == \"__main__\":\n",
    "    main()\n"
   ]
  },
  {
   "cell_type": "markdown",
   "id": "ee311038-9552-4e4c-a559-6674c6f8ad39",
   "metadata": {},
   "source": [
    "#### 3. Write a Python program that creates two threads to find and print even and odd numbers from 30 to 50."
   ]
  },
  {
   "cell_type": "code",
   "execution_count": 5,
   "id": "0d662458-e835-4698-8657-93fe64fc5a17",
   "metadata": {},
   "outputs": [
    {
     "name": "stdout",
     "output_type": "stream",
     "text": [
      "[30, 32, 34, 36, 38, 40, 42, 44, 46, 48, 50]\n",
      "[31, 33, 35, 37, 39, 41, 43, 45, 47, 49]\n"
     ]
    }
   ],
   "source": [
    "import threading\n",
    "def print_even_numbers():\n",
    "    arr = [num for num in range(30, 51) if num % 2 == 0]\n",
    "    print(arr)\n",
    "def print_odd_numbers():\n",
    "    arr = [num for num in range(30, 51) if num % 2 != 0]\n",
    "    print(arr)\n",
    "def main():\n",
    "    thread_even = threading.Thread(target = print_even_numbers)\n",
    "    thread_odd = threading.Thread(target = print_odd_numbers)\n",
    "\n",
    "    thread_even.start()\n",
    "    thread_odd.start()\n",
    "    thread_even.join()\n",
    "    thread_odd.join()\n",
    "if __name__ == \"__main__\":\n",
    "    main()"
   ]
  },
  {
   "cell_type": "markdown",
   "id": "6de4956b-7cbf-4c49-9666-5582fed07106",
   "metadata": {},
   "source": [
    "#### 4. Write a Python program to calculate the factorial of a number using multiple threads."
   ]
  },
  {
   "cell_type": "markdown",
   "id": "2708abfa-5759-4ca2-bbfe-3eba47858c37",
   "metadata": {},
   "source": [
    "## Solution 1 (Explicitly creating and starting the threads) ##"
   ]
  },
  {
   "cell_type": "code",
   "execution_count": 21,
   "id": "391750c8-7500-458e-b0de-f06c3a07ccde",
   "metadata": {},
   "outputs": [
    {
     "name": "stdout",
     "output_type": "stream",
     "text": [
      "The factorial of 100 is 93326215443944152681699238856266700490715968264381621468592963895217599993229915608941463976156518286253697920827223758251185210916864000000000000000000000000\n",
      "hello\n"
     ]
    }
   ],
   "source": [
    "import threading\n",
    "from math import ceil\n",
    "\n",
    "# Function to calculate partial factorial\n",
    "def partial_factorial(start, end, result, index):\n",
    "    product = 1\n",
    "    for i in range(start, end + 1):\n",
    "        product *= i\n",
    "    result[index] = product\n",
    "\n",
    "# Function to calculate factorial using multiple threads\n",
    "def multi_thread_factorial(n, num_threads):\n",
    "    # Create a list to store the partial results from threads\n",
    "    result = [None] * num_threads\n",
    "\n",
    "    # Calculate the range of numbers each thread will handle\n",
    "    chunk_size = ceil(n / num_threads)\n",
    "\n",
    "    # Create threads\n",
    "    threads = []\n",
    "    for i in range(num_threads):\n",
    "        start = i * chunk_size + 1\n",
    "        # Ensure the last thread covers the remainder if n is not divisible by num_threads\n",
    "        end = min((i + 1) * chunk_size, n)\n",
    "        thread = threading.Thread(target=partial_factorial, args=(start, end, result, i))\n",
    "        threads.append(thread)\n",
    "        thread.start()\n",
    "\n",
    "    # Wait for all threads to finish\n",
    "    for thread in threads:\n",
    "        thread.join()\n",
    "\n",
    "    # Multiply all partial results to get the final factorial\n",
    "    final_result = 1\n",
    "    for res in result:\n",
    "        final_result *= res\n",
    "\n",
    "    return final_result\n",
    "\n",
    "# Example usage\n",
    "n = 100  # Factorial of 10\n",
    "num_threads = 3  # Number of threads\n",
    "\n",
    "factorial_result = multi_thread_factorial(n, num_threads)\n",
    "print(f\"The factorial of {n} is {factorial_result}\")\n",
    "print(\"hello\")\n",
    "\n",
    "\n",
    "\n",
    "\n",
    "# -------------------------------------------------------------------------------------------\n",
    "# Here queue is not used, as each thread is peroforming task on the uniform chunk of data and not the custom range\n",
    "# additionally data being generated is stored inside of the result array at the particular index, so it is independent, so no need to use lock aswell"
   ]
  },
  {
   "cell_type": "markdown",
   "id": "9443fdf8-0ab8-4382-9ce7-44f29fbb58e7",
   "metadata": {},
   "source": [
    "## Solution 2 (thread creation, starting and joining handled by threadpool executor) ## "
   ]
  },
  {
   "cell_type": "code",
   "execution_count": 29,
   "id": "f041210a-6efc-4089-b412-bb4e75e8a74b",
   "metadata": {},
   "outputs": [
    {
     "name": "stdout",
     "output_type": "stream",
     "text": [
      "The factorial of 10 is 3628800\n"
     ]
    }
   ],
   "source": [
    "import threading\n",
    "from concurrent.futures import ThreadPoolExecutor\n",
    "from math import ceil\n",
    "\n",
    "# Function to calculate partial factorial\n",
    "def partial_factorial(start, end):\n",
    "    product = 1\n",
    "    for i in range(start, end + 1):\n",
    "        product *= i\n",
    "    return product\n",
    "\n",
    "# Function to calculate factorial using ThreadPoolExecutor\n",
    "def multi_thread_factorial(n, num_threads):\n",
    "    # Calculate the range of numbers each thread will handle\n",
    "    chunk_size = ceil(n / num_threads)\n",
    "    \n",
    "    # Create a ThreadPoolExecutor\n",
    "    with ThreadPoolExecutor(max_workers=num_threads) as executor:\n",
    "        # Submit tasks to the executor\n",
    "        futures = []\n",
    "        for i in range(num_threads):\n",
    "            start = i * chunk_size + 1\n",
    "            end = min((i + 1) * chunk_size, n)\n",
    "            futures.append(executor.submit(partial_factorial, start, end))\n",
    "        \n",
    "        # Collect all results from the futures\n",
    "        final_result = 1\n",
    "        for future in futures:\n",
    "            final_result *= future.result()\n",
    "    \n",
    "    return final_result\n",
    "\n",
    "# Example usage\n",
    "n = 10  # Factorial of 10\n",
    "num_threads = 3  # Number of threads\n",
    "\n",
    "factorial_result = multi_thread_factorial(n, num_threads)\n",
    "print(f\"The factorial of {n} is {factorial_result}\")\n",
    "\n",
    "\n",
    "# ------------------------------------------------------\n",
    "# by making use of threadpoolexecutor, the there is no need to manage another result array\n",
    "# as the result being generated can be accessed calling the result method on the objects stored in future arrayy"
   ]
  },
  {
   "cell_type": "code",
   "execution_count": 9,
   "id": "df889dcb-454a-4572-ab57-98c55146b9ce",
   "metadata": {},
   "outputs": [
    {
     "name": "stdout",
     "output_type": "stream",
     "text": [
      "item 0\n",
      "Worker-0 processing 0\n",
      "item 1\n",
      "Worker-0 processing 1\n",
      "item 2\n",
      "Worker-0 processing 2\n",
      "item 3\n",
      "Worker-0 processing 3\n",
      "item 4\n",
      "Worker-0 processing 4\n",
      "item None\n",
      "item None\n",
      "item None\n",
      "All tasks processed, and threads terminated.\n"
     ]
    }
   ],
   "source": [
    "import threading\n",
    "from queue import Queue\n",
    "\n",
    "def worker(q, lock):\n",
    "    while True:\n",
    "        item = None\n",
    "        with lock:  # Ensure that only one thread accesses the queue at a time\n",
    "            item = q.get()\n",
    "\n",
    "        print(\"item\", item)\n",
    "        \n",
    "        if item is None:  # Sentinel to terminate the thread\n",
    "            with lock:  # Acquire lock before marking sentinel task as done\n",
    "                q.task_done()  # Mark the sentinel as done\n",
    "            break\n",
    "        \n",
    "        print(f\"{threading.current_thread().name} processing {item}\")\n",
    "        \n",
    "        with lock:  # Acquire lock before marking task as done\n",
    "            q.task_done()\n",
    "\n",
    "# Create a queue and add tasks\n",
    "q = Queue()  # Correct import usage\n",
    "for i in range(5):  # Add actual tasks\n",
    "    q.put(i)\n",
    "\n",
    "# Add sentinel values for each thread\n",
    "num_threads = 3\n",
    "for _ in range(num_threads):\n",
    "    q.put(None)\n",
    "\n",
    "# Create a lock\n",
    "lock = threading.Lock()\n",
    "\n",
    "# Start worker threads\n",
    "threads = []\n",
    "for i in range(num_threads):\n",
    "    thread = threading.Thread(target=worker, args=(q, lock), name=f\"Worker-{i}\")\n",
    "    thread.start()\n",
    "    threads.append(thread)\n",
    "\n",
    "q.join()  # Wait until all tasks (excluding sentinels) are processed\n",
    "\n",
    "# Join threads\n",
    "for thread in threads:\n",
    "    thread.join()\n",
    "\n",
    "print(\"All tasks processed, and threads terminated.\")"
   ]
  },
  {
   "cell_type": "code",
   "execution_count": null,
   "id": "d366792b-dd84-493a-9e02-804a26a1e944",
   "metadata": {},
   "outputs": [],
   "source": []
  },
  {
   "cell_type": "code",
   "execution_count": 43,
   "id": "da51c780-5a25-48f5-acea-0e69f733fa49",
   "metadata": {},
   "outputs": [
    {
     "name": "stdout",
     "output_type": "stream",
     "text": [
      "item 0\n",
      "Worker-0 processing 0\n",
      "item 1\n",
      "Worker-0 processing 1\n",
      "item 2\n",
      "Worker-0 processing 2\n",
      "item 3\n",
      "Worker-0 processing 3\n",
      "item 4\n",
      "Worker-0 processing 4\n",
      "item None\n",
      "item None\n",
      "item None\n",
      "All tasks processed, and threads terminated.\n"
     ]
    }
   ],
   "source": [
    "import threading\n",
    "from queue import Queue\n",
    "\n",
    "def worker(q, lock):\n",
    "    while True:\n",
    "        with lock:  # Ensure that only one thread accesses the queue at a time\n",
    "            item = q.get()\n",
    "\n",
    "        print(\"item\", item)\n",
    "        \n",
    "        if item is None:  # Sentinel to terminate the thread\n",
    "            with lock:  # Acquire lock before marking sentinel task as done\n",
    "                q.task_done()  # Mark the sentinel as done\n",
    "            break\n",
    "        \n",
    "        print(f\"{threading.current_thread().name} processing {item}\")\n",
    "        \n",
    "        with lock:  # Acquire lock before marking task as done\n",
    "            q.task_done()\n",
    "\n",
    "# Create a queue and add tasks\n",
    "q = Queue()  # Correct import usage\n",
    "for i in range(5):  # Add actual tasks\n",
    "    q.put(i)\n",
    "\n",
    "# Add sentinel values for each thread\n",
    "num_threads = 3\n",
    "for _ in range(num_threads):\n",
    "    q.put(None)\n",
    "\n",
    "# Create a lock\n",
    "lock = threading.Lock()\n",
    "\n",
    "# Start worker threads\n",
    "threads = []\n",
    "for i in range(num_threads):\n",
    "    thread = threading.Thread(target=worker, args=(q, lock), name=f\"Worker-{i}\")\n",
    "    thread.start()\n",
    "    threads.append(thread)\n",
    "\n",
    "q.join()  # Wait until all tasks (excluding sentinels) are processed\n",
    "\n",
    "# Join threads\n",
    "for thread in threads:\n",
    "    thread.join()\n",
    "\n",
    "print(\"All tasks processed, and threads terminated.\")"
   ]
  },
  {
   "cell_type": "code",
   "execution_count": null,
   "id": "134a9015-2bd7-4b85-adca-8cdaed66165d",
   "metadata": {},
   "outputs": [],
   "source": []
  },
  {
   "cell_type": "markdown",
   "id": "87863f29-6c14-4163-a8cb-9375a121a3d2",
   "metadata": {},
   "source": [
    "#### 7. Python Multi-threading and concurrency: Concurrent HTTP requests with threads"
   ]
  },
  {
   "cell_type": "code",
   "execution_count": 36,
   "id": "e0b1592a-24da-4701-99ea-3dc3ab2c0d2e",
   "metadata": {},
   "outputs": [
    {
     "name": "stdout",
     "output_type": "stream",
     "text": [
      "Response from https://www.example.com: 200\n",
      "Response from https://www.python.org: 200\n",
      "Response from https://www.wikipedia.org: 200\n",
      "Response from https://www.google.com: 200\n"
     ]
    }
   ],
   "source": [
    "import requests\n",
    "from concurrent.futures import ThreadPoolExecutor\n",
    "\n",
    "def make_request(url):\n",
    "    response = requests.get(url)\n",
    "    print(f\"Response from {url}: {response.status_code}\") \n",
    "\n",
    "urls = [\n",
    "    \"https://www.example.com\",\n",
    "    \"https://www.google.com\",\n",
    "    \"https://www.wikipedia.org\",\n",
    "    \"https://www.python.org\"\n",
    "]\n",
    "\n",
    "with ThreadPoolExecutor() as executor:\n",
    "    for url in urls:\n",
    "        executor.submit(make_request, url)"
   ]
  },
  {
   "cell_type": "code",
   "execution_count": null,
   "id": "ff13bf90-27da-447e-ade2-3be09dc66933",
   "metadata": {},
   "outputs": [],
   "source": []
  },
  {
   "cell_type": "code",
   "execution_count": null,
   "id": "47beab18-88b7-4771-8fe2-680b3120058d",
   "metadata": {},
   "outputs": [],
   "source": []
  },
  {
   "cell_type": "code",
   "execution_count": null,
   "id": "0de00e1b-d374-4eea-8588-5e9f2762ea22",
   "metadata": {},
   "outputs": [],
   "source": []
  },
  {
   "cell_type": "markdown",
   "id": "8aa0b5d5-b8e6-4137-915b-d6548acc6f8d",
   "metadata": {},
   "source": [
    "# Python Asynchronous Programming Exercises and Solutions"
   ]
  },
  {
   "cell_type": "markdown",
   "id": "dc3d6bd9-4f57-4338-98f7-e20d29e7dcc3",
   "metadata": {},
   "source": [
    "#### 1. Write a Python program that creates an asynchronous function to print \"Python Exercises!\" with a two second delay."
   ]
  },
  {
   "cell_type": "code",
   "execution_count": 60,
   "id": "16e59dec-338f-4419-9266-f9b602b77ed4",
   "metadata": {},
   "outputs": [
    {
     "name": "stdout",
     "output_type": "stream",
     "text": [
      "Python Exercises!\n"
     ]
    }
   ],
   "source": [
    "import asyncio\n",
    "\n",
    "async def print_message():\n",
    "    await asyncio.sleep(2)\n",
    "    print(\"Python Exercises!\")\n",
    "\n",
    "async def main():\n",
    "    await print_message()\n",
    "\n",
    "# asyncio.run(main()) this requires of creating another event loop, so it gives error in jupyter\n",
    "await main() # this does not require of creating new event loop, so this is used to coroutine in a jupter environment\n"
   ]
  },
  {
   "cell_type": "markdown",
   "id": "204a7a63-0f46-4fd8-9f21-58eca1813b19",
   "metadata": {},
   "source": [
    "#### 2. Write a Python program that creates three asynchronous functions and displays their respective names with different delays (1 second, 2 seconds, and 3 seconds)."
   ]
  },
  {
   "cell_type": "code",
   "execution_count": 67,
   "id": "88678289-26c7-4c53-ada3-3c605c04f352",
   "metadata": {},
   "outputs": [
    {
     "name": "stdout",
     "output_type": "stream",
     "text": [
      "task_1 completed\n",
      "task_2 completed\n",
      "task_3 completed\n"
     ]
    }
   ],
   "source": [
    "\n",
    "import asyncio\n",
    "async def task_1():\n",
    "    await asyncio.sleep(1)\n",
    "    print(f\"{task_1.__name__} completed\")\n",
    "async def task_2():\n",
    "    await asyncio.sleep(2)\n",
    "    print(f\"{task_2.__name__} completed\")\n",
    "async def task_3():\n",
    "    await asyncio.sleep(3)\n",
    "    print(f\"{task_3.__name__} completed\")\n",
    "async def main():\n",
    "\n",
    "    # method-1: using create_task()\n",
    "    # t1 = asyncio.create_task(task_1())\n",
    "    # t2 = asyncio.create_task(task_2())\n",
    "    # t3 = asyncio.create_task(task_3())\n",
    "\n",
    "    # await t1\n",
    "    # await t2\n",
    "    # await t3\n",
    "    await asyncio.gather(\n",
    "        task_1(),\n",
    "        task_2(),\n",
    "        task_3()\n",
    "    )\n",
    "# asyncio.run(main())\n",
    "await main()"
   ]
  },
  {
   "cell_type": "markdown",
   "id": "98140f54-87d6-455b-b7b4-88466872f462",
   "metadata": {},
   "source": [
    "#### 3. Write a Python program that creates an asyncio event loop and runs a coroutine that prints numbers from 1 to 7 with a delay of 1 second each."
   ]
  },
  {
   "cell_type": "code",
   "execution_count": 70,
   "id": "ff63c240-0714-4ef0-a8d2-3c1514344209",
   "metadata": {},
   "outputs": [
    {
     "name": "stdout",
     "output_type": "stream",
     "text": [
      "1\n",
      "2\n",
      "3\n",
      "4\n",
      "5\n",
      "6\n",
      "7\n"
     ]
    }
   ],
   "source": [
    "import asyncio\n",
    "async def fun():\n",
    "    for i in range(1, 8):\n",
    "        print(i)\n",
    "        await asyncio.sleep(1)\n",
    "async def main():\n",
    "    await fun()\n",
    "\n",
    "await main()"
   ]
  },
  {
   "cell_type": "markdown",
   "id": "8dc01790-75b1-430b-bb2f-1a78aa73f357",
   "metadata": {},
   "source": [
    "#### 4. Write a Python program that implements a coroutine to fetch data from two different URLs simultaneously using the \"aiohttp\" library."
   ]
  },
  {
   "cell_type": "code",
   "execution_count": 77,
   "id": "71e66880-ab31-4a04-b9b2-8a3d3e7ae8c4",
   "metadata": {},
   "outputs": [
    {
     "name": "stdout",
     "output_type": "stream",
     "text": [
      "Data from https://jsonplaceholder.typicode.com/todos/1: {\n",
      "  \"userId\": 1,\n",
      "  \"id\": 1,\n",
      "  \"title\": \"delectus aut autem\",\n",
      "  \"completed\": false\n",
      "}...\n",
      "Data from https://jsonplaceholder.typicode.com/todos/2: {\n",
      "  \"userId\": 1,\n",
      "  \"id\": 2,\n",
      "  \"title\": \"quis ut nam facilis et officia qui\",\n",
      "  \"completed\": false\n",
      "}...\n"
     ]
    }
   ],
   "source": [
    "import aiohttp\n",
    "import asyncio\n",
    "\n",
    "async def fetch_data(url):\n",
    "    async with aiohttp.ClientSession() as session:\n",
    "        async with session.get(url) as response:\n",
    "            data = await response.text()\n",
    "            print(f\"Data from {url}: {data}...\")  # Print first 100 characters of the response\n",
    "\n",
    "async def main():\n",
    "    url1 = 'https://jsonplaceholder.typicode.com/todos/1'  # Example URL 1\n",
    "    url2 = 'https://jsonplaceholder.typicode.com/todos/2'  # Example URL 2\n",
    "    await asyncio.gather(fetch_data(url1), fetch_data(url2))\n",
    "\n",
    "await (main())\n"
   ]
  },
  {
   "cell_type": "code",
   "execution_count": null,
   "id": "45e2dbd7-c4bb-4d1a-b16e-1d69de09bd84",
   "metadata": {},
   "outputs": [],
   "source": []
  }
 ],
 "metadata": {
  "kernelspec": {
   "display_name": "Python [conda env:base] *",
   "language": "python",
   "name": "conda-base-py"
  },
  "language_info": {
   "codemirror_mode": {
    "name": "ipython",
    "version": 3
   },
   "file_extension": ".py",
   "mimetype": "text/x-python",
   "name": "python",
   "nbconvert_exporter": "python",
   "pygments_lexer": "ipython3",
   "version": "3.12.7"
  }
 },
 "nbformat": 4,
 "nbformat_minor": 5
}
