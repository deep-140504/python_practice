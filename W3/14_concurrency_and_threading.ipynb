{
 "cells": [
  {
   "cell_type": "markdown",
   "id": "3a01e1f0-83ac-451d-9ce4-57de52d0d3e7",
   "metadata": {},
   "source": [
    "# Python Multi-threading and Concurrency"
   ]
  },
  {
   "cell_type": "markdown",
   "id": "8e415e27-0fd1-4981-92ad-73fc112fbaf3",
   "metadata": {},
   "source": [
    "#### 1. Write a Python program to create multiple threads and print their names."
   ]
  },
  {
   "cell_type": "code",
   "execution_count": 14,
   "id": "dba4e108-55fa-4ce7-8d04-9d780123a13c",
   "metadata": {},
   "outputs": [
    {
     "name": "stdout",
     "output_type": "stream",
     "text": [
      "Current thread:thread-0\n",
      "Current thread:thread-1\n",
      "Current thread:thread-2\n",
      "Current thread:thread-3\n",
      "Current thread:thread-4\n"
     ]
    }
   ],
   "source": [
    "import threading\n",
    "def print_thread_name():\n",
    "    print(f\"Current thread:{threading.current_thread().name}\")\n",
    "threads = []\n",
    "for i in range(5):\n",
    "    thread = threading.Thread(target = print_thread_name, name = f\"thread-{i}\")\n",
    "    threads.append(thread)\n",
    "    thread.start()\n",
    "\n",
    "for i in range(len(threads)):\n",
    "    threads[i].join()"
   ]
  },
  {
   "cell_type": "markdown",
   "id": "2ced91d5-fab1-4096-a7d9-449cb09bc2fd",
   "metadata": {},
   "source": [
    "#### 2. Write a Python program to download multiple files concurrently using threads."
   ]
  },
  {
   "cell_type": "code",
   "execution_count": 23,
   "id": "ae5bfd3c-5e8d-4570-918c-d05e63a7ffd4",
   "metadata": {},
   "outputs": [
    {
     "name": "stdout",
     "output_type": "stream",
     "text": [
      "Downloaded file3.jpg successfully!\n",
      "Downloaded file1.jpg successfully!\n",
      "Downloaded file2.jpg successfully!\n"
     ]
    }
   ],
   "source": [
    "import threading\n",
    "import requests\n",
    "\n",
    "def download_file(url, filename):\n",
    "    try:\n",
    "        response = requests.get(url)\n",
    "        with open(filename, 'wb') as file:\n",
    "            file.write(response.content)\n",
    "        print(f\"Downloaded {filename} successfully!\")\n",
    "    except Exception as e:\n",
    "        print(f\"Failed to download {filename}: {e}\")\n",
    "\n",
    "def main():\n",
    "    urls = [\n",
    "        (\"https://example.com/file1.jpg\", \"file1.jpg\"),\n",
    "        (\"https://example.com/file2.jpg\", \"file2.jpg\"),\n",
    "        (\"https://example.com/file3.jpg\", \"file3.jpg\")\n",
    "    ]\n",
    "    \n",
    "    threads = []\n",
    "    \n",
    "    for url, filename in urls:\n",
    "        thread = threading.Thread(target=download_file, args=(url, filename))\n",
    "        threads.append(thread)\n",
    "        thread.start()\n",
    "    \n",
    "    for thread in threads:\n",
    "        thread.join()\n",
    "\n",
    "if __name__ == \"__main__\":\n",
    "    main()\n"
   ]
  },
  {
   "cell_type": "markdown",
   "id": "ee311038-9552-4e4c-a559-6674c6f8ad39",
   "metadata": {},
   "source": [
    "#### 3. Write a Python program that creates two threads to find and print even and odd numbers from 30 to 50."
   ]
  },
  {
   "cell_type": "code",
   "execution_count": 32,
   "id": "0d662458-e835-4698-8657-93fe64fc5a17",
   "metadata": {},
   "outputs": [
    {
     "name": "stdout",
     "output_type": "stream",
     "text": [
      "[30, 32, 34, 36, 38, 40, 42, 44, 46, 48, 50]\n",
      "[31, 33, 35, 37, 39, 41, 43, 45, 47, 49]\n"
     ]
    }
   ],
   "source": [
    "import threading\n",
    "def print_even_numbers():\n",
    "    arr = [num for num in range(30, 51) if num % 2 == 0]\n",
    "    print(arr)\n",
    "def print_odd_numbers():\n",
    "    arr = [num for num in range(30, 51) if num % 2 != 0]\n",
    "    print(arr)\n",
    "def main():\n",
    "    thread_even = threading.Thread(target = print_even_numbers)\n",
    "    thread_odd = threading.Thread(target = print_odd_numbers)\n",
    "\n",
    "    thread_even.start()\n",
    "    thread_odd.start()\n",
    "    thread_even.join()\n",
    "    thread_odd.join()\n",
    "if __name__ == \"__main__\":\n",
    "    main()"
   ]
  },
  {
   "cell_type": "markdown",
   "id": "6de4956b-7cbf-4c49-9666-5582fed07106",
   "metadata": {},
   "source": [
    "#### 4. Write a Python program to calculate the factorial of a number using multiple threads."
   ]
  },
  {
   "cell_type": "code",
   "execution_count": null,
   "id": "391750c8-7500-458e-b0de-f06c3a07ccde",
   "metadata": {},
   "outputs": [],
   "source": []
  }
 ],
 "metadata": {
  "kernelspec": {
   "display_name": "Python [conda env:base] *",
   "language": "python",
   "name": "conda-base-py"
  },
  "language_info": {
   "codemirror_mode": {
    "name": "ipython",
    "version": 3
   },
   "file_extension": ".py",
   "mimetype": "text/x-python",
   "name": "python",
   "nbconvert_exporter": "python",
   "pygments_lexer": "ipython3",
   "version": "3.12.7"
  }
 },
 "nbformat": 4,
 "nbformat_minor": 5
}
