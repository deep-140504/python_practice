{
 "cells": [
  {
   "cell_type": "code",
   "execution_count": null,
   "id": "89a165e8-f119-42bf-a930-5462575856b0",
   "metadata": {},
   "outputs": [],
   "source": []
  },
  {
   "cell_type": "markdown",
   "id": "4a3dd91f-1be3-43ad-8309-a5834a407836",
   "metadata": {},
   "source": [
    "#### 7. Write a Python program to calculate the distance between London and New York city."
   ]
  },
  {
   "cell_type": "code",
   "execution_count": 3,
   "id": "7936ee6d-a348-4ace-b440-523e3d676c2f",
   "metadata": {},
   "outputs": [
    {
     "name": "stdout",
     "output_type": "stream",
     "text": [
      "The distance between London and New York City is approximately 5584.80 kilometers.\n"
     ]
    }
   ],
   "source": [
    "import time\n",
    "from geopy.geocoders import Nominatim\n",
    "from geopy.distance import geodesic\n",
    "\n",
    "geolocator = Nominatim(user_agent=\"myGeopyApp_v1\")\n",
    "\n",
    "london_location = geolocator.geocode(\"London\")\n",
    "time.sleep(1)  # To comply with the rate limiting\n",
    "\n",
    "new_york_location = geolocator.geocode(\"New York City\")\n",
    "\n",
    "if london_location and new_york_location:\n",
    "    london_coords = (london_location.latitude, london_location.longitude)\n",
    "    new_york_coords = (new_york_location.latitude, new_york_location.longitude)\n",
    "\n",
    "    distance = geodesic(london_coords, new_york_coords).kilometers\n",
    "\n",
    "    print(f\"The distance between London and New York City is approximately {distance:.2f} kilometers.\")\n",
    "else:\n",
    "    print(\"Could not find one or both locations.\")\n"
   ]
  },
  {
   "cell_type": "code",
   "execution_count": null,
   "id": "b1ef7875-db41-4695-8a6b-324d63c49ae2",
   "metadata": {},
   "outputs": [],
   "source": []
  }
 ],
 "metadata": {
  "kernelspec": {
   "display_name": "Python [conda env:base] *",
   "language": "python",
   "name": "conda-base-py"
  },
  "language_info": {
   "codemirror_mode": {
    "name": "ipython",
    "version": 3
   },
   "file_extension": ".py",
   "mimetype": "text/x-python",
   "name": "python",
   "nbconvert_exporter": "python",
   "pygments_lexer": "ipython3",
   "version": "3.12.7"
  }
 },
 "nbformat": 4,
 "nbformat_minor": 5
}
