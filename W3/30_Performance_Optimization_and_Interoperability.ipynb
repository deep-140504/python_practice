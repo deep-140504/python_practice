{
 "cells": [
  {
   "cell_type": "markdown",
   "id": "e03e8dec-a100-4b14-bd4c-11815cdbd16e",
   "metadata": {},
   "source": [
    "# NumPy Performance Optimization"
   ]
  },
  {
   "cell_type": "markdown",
   "id": "fc3feff2-8236-4876-9c81-1f3cec78ab9f",
   "metadata": {},
   "source": [
    "#### 20. Write a NumPy program that creates a large NumPy array and write a function to reverse its elements using a for loop. Optimize it using NumPy's slicing operations"
   ]
  },
  {
   "cell_type": "code",
   "execution_count": 59,
   "id": "68e34a3f-c281-4e68-a59a-171664f4f168",
   "metadata": {},
   "outputs": [
    {
     "name": "stdout",
     "output_type": "stream",
     "text": [
      "Time Taken: 0.18132940004579723\n",
      "----------------------------------------\n",
      "Time Taken: 0.00012890005018562078\n",
      "----------------------------------------\n"
     ]
    }
   ],
   "source": [
    "import numpy as np\n",
    "import time\n",
    "def solution1(arr):\n",
    "    a = 0\n",
    "    n = len(arr) - 1\n",
    "    arr = arr.copy()\n",
    "    # swapping was not happening correctly in the previous case as the, numpy arrays do not allow python style swapping\n",
    "    for i in range(len(arr) // 2):\n",
    "        arr[i], arr[n - i] = arr[n - i],  arr[i]\n",
    "    return arr\n",
    "def solution2(arr):\n",
    "    ans = arr[::-1]\n",
    "    return ans\n",
    "\n",
    "arr = np.array(np.random.randint(0, 100, 200000))\n",
    "\n",
    "\n",
    "# print(f\"Original array: \\n{arr}\")\n",
    "\n",
    "\n",
    "start = time.perf_counter()\n",
    "# print(f\"Solution1: array: \\n{solution1(arr)}\")\n",
    "solution1(arr)\n",
    "end = time.perf_counter()\n",
    "print(f\"Time Taken: {(end - start)}\")\n",
    "print(\"-\"*40)\n",
    "\n",
    "start = time.perf_counter()\n",
    "# print(f\"Solution2: array: \\n{solution2(arr)}\")\n",
    "solution2(arr)\n",
    "end = time.perf_counter()\n",
    "print(f\"Time Taken: {(end - start)}\")\n",
    "print(\"-\"*40)\n",
    "# print(fun(arr))"
   ]
  },
  {
   "cell_type": "markdown",
   "id": "141b1d73-7863-4f16-96b0-09ca81367bea",
   "metadata": {},
   "source": [
    "# NumPy Interoperability "
   ]
  },
  {
   "cell_type": "markdown",
   "id": "51b886e9-c9f9-4962-8a34-fcba5cc2708f",
   "metadata": {},
   "source": [
    "#### 20. Write a NumPy program to append a NumPy array to a Python list and print the result."
   ]
  },
  {
   "cell_type": "code",
   "execution_count": 63,
   "id": "b30e443e-c962-408a-adfb-8aba83392c4a",
   "metadata": {},
   "outputs": [
    {
     "name": "stdout",
     "output_type": "stream",
     "text": [
      "Updated Python List: [10, 20, 30, 40, 50, 60]\n"
     ]
    }
   ],
   "source": [
    "import numpy as np\n",
    "\n",
    "py_list = [10, 20, 30]\n",
    "np_array = np.array([40, 50, 60])\n",
    "\n",
    "py_list.extend(np_array)\n",
    "\n",
    "print(\"Updated Python List:\", py_list)\n"
   ]
  },
  {
   "cell_type": "markdown",
   "id": "45181de9-4c7a-4c33-a4f6-1ca06d1893c2",
   "metadata": {},
   "source": [
    "# Input/Output (I/O) Operations"
   ]
  },
  {
   "cell_type": "markdown",
   "id": "dae10796-2a2e-40fb-9de2-88ce86f29c42",
   "metadata": {},
   "source": [
    "#### 20. Write a NumPy program to append a NumPy array to a Python list and print the result."
   ]
  },
  {
   "cell_type": "code",
   "execution_count": 68,
   "id": "6a9b310a-46e5-48b3-8e06-1863d91a6c81",
   "metadata": {},
   "outputs": [
    {
     "name": "stdout",
     "output_type": "stream",
     "text": [
      "Loaded data:\n",
      " [[1. 2. 3.]\n",
      " [4. 5. 6.]\n",
      " [7. 8. 9.]]\n"
     ]
    }
   ],
   "source": [
    "import numpy as np\n",
    "\n",
    "data = np.array([[1, 2, 3], [4, 5, 6], [7, 8, 9]])\n",
    "\n",
    "file_name = 'array_data.csv'\n",
    "\n",
    "np.savetxt(file_name, data, delimiter=';', fmt='%d')\n",
    "\n",
    "loaded_data = np.loadtxt(file_name, delimiter=';')\n",
    "\n",
    "print('Loaded data:\\n', loaded_data)\n"
   ]
  },
  {
   "cell_type": "code",
   "execution_count": null,
   "id": "24985049-341c-4fa5-8805-8fcba68b21af",
   "metadata": {},
   "outputs": [],
   "source": []
  }
 ],
 "metadata": {
  "kernelspec": {
   "display_name": "Python [conda env:base] *",
   "language": "python",
   "name": "conda-base-py"
  },
  "language_info": {
   "codemirror_mode": {
    "name": "ipython",
    "version": 3
   },
   "file_extension": ".py",
   "mimetype": "text/x-python",
   "name": "python",
   "nbconvert_exporter": "python",
   "pygments_lexer": "ipython3",
   "version": "3.12.7"
  }
 },
 "nbformat": 4,
 "nbformat_minor": 5
}
