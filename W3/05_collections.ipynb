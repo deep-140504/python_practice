{
 "cells": [
  {
   "cell_type": "markdown",
   "id": "229b87c1-b0c0-4203-bbcb-61db273dd13f",
   "metadata": {},
   "source": [
    "#### 2. Write a Python program to find the most common elements and their counts in a specified text.\n",
    "Original string: lkseropewdssafsdfafkpwe\n",
    "Most common three characters of the said string:\n",
    "[('s', 4), ('e', 3), ('f', 3)]"
   ]
  },
  {
   "cell_type": "code",
   "execution_count": 7,
   "id": "0cb1115d-961a-4881-9056-8c68823794b9",
   "metadata": {},
   "outputs": [
    {
     "name": "stdout",
     "output_type": "stream",
     "text": [
      "Original string: lkseropewdssafsdfafkpwe\n",
      "Most common three characters of the said string:\n",
      "[('s', 4), ('e', 3), ('f', 3)]\n"
     ]
    }
   ],
   "source": [
    "from collections import Counter\n",
    "\n",
    "s = 'lkseropewdssafsdfafkpwe'\n",
    "\n",
    "print(\"Original string: \" + s)\n",
    "\n",
    "print(\"Most common three characters of the said string:\")\n",
    "\n",
    "print(Counter(s).most_common(3)) \n"
   ]
  },
  {
   "cell_type": "code",
   "execution_count": null,
   "id": "91d3b8d4-340e-4bf5-aa50-8dd3b2e5839e",
   "metadata": {},
   "outputs": [],
   "source": []
  }
 ],
 "metadata": {
  "kernelspec": {
   "display_name": "Python [conda env:base] *",
   "language": "python",
   "name": "conda-base-py"
  },
  "language_info": {
   "codemirror_mode": {
    "name": "ipython",
    "version": 3
   },
   "file_extension": ".py",
   "mimetype": "text/x-python",
   "name": "python",
   "nbconvert_exporter": "python",
   "pygments_lexer": "ipython3",
   "version": "3.12.7"
  }
 },
 "nbformat": 4,
 "nbformat_minor": 5
}
