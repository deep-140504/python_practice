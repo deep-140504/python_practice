{
 "cells": [
  {
   "cell_type": "markdown",
   "id": "1532dd84-4a3b-438f-9365-f41407873082",
   "metadata": {},
   "source": [
    "# Python built-in modules"
   ]
  },
  {
   "cell_type": "markdown",
   "id": "b8c8311e-6e7e-4600-883a-bd3b80b79308",
   "metadata": {},
   "source": [
    "#### 1. Write a Python program to generate a random color hex, a random alphabetical string, random value between two integers (inclusive) and a random multiple of 7 between 0 and 70. Use random.randint()"
   ]
  },
  {
   "cell_type": "code",
   "execution_count": 39,
   "id": "1f2128d8-f942-444d-97fd-67fa06fbafdd",
   "metadata": {},
   "outputs": [
    {
     "name": "stdout",
     "output_type": "stream",
     "text": [
      "Generate a random color hex:\n",
      "#e2c131\n",
      "\n",
      "Generate a random alphabetical string:\n",
      "ZNXNppxZFoKlSZrKxOXrjctLNLTEdsLVVxHOMkNolvUPyuMSeIcWcHmfIOZkzfAlNIutcruMqmEIQctxsxhWJulxtxnbWgCwpMuDOjxRsgGIzBXcuLYgjOKCWmQGJQfOfnhLzfPAlJMUXiFxxAssnOHoXLZLpzEncntRqxgqRswIzOrscphOzqmHvVtJrXzcexMUuDwQYkwXISFonUcQp\n",
      "Generate a random value between two integers, inclusive:\n",
      "4\n",
      "3\n",
      "1\n",
      "Generate a random multiple of 7 between 0 and 70:\n",
      "7\n"
     ]
    }
   ],
   "source": [
    "import random\n",
    "import string\n",
    "print(\"Generate a random color hex:\")\n",
    "print(\"#{:06x}\".format(random.randint(0, 0xFFFFFF)))\n",
    "print(\"\\nGenerate a random alphabetical string:\")\n",
    "max_length = 255\n",
    "s = \"\"\n",
    "for i in range(random.randint(1, max_length)):\n",
    "    s += random.choice(string.ascii_letters)\n",
    "print(s)\n",
    "print(\"Generate a random value between two integers, inclusive:\")\n",
    "print(random.randint(0, 10))\n",
    "print(random.randint(-7, 7))\n",
    "print(random.randint(1, 1))\n",
    "print(\"Generate a random multiple of 7 between 0 and 70:\")\n",
    "print(random.randint(0, 10) * 7)\n"
   ]
  },
  {
   "cell_type": "markdown",
   "id": "dc144af2-298f-4928-a384-2d155f40ae2d",
   "metadata": {},
   "source": [
    "#### 7. Write a Python program to write dictionaries and a list of dictionaries to a given CSV file. Use csv.reader"
   ]
  },
  {
   "cell_type": "code",
   "execution_count": 42,
   "id": "15fd5862-4418-43fd-bcc9-43aec849ba75",
   "metadata": {},
   "outputs": [
    {
     "name": "stdout",
     "output_type": "stream",
     "text": [
      "CSV files created successfully.\n"
     ]
    }
   ],
   "source": [
    "import csv\n",
    "\n",
    "def write_dict_to_csv(file_name, dict_data):\n",
    "    with open(file_name, mode='w', newline='', encoding='utf-8') as file:\n",
    "        writer = csv.writer(file)\n",
    "        for key, value in dict_data.items():\n",
    "            writer.writerow([key, value])\n",
    "\n",
    "def write_list_of_dicts_to_csv(file_name, list_of_dicts):\n",
    "    if not list_of_dicts:\n",
    "        return\n",
    "    with open(file_name, mode='w', newline='', encoding='utf-8') as file:\n",
    "        writer = csv.DictWriter(file, fieldnames=list_of_dicts[0].keys())\n",
    "        writer.writeheader()\n",
    "        writer.writerows(list_of_dicts)\n",
    "\n",
    "single_dict = {\"Name\": \"Alice\", \"Age\": 30, \"City\": \"New York\"}\n",
    "write_dict_to_csv('single_dict.csv', single_dict)\n",
    "\n",
    "list_of_dicts = [\n",
    "    {\"Name\": \"Alice\", \"Age\": 30, \"City\": \"New York\"},\n",
    "    {\"Name\": \"Bob\", \"Age\": 25, \"City\": \"Los Angeles\"},\n",
    "    {\"Name\": \"Charlie\", \"Age\": 35, \"City\": \"Chicago\"},\n",
    "]\n",
    "write_list_of_dicts_to_csv('list_of_dicts.csv', list_of_dicts)\n",
    "\n",
    "print(\"CSV files created successfully.\")\n"
   ]
  },
  {
   "cell_type": "markdown",
   "id": "d36fa2d6-df7d-4d94-8dfd-0f3f2fec293f",
   "metadata": {},
   "source": [
    "# Python Operating System Services"
   ]
  },
  {
   "cell_type": "markdown",
   "id": "a1541d42-e621-42a8-91dc-b127a47d1f8c",
   "metadata": {},
   "source": [
    "#### 4. Write a Python program to check access to a specified path. Test the existence, readability, writability and executability of the specified path."
   ]
  },
  {
   "cell_type": "code",
   "execution_count": 46,
   "id": "f5c858bd-24cf-4f61-ad0a-058394ad9869",
   "metadata": {},
   "outputs": [
    {
     "name": "stdin",
     "output_type": "stream",
     "text": [
      "Enter the path to check:  C:\\Users\\DeepADabhi\\Desktop\n"
     ]
    },
    {
     "name": "stdout",
     "output_type": "stream",
     "text": [
      "Path exists: C:\\Users\\DeepADabhi\\Desktop\n",
      "Path is readable.\n",
      "Path is writable.\n",
      "Path is executable.\n"
     ]
    }
   ],
   "source": [
    "import os\n",
    "\n",
    "def check_path_access(path):\n",
    "    if os.path.exists(path):\n",
    "        print(f\"Path exists: {path}\")\n",
    "        if os.access(path, os.R_OK):\n",
    "            print(\"Path is readable.\")\n",
    "        else:\n",
    "            print(\"Path is not readable.\")\n",
    "        if os.access(path, os.W_OK):\n",
    "            print(\"Path is writable.\")\n",
    "        else:\n",
    "            print(\"Path is not writable.\")\n",
    "        if os.access(path, os.X_OK):\n",
    "            print(\"Path is executable.\")\n",
    "        else:\n",
    "            print(\"Path is not executable.\")\n",
    "    else:\n",
    "        print(f\"Path does not exist: {path}\")\n",
    "\n",
    "path_to_check = input(\"Enter the path to check: \")\n",
    "check_path_access(path_to_check)\n"
   ]
  },
  {
   "cell_type": "markdown",
   "id": "9049f8ad-27af-4506-b86a-80dd9adcbbd5",
   "metadata": {},
   "source": [
    "# Python Math"
   ]
  },
  {
   "cell_type": "markdown",
   "id": "5bec62bb-702c-491c-a2c7-947ebde9716f",
   "metadata": {},
   "source": [
    "#### 5. Write a Python program to return the sum of all divisors of a number."
   ]
  },
  {
   "cell_type": "code",
   "execution_count": 52,
   "id": "e4eebd63-a1ca-4ec1-8d5b-ebc38877b62b",
   "metadata": {},
   "outputs": [
    {
     "name": "stdout",
     "output_type": "stream",
     "text": [
      "7\n",
      "16\n"
     ]
    }
   ],
   "source": [
    "def fun(n):\n",
    "    ans = 0\n",
    "    for i in range(1, n):\n",
    "        if(n % i == 0):\n",
    "            ans += i\n",
    "    return ans\n",
    "n = 8\n",
    "print(fun(n))\n",
    "n = 12\n",
    "print(fun(n))\n",
    "\n",
    "n = 12"
   ]
  },
  {
   "cell_type": "markdown",
   "id": "302265d2-d4a4-458d-89fc-382ee9c74851",
   "metadata": {},
   "source": [
    "#### 92. Write a Python program that checks whether the absolute difference between two consecutive digits is two or not. Return true otherwise false.\n",
    "Sample Data:\n",
    "(666) -> False\n",
    "(3579) -> True\n",
    "(2468) -> True\n",
    "(20420) -> False"
   ]
  },
  {
   "cell_type": "code",
   "execution_count": 85,
   "id": "34e40798-6eda-4ebf-9bf0-9f1a94373de0",
   "metadata": {},
   "outputs": [
    {
     "name": "stdout",
     "output_type": "stream",
     "text": [
      "True\n"
     ]
    }
   ],
   "source": [
    "def fun(s):\n",
    "    s = str(s)\n",
    "    for i in range(1, len(s)):\n",
    "        a = ord(s[i])\n",
    "        b = ord(s[i - 1])\n",
    "        if(abs(a - b )!= 2):\n",
    "            return False\n",
    "    return True\n",
    "\n",
    "s = 46864\n",
    "print(fun(s))"
   ]
  },
  {
   "cell_type": "markdown",
   "id": "c53665d9-1432-4eae-8b4c-e487b60e3f03",
   "metadata": {},
   "source": [
    "# Python Requests"
   ]
  },
  {
   "cell_type": "markdown",
   "id": "aa70c729-f23f-44c4-a2f6-0bc661577617",
   "metadata": {},
   "source": [
    "#### 1. Write a Python program to find the Requests module version, licence, copyright information, author, author email, document url, title and description.\n"
   ]
  },
  {
   "cell_type": "code",
   "execution_count": 109,
   "id": "e1a21b43-e09c-4008-943f-17083df99f4d",
   "metadata": {},
   "outputs": [
    {
     "name": "stdout",
     "output_type": "stream",
     "text": [
      "Author: Kenneth Reitz\n",
      "Author-email: me@kennethreitz.org\n",
      "Version: 2.32.3\n",
      "License: Apache-2.0\n",
      "Author: Kenneth Reitz\n",
      "Author Email: me@kennethreitz.org\n",
      "Title: requests\n",
      "Description: N/A\n"
     ]
    }
   ],
   "source": [
    "import requests\n",
    "import pkg_resources\n",
    "\n",
    "def get_requests_metadata():\n",
    "    distribution = pkg_resources.get_distribution('requests')\n",
    "\n",
    "    # Extract metadata\n",
    "    version = distribution.version\n",
    "    title = distribution.project_name\n",
    "\n",
    "    # License and author information might not be directly available\n",
    "    try:\n",
    "        metadata = distribution.get_metadata('METADATA')\n",
    "        \n",
    "        license = \"N/A\"\n",
    "        author = \"N/A\"\n",
    "        author_email = \"N/A\"\n",
    "        description = \"N/A\"\n",
    "        \n",
    "        for line in metadata.splitlines():\n",
    "            if line.startswith('License:'):\n",
    "                license = line.split('License:')[1].strip()\n",
    "            elif line.startswith('Author:'):\n",
    "                print(line)\n",
    "                author = line.split('Author:')[1].strip()\n",
    "            elif line.startswith('Author-email:'):\n",
    "                print(line)\n",
    "                author_email = line.split('Author-email:')[1].strip()\n",
    "            elif line.startswith('Description:'):\n",
    "                print(line)\n",
    "                description = line.split('Description:')[1].strip()\n",
    "        \n",
    "    except (IndexError, ValueError):\n",
    "        license = \"N/A\"\n",
    "        author = \"N/A\"\n",
    "        author_email = \"N/A\"\n",
    "        description = \"N/A\"\n",
    "\n",
    "    print(f\"Version: {version}\")\n",
    "    print(f\"License: {license}\")\n",
    "    print(f\"Author: {author}\")\n",
    "    print(f\"Author Email: {author_email}\")\n",
    "    print(f\"Title: {title}\")\n",
    "    print(f\"Description: {description}\")\n",
    "\n",
    "get_requests_metadata()\n"
   ]
  },
  {
   "cell_type": "markdown",
   "id": "188503e8-c59c-49ee-8912-b7d927a75ce1",
   "metadata": {},
   "source": [
    "#### 5. Write a Python program to send a request to a web page, and print the JSON value of the response. Print each key value in the response."
   ]
  },
  {
   "cell_type": "code",
   "execution_count": 82,
   "id": "42077cd5-3d1e-42a5-97fd-36afc5b94a0c",
   "metadata": {},
   "outputs": [
    {
     "name": "stdout",
     "output_type": "stream",
     "text": [
      "JSON Response:\n",
      "userId: 1\n",
      "id: 1\n",
      "title: delectus aut autem\n",
      "completed: False\n"
     ]
    }
   ],
   "source": [
    "import requests\n",
    "\n",
    "def get_json_response(url):\n",
    "    response = requests.get(url)\n",
    "    \n",
    "    if response.status_code == 200:\n",
    "        try:\n",
    "            json_data = response.json()\n",
    "            print(\"JSON Response:\")\n",
    "            for key, value in json_data.items():\n",
    "                print(f\"{key}: {value}\")\n",
    "        except ValueError:\n",
    "            print(\"Response is not in JSON format.\")\n",
    "    else:\n",
    "        print(f\"Failed to retrieve the page. Status code: {response.status_code}\")\n",
    "\n",
    "url = \"https://jsonplaceholder.typicode.com/todos/1\"  # Example of a JSON response URL\n",
    "get_json_response(url)\n"
   ]
  },
  {
   "cell_type": "markdown",
   "id": "08f8fee7-7c3b-44bd-b760-c98bdbc01adb",
   "metadata": {},
   "source": [
    "# Python SQLite Database"
   ]
  },
  {
   "cell_type": "markdown",
   "id": "dad08a52-5e93-47f9-b4b6-f6bd5e2c6abc",
   "metadata": {},
   "source": [
    "#### 10. Write a Python program to update all the values of a specific column of a given SQLite table."
   ]
  },
  {
   "cell_type": "code",
   "execution_count": 113,
   "id": "274df2cd-d9a3-4da8-b90d-7ba113879a17",
   "metadata": {},
   "outputs": [
    {
     "name": "stdout",
     "output_type": "stream",
     "text": [
      "Agent details:\n",
      "(5001, 'James Hoog', 'New York', 0.15)\n",
      "(5002, 'Nail Knite', 'Paris', 0.25)\n",
      "(5003, 'Pit Alex', 'London', 0.15)\n",
      "(5004, 'Mc Lyon', 'Paris', 0.35)\n",
      "(5005, 'Paul Adam', 'Rome', 0.45)\n",
      "\n",
      "Update commission .15 to .45 where id is 5003:\n",
      "Record Updated successfully \n",
      "\n",
      "After updating Agent details:\n",
      "(5001, 'James Hoog', 'New York', 0.15)\n",
      "(5002, 'Nail Knite', 'Paris', 0.25)\n",
      "(5003, 'Pit Alex', 'London', 0.45)\n",
      "(5004, 'Mc Lyon', 'Paris', 0.35)\n",
      "(5005, 'Paul Adam', 'Rome', 0.45)\n",
      "\n",
      "The SQLite connection is closed.\n"
     ]
    }
   ],
   "source": [
    "import sqlite3 \n",
    "from sqlite3 import Error \n",
    "def sql_connection():\n",
    "    try:\n",
    "      conn = sqlite3.connect('temp.db')\n",
    "      return conn\n",
    "    except Error:\n",
    "      print(Error) \n",
    "def sql_table(conn):\n",
    "    cursorObj = conn.cursor()\n",
    "# Create the table\n",
    "    cursorObj.execute(\"CREATE TABLE salesman(salesman_id n(5), name char(30), city char(35), commission decimal(7,2));\")\n",
    "# Insert records\n",
    "    cursorObj.executescript(\"\"\"\n",
    "    INSERT INTO salesman VALUES(5001,'James Hoog', 'New York', 0.15);\n",
    "    INSERT INTO salesman VALUES(5002,'Nail Knite', 'Paris', 0.25);\n",
    "    INSERT INTO salesman VALUES(5003,'Pit Alex', 'London', 0.15);\n",
    "    INSERT INTO salesman VALUES(5004,'Mc Lyon', 'Paris', 0.35);\n",
    "    INSERT INTO salesman VALUES(5005,'Paul Adam', 'Rome', 0.45);\n",
    "    \"\"\")    \n",
    "    cursorObj.execute(\"SELECT * FROM salesman\")\n",
    "    rows = cursorObj.fetchall()\n",
    "    print(\"Agent details:\")\n",
    "    for row in rows:\n",
    "        print(row)\n",
    "    print(\"\\nUpdate commission .15 to .45 where id is 5003:\")\n",
    "    sql_update_query = \"\"\"Update salesman set commission = .45 where salesman_id = 5003\"\"\"\n",
    "    cursorObj.execute(sql_update_query)\n",
    "    conn.commit()\n",
    "    print(\"Record Updated successfully \")    \n",
    "    cursorObj.execute(\"SELECT * FROM salesman\")\n",
    "    rows = cursorObj.fetchall()\n",
    "    print(\"\\nAfter updating Agent details:\")\n",
    "    for row in rows:\n",
    "        print(row)\n",
    "sqllite_conn = sql_connection()\n",
    "sql_table(sqllite_conn)\n",
    "if (sqllite_conn):\n",
    "  sqllite_conn.close()\n",
    "  print(\"\\nThe SQLite connection is closed.\")"
   ]
  },
  {
   "cell_type": "code",
   "execution_count": null,
   "id": "1ceaebda-9443-432e-9508-35ab85874f12",
   "metadata": {},
   "outputs": [],
   "source": []
  }
 ],
 "metadata": {
  "kernelspec": {
   "display_name": "Python [conda env:base] *",
   "language": "python",
   "name": "conda-base-py"
  },
  "language_info": {
   "codemirror_mode": {
    "name": "ipython",
    "version": 3
   },
   "file_extension": ".py",
   "mimetype": "text/x-python",
   "name": "python",
   "nbconvert_exporter": "python",
   "pygments_lexer": "ipython3",
   "version": "3.12.7"
  }
 },
 "nbformat": 4,
 "nbformat_minor": 5
}
