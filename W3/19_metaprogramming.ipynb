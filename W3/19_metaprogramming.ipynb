{
 "cells": [
  {
   "cell_type": "markdown",
   "id": "a3b24bb1-c243-493d-a7c7-a020dd960c43",
   "metadata": {},
   "source": [
    "#### 1. Write a Python metaclass \"AttrLoggingMeta\" that logs every time an attribute is accessed or modified."
   ]
  },
  {
   "cell_type": "code",
   "execution_count": 2,
   "id": "b7848a7b-cca8-4075-af43-cad329fa7f7f",
   "metadata": {},
   "outputs": [
    {
     "name": "stdout",
     "output_type": "stream",
     "text": [
      "Setting attribute: value to 42\n",
      "Accessing attribute: value\n",
      "42\n",
      "Setting attribute: value to 100\n",
      "Setting attribute: new_attr to Hello\n",
      "Accessing attribute: new_attr\n",
      "Hello\n"
     ]
    }
   ],
   "source": [
    "class LoggingMeta(type):\n",
    "    def __new__(cls, name, bases, dct):\n",
    "        original_getattribute = dct.get('__getattribute__', object.__getattribute__)\n",
    "        def logging_getattribute(self, name):\n",
    "            print(f\"Accessing attribute: {name}\")\n",
    "            return original_getattribute(self, name)\n",
    "\n",
    "        original_setattr = dct.get('__setattr__', object.__setattr__)\n",
    "        def logging_setattr(self, name, value):\n",
    "            print(f\"Setting attribute: {name} to {value}\")\n",
    "            original_setattr(self, name, value)\n",
    "\n",
    "        dct['__getattribute__'] = logging_getattribute\n",
    "        dct['__setattr__'] = logging_setattr\n",
    "        return super().__new__(cls, name, bases, dct)\n",
    "\n",
    "class LoggedClass(metaclass=LoggingMeta):\n",
    "    def __init__(self, value):\n",
    "        self.value = value\n",
    "\n",
    "obj = LoggedClass(42)\n",
    "\n",
    "print(obj.value)\n",
    "obj.value = 100\n",
    "obj.new_attr = \"Hello\"\n",
    "print(obj.new_attr)"
   ]
  },
  {
   "cell_type": "code",
   "execution_count": 4,
   "id": "ca085219-04e3-4094-b100-778b932bb63e",
   "metadata": {},
   "outputs": [
    {
     "name": "stdout",
     "output_type": "stream",
     "text": [
      "Attribute random_val's value accessed\n",
      "21\n",
      "Attribute random_val's value set to 50\n",
      "Calling method: random_func\n"
     ]
    },
    {
     "data": {
      "text/plain": [
       "'random string'"
      ]
     },
     "execution_count": 4,
     "metadata": {},
     "output_type": "execute_result"
    }
   ],
   "source": [
    "# Do following for better results and accurate answer\n",
    "\n",
    "class AttrLoggingMeta(type):\n",
    "    def __new__(cls, name, bases, dct):\n",
    "        for k, v in dct.items():\n",
    "            if not k.startswith(\"__\"):\n",
    "                dct[k] = cls.log_access(k, v)\n",
    "        return super().__new__(cls, name, bases, dct)\n",
    "\n",
    "    def log_access(name, value):\n",
    "        if callable(value):\n",
    "            def wrapper(*args, **kwargs):\n",
    "                print(f\"Calling method: {name}\")\n",
    "                return value(*args, **kwargs)\n",
    "            return wrapper\n",
    "        else:\n",
    "            return property(\n",
    "                fget = lambda self: AttrLoggingMeta.log_read(name, value, self),\n",
    "                fset = lambda self, v: AttrLoggingMeta.log_write(name, v, self)\n",
    "            )\n",
    "\n",
    "    def log_read(name, value, self):\n",
    "        print(f\"Attribute {name}'s value accessed\")\n",
    "        return value\n",
    "\n",
    "    def log_write(name, v, self):\n",
    "        print(f\"Attribute {name}'s value set to {v}\")\n",
    "        self.__dict__[name] = v\n",
    "\n",
    "class LoggedClass(metaclass=AttrLoggingMeta):\n",
    "    random_val = 21\n",
    "    def random_func(self):\n",
    "        return \"random string\"\n",
    "\n",
    "l1 = LoggedClass()\n",
    "print(l1.random_val)\n",
    "l1.random_val = 50\n",
    "l1.random_func()"
   ]
  },
  {
   "cell_type": "markdown",
   "id": "fa4e52b8-0f5e-488f-87a2-8910504fe76e",
   "metadata": {},
   "source": [
    "#### 2. Write a Python function \"create_inherited_class\" that takes a base class, a class name, and a dictionary of additional attributes and methods, and returns a dynamically created subclass."
   ]
  },
  {
   "cell_type": "code",
   "execution_count": 7,
   "id": "30ca815f-0b1b-4a3a-b201-4f4f9982d49f",
   "metadata": {},
   "outputs": [
    {
     "name": "stdout",
     "output_type": "stream",
     "text": [
      "Hello! How are you?\n",
      "Additional Method\n",
      "<class '__main__.DynamicSubClass'>\n"
     ]
    }
   ],
   "source": [
    "class BaseClass:\n",
    "    def greet(self):\n",
    "        return \"Hello! How are you?\"\n",
    "\n",
    "def create_inherited_class(base_class, child_class, attrs):\n",
    "    return type(child_class, (base_class,), attrs)\n",
    "\n",
    "attrs = {\n",
    "    \"additional_method\": lambda self: \"Additional Method\"\n",
    "}\n",
    "\n",
    "DynamicSubClass = create_inherited_class(BaseClass, \"DynamicSubClass\", attrs)\n",
    "\n",
    "instance = DynamicSubClass()\n",
    "print(instance.greet())\n",
    "print(instance.additional_method())\n",
    "print(type(instance))"
   ]
  },
  {
   "cell_type": "markdown",
   "id": "18929d0e-b466-44d7-a76f-6e3aadb813e5",
   "metadata": {},
   "source": [
    "#### 3. Write a Python function \"generate_complex_function\" that takes a function name, a list of parameter names, and a body as strings, and returns a dynamically generated function."
   ]
  },
  {
   "cell_type": "code",
   "execution_count": 12,
   "id": "395d35eb-c760-4e79-a717-46eca1dde532",
   "metadata": {},
   "outputs": [
    {
     "name": "stdout",
     "output_type": "stream",
     "text": [
      "2\n",
      "5\n"
     ]
    }
   ],
   "source": [
    "def generate_complex_function(func_name, params, body):\n",
    "    body = body.replace(\"\\n\", \"\\n    \")\n",
    "    exec(f\"def {func_name}({\",\".join(params)}):\\n    {body}\")\n",
    "    return locals()[func_name]\n",
    "\n",
    "func_name = \"greater\"\n",
    "func_params = [\"a\",\"b\"]\n",
    "func_body = \"\"\"\n",
    "if a>b:\n",
    "    return a\n",
    "else:\n",
    "    return b\n",
    "\"\"\"\n",
    "\n",
    "add_func = generate_complex_function(func_name, func_params, func_body)\n",
    "print(add_func(1,2))\n",
    "print(add_func(5,2))"
   ]
  },
  {
   "cell_type": "code",
   "execution_count": null,
   "id": "238d8b75-429d-45b4-8d07-05eb63ddf925",
   "metadata": {},
   "outputs": [],
   "source": []
  }
 ],
 "metadata": {
  "kernelspec": {
   "display_name": "Python [conda env:base] *",
   "language": "python",
   "name": "conda-base-py"
  },
  "language_info": {
   "codemirror_mode": {
    "name": "ipython",
    "version": 3
   },
   "file_extension": ".py",
   "mimetype": "text/x-python",
   "name": "python",
   "nbconvert_exporter": "python",
   "pygments_lexer": "ipython3",
   "version": "3.12.7"
  }
 },
 "nbformat": 4,
 "nbformat_minor": 5
}
