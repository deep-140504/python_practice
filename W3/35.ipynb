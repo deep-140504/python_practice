{
 "cells": [
  {
   "cell_type": "markdown",
   "id": "c1d341a8-4cbb-480a-9192-856e22ac6574",
   "metadata": {},
   "source": [
    "# Indexing"
   ]
  },
  {
   "cell_type": "markdown",
   "id": "26035090-da6c-49f8-ba9d-5fbb2b4637fd",
   "metadata": {},
   "source": [
    "#### 4. Add leading zeros to a character column in a pandas series and make the length of the field 8 digits."
   ]
  },
  {
   "cell_type": "code",
   "execution_count": 5,
   "id": "c455f0ea-311d-456b-beeb-59146f6f3c06",
   "metadata": {},
   "outputs": [
    {
     "data": {
      "text/html": [
       "<div>\n",
       "<style scoped>\n",
       "    .dataframe tbody tr th:only-of-type {\n",
       "        vertical-align: middle;\n",
       "    }\n",
       "\n",
       "    .dataframe tbody tr th {\n",
       "        vertical-align: top;\n",
       "    }\n",
       "\n",
       "    .dataframe thead th {\n",
       "        text-align: right;\n",
       "    }\n",
       "</style>\n",
       "<table border=\"1\" class=\"dataframe\">\n",
       "  <thead>\n",
       "    <tr style=\"text-align: right;\">\n",
       "      <th></th>\n",
       "      <th>col1</th>\n",
       "      <th>padded</th>\n",
       "    </tr>\n",
       "  </thead>\n",
       "  <tbody>\n",
       "    <tr>\n",
       "      <th>0</th>\n",
       "      <td>apple</td>\n",
       "      <td>000apple</td>\n",
       "    </tr>\n",
       "    <tr>\n",
       "      <th>1</th>\n",
       "      <td>banana</td>\n",
       "      <td>00banana</td>\n",
       "    </tr>\n",
       "    <tr>\n",
       "      <th>2</th>\n",
       "      <td>cherry</td>\n",
       "      <td>00cherry</td>\n",
       "    </tr>\n",
       "    <tr>\n",
       "      <th>3</th>\n",
       "      <td>date</td>\n",
       "      <td>0000date</td>\n",
       "    </tr>\n",
       "  </tbody>\n",
       "</table>\n",
       "</div>"
      ],
      "text/plain": [
       "     col1    padded\n",
       "0   apple  000apple\n",
       "1  banana  00banana\n",
       "2  cherry  00cherry\n",
       "3    date  0000date"
      ]
     },
     "execution_count": 5,
     "metadata": {},
     "output_type": "execute_result"
    }
   ],
   "source": [
    "import pandas as pd\n",
    "data = {'col1': ['apple', 'banana', 'cherry', 'date']}\n",
    "df = pd.DataFrame(data)\n",
    "\n",
    "df['padded'] = df['col1'].str.zfill(8)\n",
    "\n",
    "df\n"
   ]
  },
  {
   "cell_type": "markdown",
   "id": "a2d34338-18df-42b8-bd82-760940633312",
   "metadata": {},
   "source": [
    "# String and Regular Expression"
   ]
  },
  {
   "cell_type": "code",
   "execution_count": 2,
   "id": "9b22088a-68c0-4797-9969-637472ea7d09",
   "metadata": {},
   "outputs": [
    {
     "name": "stdout",
     "output_type": "stream",
     "text": [
      "      Name    Upper    Lower  Length\n",
      "0    Alice    ALICE    alice       5\n",
      "1      Bob      BOB      bob       3\n",
      "2  Charlie  CHARLIE  charlie       7\n",
      "3    David    DAVID    david       5\n"
     ]
    }
   ],
   "source": [
    "import pandas as pd\n",
    "\n",
    "data = {'Name': ['Alice', 'Bob', 'Charlie', 'David']}\n",
    "df = pd.DataFrame(data)\n",
    "\n",
    "df['Upper'] = df['Name'].str.upper()\n",
    "df['Lower'] = df['Name'].str.lower()\n",
    "df['Length'] = df['Name'].str.len()\n",
    "\n",
    "print(df)\n"
   ]
  },
  {
   "cell_type": "markdown",
   "id": "6b0aca13-ae7f-401f-a0cc-948533fd478c",
   "metadata": {},
   "source": [
    "#### 16. Get the Length of the Integer of a Column"
   ]
  },
  {
   "cell_type": "code",
   "execution_count": 11,
   "id": "c0de9bc3-095e-472a-9769-15cd3fb70d45",
   "metadata": {},
   "outputs": [
    {
     "name": "stdout",
     "output_type": "stream",
     "text": [
      "   Integer  Integer_Length\n",
      "0       23               2\n",
      "1      567               3\n",
      "2      890               3\n",
      "3     1234               4\n"
     ]
    }
   ],
   "source": [
    "import pandas as pd\n",
    "\n",
    "df = pd.DataFrame({'Integer': [23, 567, 890, 1234]})\n",
    "\n",
    "df['Integer_Length'] = df['Integer'].apply(lambda x: len(str(x)))\n",
    "\n",
    "print(df)\n"
   ]
  },
  {
   "cell_type": "markdown",
   "id": "4128a35b-096d-4ec0-a14b-6fb1bd9f1538",
   "metadata": {},
   "source": [
    "#### 24. Extract Email from a Specified Column"
   ]
  },
  {
   "cell_type": "code",
   "execution_count": 17,
   "id": "4ff64204-01d3-40eb-82ad-63695e5f8543",
   "metadata": {},
   "outputs": [
    {
     "name": "stdout",
     "output_type": "stream",
     "text": [
      "                Text          Email\n",
      "0      a@example.com  a@example.com\n",
      "1       b@sample.com   b@sample.com\n",
      "2  not_a_valid_email            NaN\n",
      "3         c@mail.com     c@mail.com\n"
     ]
    }
   ],
   "source": [
    "import pandas as pd\n",
    "\n",
    "df = pd.DataFrame({'Text': ['a@example.com', 'b@sample.com', 'not_a_valid_email', 'c@mail.com']})\n",
    "\n",
    "df['Email'] = df['Text'].str.extract(r'([a-zA-Z0-9._%+-]+@[a-zA-Z0-9.-]+\\.[a-zA-Z]{2,})')\n",
    "\n",
    "print(df)\n"
   ]
  },
  {
   "cell_type": "markdown",
   "id": "a21e814f-a096-4bad-b2f2-b2b03e51c6f0",
   "metadata": {},
   "source": [
    "#### 26. Extract Word Mentioning Someone in Tweets Using @"
   ]
  },
  {
   "cell_type": "code",
   "execution_count": 15,
   "id": "6e9f8547-e82c-4e94-b289-d9a16bb92cb9",
   "metadata": {},
   "outputs": [
    {
     "name": "stdout",
     "output_type": "stream",
     "text": [
      "                 Text  Mentions\n",
      "0           @a Hello!      [@a]\n",
      "1    @b, how are you?      [@b]\n",
      "2  Just a random text        []\n",
      "3     @c @d are here!  [@c, @d]\n",
      "4   @e is joining us.      [@e]\n"
     ]
    }
   ],
   "source": [
    "import pandas as pd\n",
    "\n",
    "df = pd.DataFrame({'Text': ['@a Hello!', '@b, how are you?', 'Just a random text', '@c @d are here!', '@e is joining us.']})\n",
    "\n",
    "df['Mentions'] = df['Text'].str.findall(r'@\\w+')\n",
    "\n",
    "print(df)\n"
   ]
  },
  {
   "cell_type": "markdown",
   "id": "30be965c-ebed-4e28-8bf1-46b8567d0527",
   "metadata": {},
   "source": [
    "# Joining and merging"
   ]
  },
  {
   "cell_type": "markdown",
   "id": "4c21863a-a10d-4495-976c-59c147361290",
   "metadata": {},
   "source": [
    "#### 15. Combine two DataFrame objects by filling null values in one DataFrame with non-null values from other DataFrame."
   ]
  },
  {
   "cell_type": "code",
   "execution_count": 25,
   "id": "7dd10fd0-7c08-4ffe-8a5d-27968f221f13",
   "metadata": {},
   "outputs": [
    {
     "name": "stdout",
     "output_type": "stream",
     "text": [
      "     A    B\n",
      "0  1.0  3.0\n",
      "1  0.0  4.0\n",
      "2  3.0  5.0\n"
     ]
    }
   ],
   "source": [
    "import pandas as pd\n",
    "import numpy as np\n",
    "\n",
    "df1 = pd.DataFrame({'A': [np.nan, 0.0, np.nan], 'B': [3, 4, 5]})\n",
    "df2 = pd.DataFrame({'A': [1, 1, 3], 'B': [3.0, np.nan, 3.0]})\n",
    "\n",
    "result = df1.combine_first(df2)\n",
    "\n",
    "print(result)\n"
   ]
  },
  {
   "cell_type": "markdown",
   "id": "4dec8940-41ea-4d9c-85a0-415fdb1d76f2",
   "metadata": {},
   "source": [
    "# Pandas Grouping and Aggregating "
   ]
  },
  {
   "cell_type": "markdown",
   "id": "2e2b323f-3802-4e7f-8d42-1d24f9ad8652",
   "metadata": {},
   "source": [
    "#### 32. split a given dataset using group by on multiple columns and drop last n rows of from each group."
   ]
  },
  {
   "cell_type": "code",
   "execution_count": 35,
   "id": "66fb5ea4-90e9-4493-86d6-49f1671566eb",
   "metadata": {},
   "outputs": [
    {
     "name": "stdout",
     "output_type": "stream",
     "text": [
      "   ord_no  purch_amt    ord_date  customer_id  salesman_id\n",
      "0   70002      65.26  2012-10-05         3001         5001\n",
      "1   70001     150.50  2012-10-05         3002         5002\n",
      "2   70004     110.50  2012-08-17         3003         5003\n"
     ]
    },
    {
     "name": "stderr",
     "output_type": "stream",
     "text": [
      "C:\\Users\\DeepADabhi\\AppData\\Local\\Temp\\ipykernel_5848\\3066074503.py:15: DeprecationWarning: DataFrameGroupBy.apply operated on the grouping columns. This behavior is deprecated, and in a future version of pandas the grouping columns will be excluded from the operation. Either pass `include_groups=False` to exclude the groupings or explicitly select the grouping columns after groupby to silence this warning.\n",
      "  result = grouped.apply(lambda group: group.iloc[:-2])\n"
     ]
    }
   ],
   "source": [
    "import pandas as pd\n",
    "\n",
    "data = {\n",
    "    'ord_no': [70001, 70009, 70002, 70004, 70007, 70005, 70008, 70010, 70003, 70012, 70011, 70013],\n",
    "    'purch_amt': [150.50, 270.65, 65.26, 110.50, 948.50, 2400.60, 5760.00, 1983.43, 2480.40, 250.45, 75.29, 3045.60],\n",
    "    'ord_date': ['2012-10-05', '2012-09-10', '2012-10-05', '2012-08-17', '2012-09-10', '2012-07-27', '2012-09-10', '2012-10-10', '2012-10-10', '2012-06-27', '2012-08-17', '2012-04-25'],\n",
    "    'customer_id': [3002, 3001, 3001, 3003, 3002, 3002, 3001, 3004, 3003, 3002, 3003, 3001],\n",
    "    'salesman_id': [5002, 5003, 5001, 5003, 5002, 5001, 5001, 5003, 5003, 5002, 5003, 5001]\n",
    "}\n",
    "\n",
    "df = pd.DataFrame(data)\n",
    "\n",
    "grouped = df.groupby(['customer_id', 'salesman_id'])\n",
    "\n",
    "result = grouped.apply(lambda group: group.iloc[:-2])\n",
    "\n",
    "result = result.reset_index(drop=True)\n",
    "\n",
    "print(result)\n"
   ]
  },
  {
   "cell_type": "markdown",
   "id": "44fa811f-b121-4bf3-9425-164e1b8f8ef7",
   "metadata": {},
   "source": [
    "# Time Series"
   ]
  },
  {
   "cell_type": "markdown",
   "id": "baf84a19-5ffc-4231-a859-d76cb7a70a71",
   "metadata": {},
   "source": [
    "#### 32. create a yearly time period from a specified year and display the properties of this period."
   ]
  },
  {
   "cell_type": "code",
   "execution_count": 37,
   "id": "d33d8cb0-2079-4d07-a616-7ee380fa2f3e",
   "metadata": {},
   "outputs": [
    {
     "name": "stdout",
     "output_type": "stream",
     "text": [
      "Period: 2025\n",
      "Start Time: 2025-01-01 00:00:00\n",
      "End Time: 2025-12-31 23:59:59.999999999\n",
      "Frequency: <YearEnd: month=12>\n",
      "Year: 2025\n"
     ]
    }
   ],
   "source": [
    "import pandas as pd\n",
    "\n",
    "year = 2025\n",
    "period = pd.Period(year=year, freq='Y')\n",
    "\n",
    "print(\"Period:\", period)\n",
    "print(\"Start Time:\", period.start_time)\n",
    "print(\"End Time:\", period.end_time)\n",
    "print(\"Frequency:\", period.freq)\n",
    "print(\"Year:\", period.year)\n"
   ]
  },
  {
   "cell_type": "markdown",
   "id": "202b93de-9d52-489f-8811-39d4eabe45ff",
   "metadata": {},
   "source": [
    "# Pandas Filter "
   ]
  },
  {
   "cell_type": "markdown",
   "id": "9365c946-1955-4e48-94be-1959795d629e",
   "metadata": {},
   "source": [
    "#### 26. Convert 'Display Value' to Integer Type"
   ]
  },
  {
   "cell_type": "code",
   "execution_count": 40,
   "id": "3215c8b5-61a4-4168-8abf-fcc34ef71de0",
   "metadata": {},
   "outputs": [],
   "source": [
    "import pandas as pd\n",
    "\n",
    "data = {\n",
    "    \"Year\": [1986, 1986, 1985, 1986, 1987],\n",
    "    \"WHO region\": [\"Western Pacific\", \"Americas\", \"Africa\", \"Americas\", \"Americas\"],\n",
    "    \"Country\": [\"Viet Nam\", \"Uruguay\", \"Cte d'Ivoire\", \"Colombia\", \"Saint Kitts and Nevis\"],\n",
    "    \"Beverage Types\": [\"Wine\", \"Other\", \"Wine\", \"Beer\", \"Beer\"],\n",
    "    \"Display Value\": [0.00, 0.50, 1.62, 4.27, 1.98]\n",
    "}\n",
    "df = pd.DataFrame(data)\n",
    "\n"
   ]
  },
  {
   "cell_type": "code",
   "execution_count": 42,
   "id": "e74cad9a-b9b3-41fb-a788-14ce1a72524a",
   "metadata": {},
   "outputs": [
    {
     "name": "stdout",
     "output_type": "stream",
     "text": [
      "Display Value after conversion to integer type:\n",
      "   Year       WHO region                Country Beverage Types  Display Value\n",
      "0  1986  Western Pacific               Viet Nam           Wine              0\n",
      "1  1986         Americas                Uruguay          Other              0\n",
      "2  1985           Africa           Cte d'Ivoire           Wine              2\n",
      "3  1986         Americas               Colombia           Beer              4\n",
      "4  1987         Americas  Saint Kitts and Nevis           Beer              2\n"
     ]
    }
   ],
   "source": [
    "df['Display Value'] = df['Display Value'].round().astype(int)\n",
    "print(\"Display Value after conversion to integer type:\")\n",
    "print(df)"
   ]
  },
  {
   "cell_type": "code",
   "execution_count": null,
   "id": "e0690a71-077a-40d2-815b-1d757f49edc5",
   "metadata": {},
   "outputs": [],
   "source": []
  }
 ],
 "metadata": {
  "kernelspec": {
   "display_name": "Python [conda env:base] *",
   "language": "python",
   "name": "conda-base-py"
  },
  "language_info": {
   "codemirror_mode": {
    "name": "ipython",
    "version": 3
   },
   "file_extension": ".py",
   "mimetype": "text/x-python",
   "name": "python",
   "nbconvert_exporter": "python",
   "pygments_lexer": "ipython3",
   "version": "3.12.7"
  }
 },
 "nbformat": 4,
 "nbformat_minor": 5
}
