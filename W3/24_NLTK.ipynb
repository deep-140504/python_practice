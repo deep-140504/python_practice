{
 "cells": [
  {
   "cell_type": "markdown",
   "id": "fa670c23-2bdd-4843-a238-cf7ebbb9f86a",
   "metadata": {},
   "source": [
    "# NLTK Tokenize"
   ]
  },
  {
   "cell_type": "markdown",
   "id": "1b0e9dae-af41-45ce-8e79-171deb324f57",
   "metadata": {},
   "source": [
    "#### 6. Tokenize a twitter text\n"
   ]
  },
  {
   "cell_type": "code",
   "execution_count": 2,
   "id": "203b3bb9-1883-4588-a687-e29171864969",
   "metadata": {},
   "outputs": [
    {
     "name": "stdout",
     "output_type": "stream",
     "text": [
      "['Lorem', 'ipsum', 'dolor', 'sit', 'amet', ',', 'consectetur', 'adipiscing', 'elit', '.', '#Lorem', '@Ipsum', '😊']\n"
     ]
    }
   ],
   "source": [
    "from nltk.tokenize import TweetTokenizer\n",
    "\n",
    "text = \"Lorem ipsum dolor sit amet, consectetur adipiscing elit. #Lorem @Ipsum 😊\"\n",
    "tokenizer = TweetTokenizer()\n",
    "tokens = tokenizer.tokenize(text)\n",
    "\n",
    "print(tokens)\n"
   ]
  },
  {
   "cell_type": "markdown",
   "id": "a8076292-89a7-43fd-99ba-0004c61bb82a",
   "metadata": {},
   "source": [
    "#### 7. Write a Python NLTK program to remove Twitter username handles from a given twitter text."
   ]
  },
  {
   "cell_type": "code",
   "execution_count": 7,
   "id": "984a8d08-d0ba-4b66-b60e-0e25bb5cb092",
   "metadata": {},
   "outputs": [
    {
     "name": "stdout",
     "output_type": "stream",
     "text": [
      "['Lorem', 'dolor', 'sit', 'amet', ',', 'adipiscing', 'elit', '.', '#Lorem', '😊']\n"
     ]
    }
   ],
   "source": [
    "import re\n",
    "from nltk.tokenize import TweetTokenizer\n",
    "def remove_username(text):\n",
    "    modified_text = re.sub(r'@\\w+', '', text)\n",
    "    return modified_text\n",
    "\n",
    "text = \"Lorem @ipsum dolor sit amet, @consectetur adipiscing elit. #Lorem @Ipsum 😊\"\n",
    "res = remove_username(text)\n",
    "tokenizer = TweetTokenizer()\n",
    "tokens = tokenizer.tokenize(res)\n",
    "print(tokens)"
   ]
  },
  {
   "cell_type": "markdown",
   "id": "4758f7c9-614e-4adb-a60e-310f2fe43dba",
   "metadata": {},
   "source": [
    "# Corpus Exercises"
   ]
  },
  {
   "cell_type": "raw",
   "id": "55a5580e-5101-4021-9e9f-cba05d26f55e",
   "metadata": {},
   "source": [
    "Corpus is a singular form of corpora\n",
    "it is use dor linguistic analysis\n",
    "\n",
    "corpus are very large ins size, they are organized in a symstematic way, they include texts from various deomains, languages, genres and time period, it is used for sentiment analysis, machine translation, or speech recognition\n",
    "\n",
    "Types of corpora:\n",
    "1. General corpora: contains wide variety of texts from different domains\n",
    "2. specialized corpora: focuses on specific domain\n",
    "3. monolingual coropora: contains texts, in a single language\n",
    "4. multilingual coropora: contains texts in multiple language\n",
    "5. parallel corpora: contains texts in two or more languages that are translations of each other\n",
    "6. annotated corpora: it includes, part-of-sopeech tags, syntactic trees or named entities\n",
    "7. historical corpora: contain texts from earlier time periods for studying language change\n",
    "8. speech corpora: contains audio recordings and transcriptions of spoken languages\n",
    "9. learner corpora: contains text produced by language learners for studying second language\n",
    "\n",
    "Use of corpora:\n",
    "NLP Model Training, Linguistic Research, Lexicography(Dictionary), Language Teaching, Information Retrieval(Recommendation), Sentiment Analysis(Opinions and emotion of the text)"
   ]
  },
  {
   "cell_type": "markdown",
   "id": "06e6ceda-102d-41d1-9eea-76e1fa4e6d94",
   "metadata": {},
   "source": [
    "#### 7. Write a Python NLTK program to find the sets of synonyms and antonyms of a given word."
   ]
  },
  {
   "cell_type": "code",
   "execution_count": 16,
   "id": "a77e4ecc-da0d-45c3-bb1a-2b1d2c1eb0a7",
   "metadata": {},
   "outputs": [
    {
     "name": "stderr",
     "output_type": "stream",
     "text": [
      "[nltk_data] Downloading package wordnet to\n",
      "[nltk_data]     C:\\Users\\DeepADabhi\\AppData\\Roaming\\nltk_data...\n",
      "[nltk_data]   Package wordnet is already up-to-date!\n"
     ]
    },
    {
     "name": "stdin",
     "output_type": "stream",
     "text": [
      "Enter a word:  bank\n"
     ]
    },
    {
     "name": "stdout",
     "output_type": "stream",
     "text": [
      "Synonyms of 'bank': ['cant', 'bank_building', 'rely', 'banking_concern', 'banking_company', 'coin_bank', 'depository_financial_institution', 'bank', 'money_box', 'swear', 'trust', 'camber', 'deposit', 'savings_bank']\n",
      "Antonyms of 'bank': ['mistrust', 'distrust', 'withdraw']\n"
     ]
    }
   ],
   "source": [
    "import nltk\n",
    "from nltk.corpus import wordnet as wn\n",
    "nltk.download('wordnet')\n",
    "def antonyms_synonyms(word):\n",
    "    synsets = wn.synsets(word)\n",
    "    synonyms = set()\n",
    "    antonyms = set()\n",
    "    for syn in synsets:\n",
    "\n",
    "        for lemma in syn.lemmas():\n",
    "            synonyms.add(lemma.name())\n",
    "            for antonym in lemma.antonyms():\n",
    "                antonyms.add(antonym.name())\n",
    "    return list(synonyms), list(antonyms)\n",
    "\n",
    "word = input(\"Enter a word: \")\n",
    "synonyms, antonyms = antonyms_synonyms(word)\n",
    "\n",
    "print(f\"Synonyms of '{word}': {synonyms}\")\n",
    "print(f\"Antonyms of '{word}': {antonyms}\")"
   ]
  },
  {
   "cell_type": "code",
   "execution_count": 18,
   "id": "e766b661-4dc6-4eb8-8db0-dcee797e6f65",
   "metadata": {
    "scrolled": true
   },
   "outputs": [
    {
     "name": "stderr",
     "output_type": "stream",
     "text": [
      "[nltk_data] Downloading package wordnet to\n",
      "[nltk_data]     C:\\Users\\DeepADabhi\\AppData\\Roaming\\nltk_data...\n",
      "[nltk_data]   Package wordnet is already up-to-date!\n"
     ]
    },
    {
     "name": "stdin",
     "output_type": "stream",
     "text": [
      "Enter a word:  bank\n"
     ]
    },
    {
     "name": "stdout",
     "output_type": "stream",
     "text": [
      "printing syn\n",
      "Synset('bank.n.01')\n",
      "----------------------------------------\n",
      "printing lemma\n",
      "Lemma('bank.n.01.bank')\n",
      "----------------------------------------\n",
      "printing syn\n",
      "Synset('depository_financial_institution.n.01')\n",
      "----------------------------------------\n",
      "printing lemma\n",
      "Lemma('depository_financial_institution.n.01.depository_financial_institution')\n",
      "----------------------------------------\n",
      "printing lemma\n",
      "Lemma('depository_financial_institution.n.01.bank')\n",
      "----------------------------------------\n",
      "printing lemma\n",
      "Lemma('depository_financial_institution.n.01.banking_concern')\n",
      "----------------------------------------\n",
      "printing lemma\n",
      "Lemma('depository_financial_institution.n.01.banking_company')\n",
      "----------------------------------------\n",
      "printing syn\n",
      "Synset('bank.n.03')\n",
      "----------------------------------------\n",
      "printing lemma\n",
      "Lemma('bank.n.03.bank')\n",
      "----------------------------------------\n",
      "printing syn\n",
      "Synset('bank.n.04')\n",
      "----------------------------------------\n",
      "printing lemma\n",
      "Lemma('bank.n.04.bank')\n",
      "----------------------------------------\n",
      "printing syn\n",
      "Synset('bank.n.05')\n",
      "----------------------------------------\n",
      "printing lemma\n",
      "Lemma('bank.n.05.bank')\n",
      "----------------------------------------\n",
      "printing syn\n",
      "Synset('bank.n.06')\n",
      "----------------------------------------\n",
      "printing lemma\n",
      "Lemma('bank.n.06.bank')\n",
      "----------------------------------------\n",
      "printing syn\n",
      "Synset('bank.n.07')\n",
      "----------------------------------------\n",
      "printing lemma\n",
      "Lemma('bank.n.07.bank')\n",
      "----------------------------------------\n",
      "printing lemma\n",
      "Lemma('bank.n.07.cant')\n",
      "----------------------------------------\n",
      "printing lemma\n",
      "Lemma('bank.n.07.camber')\n",
      "----------------------------------------\n",
      "printing syn\n",
      "Synset('savings_bank.n.02')\n",
      "----------------------------------------\n",
      "printing lemma\n",
      "Lemma('savings_bank.n.02.savings_bank')\n",
      "----------------------------------------\n",
      "printing lemma\n",
      "Lemma('savings_bank.n.02.coin_bank')\n",
      "----------------------------------------\n",
      "printing lemma\n",
      "Lemma('savings_bank.n.02.money_box')\n",
      "----------------------------------------\n",
      "printing lemma\n",
      "Lemma('savings_bank.n.02.bank')\n",
      "----------------------------------------\n",
      "printing syn\n",
      "Synset('bank.n.09')\n",
      "----------------------------------------\n",
      "printing lemma\n",
      "Lemma('bank.n.09.bank')\n",
      "----------------------------------------\n",
      "printing lemma\n",
      "Lemma('bank.n.09.bank_building')\n",
      "----------------------------------------\n",
      "printing syn\n",
      "Synset('bank.n.10')\n",
      "----------------------------------------\n",
      "printing lemma\n",
      "Lemma('bank.n.10.bank')\n",
      "----------------------------------------\n",
      "printing syn\n",
      "Synset('bank.v.01')\n",
      "----------------------------------------\n",
      "printing lemma\n",
      "Lemma('bank.v.01.bank')\n",
      "----------------------------------------\n",
      "printing syn\n",
      "Synset('bank.v.02')\n",
      "----------------------------------------\n",
      "printing lemma\n",
      "Lemma('bank.v.02.bank')\n",
      "----------------------------------------\n",
      "printing syn\n",
      "Synset('bank.v.03')\n",
      "----------------------------------------\n",
      "printing lemma\n",
      "Lemma('bank.v.03.bank')\n",
      "----------------------------------------\n",
      "printing syn\n",
      "Synset('bank.v.04')\n",
      "----------------------------------------\n",
      "printing lemma\n",
      "Lemma('bank.v.04.bank')\n",
      "----------------------------------------\n",
      "printing syn\n",
      "Synset('bank.v.05')\n",
      "----------------------------------------\n",
      "printing lemma\n",
      "Lemma('bank.v.05.bank')\n",
      "----------------------------------------\n",
      "printing syn\n",
      "Synset('deposit.v.02')\n",
      "----------------------------------------\n",
      "printing lemma\n",
      "Lemma('deposit.v.02.deposit')\n",
      "----------------------------------------\n",
      "printing antonym\n",
      "Lemma('withdraw.v.09.withdraw')\n",
      "----------------------------------------\n",
      "printing lemma\n",
      "Lemma('deposit.v.02.bank')\n",
      "----------------------------------------\n",
      "printing syn\n",
      "Synset('bank.v.07')\n",
      "----------------------------------------\n",
      "printing lemma\n",
      "Lemma('bank.v.07.bank')\n",
      "----------------------------------------\n",
      "printing syn\n",
      "Synset('trust.v.01')\n",
      "----------------------------------------\n",
      "printing lemma\n",
      "Lemma('trust.v.01.trust')\n",
      "----------------------------------------\n",
      "printing antonym\n",
      "Lemma('distrust.v.01.mistrust')\n",
      "----------------------------------------\n",
      "printing antonym\n",
      "Lemma('distrust.v.01.distrust')\n",
      "----------------------------------------\n",
      "printing lemma\n",
      "Lemma('trust.v.01.swear')\n",
      "----------------------------------------\n",
      "printing lemma\n",
      "Lemma('trust.v.01.rely')\n",
      "----------------------------------------\n",
      "printing lemma\n",
      "Lemma('trust.v.01.bank')\n",
      "----------------------------------------\n",
      "\n",
      "\n",
      "\n",
      "\n",
      "\n",
      "\n",
      "\n",
      "\n",
      "\n",
      "\n",
      "\n",
      "\n",
      "\n",
      "\n",
      "\n",
      "\n",
      "\n",
      "\n",
      "\n",
      "\n",
      "\n",
      "Synonyms of 'bank': ['cant', 'bank_building', 'rely', 'banking_concern', 'banking_company', 'coin_bank', 'depository_financial_institution', 'bank', 'money_box', 'swear', 'trust', 'camber', 'deposit', 'savings_bank']\n",
      "Antonyms of 'bank': ['mistrust', 'distrust', 'withdraw']\n"
     ]
    }
   ],
   "source": [
    "import nltk\n",
    "from nltk.corpus import wordnet as wn\n",
    "nltk.download('wordnet')\n",
    "\n",
    "def antonyms_synonyms(word):\n",
    "    synsets = wn.synsets(word) # getting sysnsets for word\n",
    "    synonyms = set() # set storing the synonyms\n",
    "    antonyms = set() # set storing the antonyms\n",
    "    for syn in synsets: \n",
    "        print(\"printing syn\")\n",
    "        print(syn)\n",
    "        print('-'*40)\n",
    "        for lemma in syn.lemmas(): # lemmas (word forms)\n",
    "            print(\"printing lemma\")\n",
    "            print(lemma)\n",
    "            print('-'*40)\n",
    "            synonyms.add(lemma.name()) # getting the names\n",
    "            for antonym in lemma.antonyms():\n",
    "                print(\"printing antonym\")\n",
    "                print(antonym)\n",
    "                print('-'*40)\n",
    "                antonyms.add(antonym.name())\n",
    "    return list(synonyms), list(antonyms)\n",
    "\n",
    "word = input(\"Enter a word: \")\n",
    "synonyms, antonyms = antonyms_synonyms(word)  \n",
    "print('\\n'*20)\n",
    "print(f\"Synonyms of '{word}': {synonyms}\")\n",
    "print(f\"Antonyms of '{word}': {antonyms}\")\n"
   ]
  },
  {
   "cell_type": "markdown",
   "id": "2ef7b917-3d9f-4681-b55b-6b0d7fdfd2ec",
   "metadata": {},
   "source": [
    "#### 6. Write a Python NLTK program to find the definition and examples of a given word using WordNet."
   ]
  },
  {
   "cell_type": "code",
   "execution_count": 37,
   "id": "74685d24-89f8-43da-b643-8be687a93217",
   "metadata": {},
   "outputs": [
    {
     "name": "stderr",
     "output_type": "stream",
     "text": [
      "[nltk_data] Downloading package wordnet to\n",
      "[nltk_data]     C:\\Users\\DeepADabhi\\AppData\\Roaming\\nltk_data...\n",
      "[nltk_data]   Package wordnet is already up-to-date!\n"
     ]
    },
    {
     "name": "stdin",
     "output_type": "stream",
     "text": [
      "Please enter a word:  bank\n"
     ]
    },
    {
     "name": "stdout",
     "output_type": "stream",
     "text": [
      "definition of bank: \n",
      "sloping land (especially the slope beside a body of water)\n",
      "a financial institution that accepts deposits and channels the money into lending activities\n",
      "a long ridge or pile\n",
      "an arrangement of similar objects in a row or in tiers\n",
      "a supply or stock held in reserve for future use (especially in emergencies)\n",
      "the funds held by a gambling house or the dealer in some gambling games\n",
      "a slope in the turn of a road or track; the outside is higher than the inside in order to reduce the effects of centrifugal force\n",
      "a container (usually with a slot in the top) for keeping money at home\n",
      "a building in which the business of banking transacted\n",
      "a flight maneuver; aircraft tips laterally about its longitudinal axis (especially in turning)\n",
      "tip laterally\n",
      "enclose with a bank\n",
      "do business with a bank or keep an account at a bank\n",
      "act as the banker in a game or in gambling\n",
      "be in the banking business\n",
      "put into a bank account\n",
      "cover with ashes so to control the rate of burning\n",
      "have confidence or faith in\n",
      "----------------------------------------------------------------------------------------------------\n",
      "examples of bank: \n",
      "they pulled the canoe up on the bank\n",
      "he sat on the bank of the river and watched the currents\n",
      "he cashed a check at the bank\n",
      "that bank holds the mortgage on my home\n",
      "a huge bank of earth\n",
      "he operated a bank of switches\n",
      "he tried to break the bank at Monte Carlo\n",
      "the coin bank was empty\n",
      "the bank is on the corner of Nassau and Witherspoon\n",
      "the plane went into a steep bank\n",
      "the pilot had to bank the aircraft\n",
      "bank roads\n",
      "Where do you bank in this town?\n",
      "She deposits her paycheck every month\n",
      "bank a fire\n",
      "We can trust in God\n",
      "Rely on your friends\n",
      "bank on your good education\n",
      "I swear by my grandmother's recipes\n"
     ]
    }
   ],
   "source": [
    "import nltk\n",
    "from nltk.corpus import wordnet as wn\n",
    "nltk.download('wordnet')\n",
    "def defination_example(word):\n",
    "    synset = wn.synsets(word)\n",
    "    definition = []\n",
    "    examples = []\n",
    "\n",
    "    for syn in synset:\n",
    "        definition.append(syn.definition()) # syn.definition() returns a single entity, so append\n",
    "        examples.extend(syn.examples()) # syn.examples() returns a list of examples, so extend\n",
    "    return definition, examples\n",
    "\n",
    "word = input(\"Please enter a word: \")\n",
    "definition, examples = defination_example(word)\n",
    "res_definition = \"\\n\".join(definition)\n",
    "res_examples = \"\\n\".join(examples)\n",
    "print(f\"definition of {word}: \\n{res_definition}\")\n",
    "print('-'*100)\n",
    "print(f\"examples of {word}: \\n{res_examples}\")"
   ]
  },
  {
   "cell_type": "code",
   "execution_count": null,
   "id": "2e1145ac-8e57-45e0-a185-902a6e4ecb0f",
   "metadata": {},
   "outputs": [],
   "source": []
  }
 ],
 "metadata": {
  "kernelspec": {
   "display_name": "Python [conda env:base] *",
   "language": "python",
   "name": "conda-base-py"
  },
  "language_info": {
   "codemirror_mode": {
    "name": "ipython",
    "version": 3
   },
   "file_extension": ".py",
   "mimetype": "text/x-python",
   "name": "python",
   "nbconvert_exporter": "python",
   "pygments_lexer": "ipython3",
   "version": "3.12.7"
  }
 },
 "nbformat": 4,
 "nbformat_minor": 5
}
