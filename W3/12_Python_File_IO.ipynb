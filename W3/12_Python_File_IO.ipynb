{
 "cells": [
  {
   "cell_type": "markdown",
   "id": "669bdefc-1ecf-4e15-a4a3-df1ac799c7aa",
   "metadata": {},
   "source": [
    "# Python File I/O\n",
    "#### 2. Write a Python program to read first n lines of a file."
   ]
  },
  {
   "cell_type": "code",
   "execution_count": 12,
   "id": "a294f2f8-6902-4dca-9eb2-b571f5c7399c",
   "metadata": {},
   "outputs": [
    {
     "name": "stdout",
     "output_type": "stream",
     "text": [
      "https://quotes.toscrape.com/\n",
      "\n",
      "https://quotes.toscrape.com/tag/love/\n",
      "\n",
      "https://quotes.toscrape.com/tag/classic/page/1/\n",
      "\n",
      "https://quotes.toscrape.com/author/Thomas-A-Edison\n",
      "\n",
      "https://quotes.toscrape.com/tag/inspirational/\n",
      "\n",
      "https://quotes.toscrape.com/tag/abilities/page/1/\n",
      "\n",
      "https://quotes.toscrape.com/tag/be-yourself/page/1/\n",
      "\n",
      "https://quotes.toscrape.com/page/2/\n",
      "\n",
      "https://quotes.toscrape.com/tag/obvious/page/1/\n",
      "\n",
      "https://quotes.toscrape.com/tag/books/\n",
      "\n",
      "https://quotes.toscrape.com/tag/reading/\n",
      "\n",
      "https://quotes.toscrape.com/tag/miracle/page/1/\n",
      "\n",
      "https://quotes.toscrape.com/tag/success/page/1/\n",
      "\n",
      "https://quotes.toscrape.com/login\n",
      "\n",
      "https://quotes.toscrape.com/tag/misattributed-eleanor-roosevelt/page/1/\n",
      "\n",
      "https://quotes.toscrape.com/tag/paraphrased/page/1/\n",
      "\n",
      "https://quotes.toscrape.com/tag/simile/page/1/\n",
      "\n",
      "https://quotes.toscrape.com/author/J-K-Rowling\n",
      "\n",
      "https://quotes.toscrape.com/tag/simile/\n",
      "\n",
      "https://quotes.toscrape.com/tag/aliteracy/page/1/\n",
      "\n"
     ]
    }
   ],
   "source": [
    "def fun(file_name, n):\n",
    "    try:\n",
    "        with open(file_name, \"r\") as file:\n",
    "            for i in range(n):\n",
    "                line = file.readline()\n",
    "                # readline reads the content of the file, line by line and readlines() returns the list of all the lines\n",
    "                if(line):\n",
    "                    line.strip()\n",
    "                    print(line)\n",
    "                else:\n",
    "                    print(\"reached at the end of the file\")\n",
    "    except FileNotFoundError:\n",
    "        print(f\"{file_name} does not exist\")\n",
    "    except e:\n",
    "        print(f\"an error occured{e}\")\n",
    "file_name = \"scraped_urls.txt\"\n",
    "fun(file_name, 20)"
   ]
  },
  {
   "cell_type": "markdown",
   "id": "f2e0d94f-4fe2-46c5-b215-307709cdef41",
   "metadata": {},
   "source": [
    "#### 21. List English alphabet in a file by specified number of letters on each line"
   ]
  },
  {
   "cell_type": "code",
   "execution_count": 33,
   "id": "8a3aff38-2e73-4899-89e8-7b47c02e32fa",
   "metadata": {},
   "outputs": [
    {
     "name": "stdout",
     "output_type": "stream",
     "text": [
      "ABCDEFGHIJKLMNOPQRSTUVWXYZ\n"
     ]
    }
   ],
   "source": [
    "def fun(n, file_name):\n",
    "    alphabets = []\n",
    "    with open(file_name, \"w\") as file:\n",
    "        for _ in range(26):\n",
    "            alphabets.append(chr(_ + ord('A')))\n",
    "        alph = \"\".join(alphabets)\n",
    "        print(alph)\n",
    "        # lines = [alphabets[i : i + n] for i in range(0, 26, n)] # this will give an error as the write method gives an error on passing non string value\n",
    "        # lines = [alphabets[i : i + n] + \"\\n\" for i in range(0, 26, n)] # this will still give error as the aplhabets is a list, not a string, first need to convert the same to the string \n",
    "        lines = [alph[i : i + n] + \"\\n\" for i in range(0, 26, n)]\n",
    "        file.writelines(lines)\n",
    "n = 3\n",
    "file_name = \"alpha.txt\"\n",
    "fun(n, file_name)"
   ]
  },
  {
   "cell_type": "markdown",
   "id": "4c5f2dad-4a41-4a97-b619-f3ab9bd21f43",
   "metadata": {},
   "source": [
    "# Python CSV File Reading and Writing\n",
    "#### 11. write a Python program to write a Python dictionary to a csv file. After writing the CSV file read the CSV file and display the content."
   ]
  },
  {
   "cell_type": "code",
   "execution_count": 38,
   "id": "65d19c3b-c700-4400-9cd7-4af2fb651120",
   "metadata": {},
   "outputs": [
    {
     "name": "stdout",
     "output_type": "stream",
     "text": [
      "CSV file content:\n",
      "['Name', 'Age', 'City']\n",
      "['John', '30', 'New York']\n"
     ]
    }
   ],
   "source": [
    "import csv\n",
    "\n",
    "def write_dict_to_csv(file_name, data_dict):\n",
    "    with open(file_name, mode='w', newline='', encoding='utf-8') as file:\n",
    "        writer = csv.DictWriter(file, fieldnames=data_dict.keys())\n",
    "        writer.writeheader()\n",
    "        writer.writerow(data_dict)\n",
    "\n",
    "def read_csv(file_name):\n",
    "    with open(file_name, mode='r', newline='', encoding='utf-8') as file:\n",
    "        csv_reader = csv.reader(file)\n",
    "        for row in csv_reader:\n",
    "            print(row)\n",
    "\n",
    "data_dict = {'Name': 'John', 'Age': 30, 'City': 'New York'}\n",
    "write_dict_to_csv('output.csv', data_dict)\n",
    "print(\"CSV file content:\")\n",
    "read_csv('output.csv')"
   ]
  },
  {
   "cell_type": "code",
   "execution_count": null,
   "id": "036cd576-17f4-4413-8e82-00975929dce1",
   "metadata": {},
   "outputs": [],
   "source": []
  }
 ],
 "metadata": {
  "kernelspec": {
   "display_name": "Python [conda env:base] *",
   "language": "python",
   "name": "conda-base-py"
  },
  "language_info": {
   "codemirror_mode": {
    "name": "ipython",
    "version": 3
   },
   "file_extension": ".py",
   "mimetype": "text/x-python",
   "name": "python",
   "nbconvert_exporter": "python",
   "pygments_lexer": "ipython3",
   "version": "3.12.7"
  }
 },
 "nbformat": 4,
 "nbformat_minor": 5
}
