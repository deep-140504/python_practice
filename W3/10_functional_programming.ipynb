{
 "cells": [
  {
   "cell_type": "markdown",
   "id": "3544060f-9a9b-4c0d-b412-c325ac4d2739",
   "metadata": {},
   "source": [
    "# Functional Programming\n",
    "#### 8. Write a Python function that takes a list and returns a new list with distinct elements from the first list."
   ]
  },
  {
   "cell_type": "code",
   "execution_count": 6,
   "id": "79563013-2302-4a6d-9144-eb901952ba55",
   "metadata": {},
   "outputs": [
    {
     "name": "stdout",
     "output_type": "stream",
     "text": [
      "[1, 2, 3, 4]\n"
     ]
    }
   ],
   "source": [
    "def fun(arr):\n",
    "    ans = list(set(arr))\n",
    "    return ans\n",
    "arr = [1, 2, 2, 3, 3, 3, 4, 4, 4, 4]\n",
    "ans = fun(arr)\n",
    "print(ans)"
   ]
  },
  {
   "cell_type": "markdown",
   "id": "e0ccabcb-7f54-4b11-a6bd-da264af8ef9c",
   "metadata": {},
   "source": [
    "#### 1. Write a python program to print pascal triangle"
   ]
  },
  {
   "cell_type": "code",
   "execution_count": 41,
   "id": "398705af-1639-4afc-a972-9bc52a9ea312",
   "metadata": {},
   "outputs": [
    {
     "name": "stdout",
     "output_type": "stream",
     "text": [
      "1 \n",
      "1 1 \n",
      "1 2 1 \n",
      "1 3 3 1 \n",
      "1 4 6 4 1 \n",
      "1 5 10 10 5 1 \n",
      "1 6 15 20 15 6 1 \n"
     ]
    }
   ],
   "source": [
    "def fun(n):\n",
    "    ls = []\n",
    "    for i in range(n):\n",
    "        tls = [1] * (i + 1)\n",
    "        ls.append(tls)\n",
    "    for i in range (2, n):\n",
    "        for j in range(1, i):\n",
    "            ls[i][j] = ls[i - 1][j - 1] + ls[i - 1][j]\n",
    "    for i in range(len(ls)):\n",
    "        for j in range(len(ls[i])):\n",
    "            print(ls[i][j], end = \" \")\n",
    "        print()\n",
    "n = 7\n",
    "fun(n)"
   ]
  },
  {
   "cell_type": "markdown",
   "id": "ddb676da-2409-4f1b-81ae-a0b75aeb473d",
   "metadata": {},
   "source": [
    "#### 15. Write a Python program that accepts a hyphen-separated sequence of words as input and prints the words in a hyphen-separated sequence after sorting them alphabetically."
   ]
  },
  {
   "cell_type": "code",
   "execution_count": 52,
   "id": "d8670169-9898-4f61-adb3-c00fb0ddef08",
   "metadata": {},
   "outputs": [
    {
     "name": "stdout",
     "output_type": "stream",
     "text": [
      "black-green-red-white-yellow\n"
     ]
    }
   ],
   "source": [
    "def fun(s):\n",
    "    lst = sorted(s.split(\"-\"))\n",
    "    ans = \"-\".join(lst)\n",
    "    return ans\n",
    "string = \"green-red-yellow-black-white\"\n",
    "ans = fun(string)\n",
    "print(ans)"
   ]
  },
  {
   "cell_type": "markdown",
   "id": "1a4d6907-68bd-4e97-b894-3650b25b3772",
   "metadata": {},
   "source": [
    "# Lambda Functions\n",
    "#### 12. Write a Python program to rearrange positive and negative numbers in a given array using Lambda."
   ]
  },
  {
   "cell_type": "code",
   "execution_count": 15,
   "id": "7daea19d-7bf5-4e4e-bcfa-75fc8e4b5a30",
   "metadata": {},
   "outputs": [
    {
     "name": "stdout",
     "output_type": "stream",
     "text": [
      "[2, 5, 7, 8, 9, -10, -3, -1]\n"
     ]
    }
   ],
   "source": [
    "arr = [-1, 2, -3, 5, 7, 8, 9, -10]\n",
    "result = sorted(arr, key = lambda i: 0 if i == 0 else -1 / i)\n",
    "print(result)"
   ]
  },
  {
   "cell_type": "code",
   "execution_count": null,
   "id": "7fc8a247-7ab5-4aaf-971a-c63636fd7638",
   "metadata": {},
   "outputs": [],
   "source": []
  }
 ],
 "metadata": {
  "kernelspec": {
   "display_name": "Python [conda env:base] *",
   "language": "python",
   "name": "conda-base-py"
  },
  "language_info": {
   "codemirror_mode": {
    "name": "ipython",
    "version": 3
   },
   "file_extension": ".py",
   "mimetype": "text/x-python",
   "name": "python",
   "nbconvert_exporter": "python",
   "pygments_lexer": "ipython3",
   "version": "3.12.7"
  }
 },
 "nbformat": 4,
 "nbformat_minor": 5
}
