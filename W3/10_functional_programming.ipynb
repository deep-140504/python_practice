{
 "cells": [
  {
   "cell_type": "markdown",
   "id": "3544060f-9a9b-4c0d-b412-c325ac4d2739",
   "metadata": {},
   "source": [
    "# Functional Programming\n",
    "#### 8. Write a Python function that takes a list and returns a new list with distinct elements from the first list."
   ]
  },
  {
   "cell_type": "code",
   "execution_count": 6,
   "id": "79563013-2302-4a6d-9144-eb901952ba55",
   "metadata": {},
   "outputs": [
    {
     "name": "stdout",
     "output_type": "stream",
     "text": [
      "[1, 2, 3, 4]\n"
     ]
    }
   ],
   "source": [
    "def fun(arr):\n",
    "    ans = list(set(arr))\n",
    "    return ans\n",
    "arr = [1, 2, 2, 3, 3, 3, 4, 4, 4, 4]\n",
    "ans = fun(arr)\n",
    "print(ans)"
   ]
  },
  {
   "cell_type": "markdown",
   "id": "1a4d6907-68bd-4e97-b894-3650b25b3772",
   "metadata": {},
   "source": [
    "# Lambda Functions\n",
    "#### 12. Write a Python program to rearrange positive and negative numbers in a given array using Lambda."
   ]
  },
  {
   "cell_type": "code",
   "execution_count": 15,
   "id": "7daea19d-7bf5-4e4e-bcfa-75fc8e4b5a30",
   "metadata": {},
   "outputs": [
    {
     "name": "stdout",
     "output_type": "stream",
     "text": [
      "[2, 5, 7, 8, 9, -10, -3, -1]\n"
     ]
    }
   ],
   "source": [
    "arr = [-1, 2, -3, 5, 7, 8, 9, -10]\n",
    "result = sorted(arr, key = lambda i: 0 if i == 0 else -1 / i)\n",
    "print(result)"
   ]
  },
  {
   "cell_type": "code",
   "execution_count": null,
   "id": "7fc8a247-7ab5-4aaf-971a-c63636fd7638",
   "metadata": {},
   "outputs": [],
   "source": []
  }
 ],
 "metadata": {
  "kernelspec": {
   "display_name": "Python [conda env:base] *",
   "language": "python",
   "name": "conda-base-py"
  },
  "language_info": {
   "codemirror_mode": {
    "name": "ipython",
    "version": 3
   },
   "file_extension": ".py",
   "mimetype": "text/x-python",
   "name": "python",
   "nbconvert_exporter": "python",
   "pygments_lexer": "ipython3",
   "version": "3.12.7"
  }
 },
 "nbformat": 4,
 "nbformat_minor": 5
}
