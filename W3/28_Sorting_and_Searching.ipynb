{
 "cells": [
  {
   "cell_type": "markdown",
   "id": "359d3878-0eee-4a43-a249-964135836bae",
   "metadata": {},
   "source": [
    "# Sorting, Searching, and Indexing"
   ]
  },
  {
   "cell_type": "markdown",
   "id": "08d79984-053e-404d-aa81-59a531be5b05",
   "metadata": {},
   "source": [
    "# Sorting and Searching"
   ]
  },
  {
   "cell_type": "markdown",
   "id": "ccb0216c-a096-4538-963f-dcb4965a9aa7",
   "metadata": {},
   "source": [
    "#### 1. Write a NumPy program to sort a given array of shape 2 along the first axis, last axis and on flattened array."
   ]
  },
  {
   "cell_type": "raw",
   "id": "72c24633-c6c3-4794-87e0-0e476b24f494",
   "metadata": {},
   "source": [
    "Expected Output:\n",
    "Original array:\n",
    "[[10 40]\n",
    "[30 20]]\n",
    "Sort the array along the first axis:\n",
    "[[10 20]\n",
    "[30 40]]\n",
    "Sort the array along the last axis:\n",
    "[[10 40]\n",
    "[20 30]]\n",
    "Sort the flattened array:\n",
    "[10 20 30 40]"
   ]
  },
  {
   "cell_type": "code",
   "execution_count": 20,
   "id": "690ffaf5-7bf2-4ef8-b3bf-2be37855be9f",
   "metadata": {},
   "outputs": [
    {
     "name": "stdout",
     "output_type": "stream",
     "text": [
      "Original array: \n",
      "[[10 40]\n",
      " [30 20]]\n",
      "array sorted across first axis: \n",
      "[[10 20]\n",
      " [30 40]]\n",
      "array sorted across last axis: \n",
      "[[10 40]\n",
      " [20 30]]\n",
      "flattened array: \n",
      "[10 40 30 20]\n",
      "sorted flat aray: \n",
      "[10 20 30 40]\n"
     ]
    }
   ],
   "source": [
    "import numpy as np\n",
    "arr = np.array(\n",
    "    [[10, 40],\n",
    "    [30, 20]]\n",
    ")\n",
    "print(f\"Original array: \\n{arr}\")\n",
    "sorted_array_along_first_axis = np.sort(arr, axis = 0)\n",
    "print(f\"array sorted across first axis: \\n{sorted_array_along_first_axis}\")\n",
    "sorted_array_along_last_axis = np.sort(arr, axis = 1)\n",
    "print(f\"array sorted across last axis: \\n{sorted_array_along_last_axis}\")\n",
    "\n",
    "# flat_array = np.flatten(arr) this gives error, as there is no flatten method in np, but in the instance of array() itself\n",
    "flat_array = arr.flatten()\n",
    "# to flatten an array, there are other methods, also which can be used, like arr.ravel(), arr.reshape(-1)\n",
    "# but the catch is that these methods sometimes modifies the original array, on the otherside, arr.flatten() dont\n",
    "print(f\"flattened array: \\n{flat_array}\")\n",
    "sorted_flat_array = np.sort(flat_array)\n",
    "print(f\"sorted flat aray: \\n{sorted_flat_array}\")"
   ]
  },
  {
   "cell_type": "code",
   "execution_count": null,
   "id": "5288fe45-2dd2-4cb9-b999-2728bc5b9535",
   "metadata": {},
   "outputs": [],
   "source": []
  }
 ],
 "metadata": {
  "kernelspec": {
   "display_name": "Python [conda env:base] *",
   "language": "python",
   "name": "conda-base-py"
  },
  "language_info": {
   "codemirror_mode": {
    "name": "ipython",
    "version": 3
   },
   "file_extension": ".py",
   "mimetype": "text/x-python",
   "name": "python",
   "nbconvert_exporter": "python",
   "pygments_lexer": "ipython3",
   "version": "3.12.7"
  }
 },
 "nbformat": 4,
 "nbformat_minor": 5
}
