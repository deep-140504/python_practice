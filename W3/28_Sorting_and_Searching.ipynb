{
 "cells": [
  {
   "cell_type": "markdown",
   "id": "359d3878-0eee-4a43-a249-964135836bae",
   "metadata": {},
   "source": [
    "# Sorting, Searching, and Indexing"
   ]
  },
  {
   "cell_type": "markdown",
   "id": "08d79984-053e-404d-aa81-59a531be5b05",
   "metadata": {},
   "source": [
    "# Sorting and Searching"
   ]
  },
  {
   "cell_type": "markdown",
   "id": "ccb0216c-a096-4538-963f-dcb4965a9aa7",
   "metadata": {},
   "source": [
    "#### 1. Write a NumPy program to sort a given array of shape 2 along the first axis, last axis and on flattened array."
   ]
  },
  {
   "cell_type": "raw",
   "id": "72c24633-c6c3-4794-87e0-0e476b24f494",
   "metadata": {},
   "source": [
    "Expected Output:\n",
    "Original array:\n",
    "[[10 40]\n",
    "[30 20]]\n",
    "Sort the array along the first axis:\n",
    "[[10 20]\n",
    "[30 40]]\n",
    "Sort the array along the last axis:\n",
    "[[10 40]\n",
    "[20 30]]\n",
    "Sort the flattened array:\n",
    "[10 20 30 40]"
   ]
  },
  {
   "cell_type": "code",
   "execution_count": 20,
   "id": "690ffaf5-7bf2-4ef8-b3bf-2be37855be9f",
   "metadata": {},
   "outputs": [
    {
     "name": "stdout",
     "output_type": "stream",
     "text": [
      "Original array: \n",
      "[[10 40]\n",
      " [30 20]]\n",
      "array sorted across first axis: \n",
      "[[10 20]\n",
      " [30 40]]\n",
      "array sorted across last axis: \n",
      "[[10 40]\n",
      " [20 30]]\n",
      "flattened array: \n",
      "[10 40 30 20]\n",
      "sorted flat aray: \n",
      "[10 20 30 40]\n"
     ]
    }
   ],
   "source": [
    "import numpy as np\n",
    "arr = np.array(\n",
    "    [[10, 40],\n",
    "    [30, 20]]\n",
    ")\n",
    "print(f\"Original array: \\n{arr}\")\n",
    "sorted_array_along_first_axis = np.sort(arr, axis = 0)\n",
    "print(f\"array sorted across first axis: \\n{sorted_array_along_first_axis}\")\n",
    "sorted_array_along_last_axis = np.sort(arr, axis = 1)\n",
    "print(f\"array sorted across last axis: \\n{sorted_array_along_last_axis}\")\n",
    "\n",
    "# flat_array = np.flatten(arr) this gives error, as there is no flatten method in np, but in the instance of array() itself\n",
    "flat_array = arr.flatten()\n",
    "# to flatten an array, there are other methods, also which can be used, like arr.ravel(), arr.reshape(-1)\n",
    "# but the catch is that these methods sometimes modifies the original array, on the otherside, arr.flatten() dont\n",
    "print(f\"flattened array: \\n{flat_array}\")\n",
    "sorted_flat_array = np.sort(flat_array)\n",
    "print(f\"sorted flat aray: \\n{sorted_flat_array}\")"
   ]
  },
  {
   "cell_type": "markdown",
   "id": "cb27db69-9423-4f81-a8c5-90b167dc9938",
   "metadata": {},
   "source": [
    "#### 8. Write a  NumPy program to sort the specified number of elements from beginning of a given array."
   ]
  },
  {
   "cell_type": "code",
   "execution_count": 24,
   "id": "358c560e-ef15-4efb-820f-d1755610fcd8",
   "metadata": {},
   "outputs": [
    {
     "name": "stdout",
     "output_type": "stream",
     "text": [
      "Original array:\n",
      "[0.39536213 0.11779404 0.32612381 0.16327394 0.98837963 0.25510787\n",
      " 0.01398678 0.15188239 0.12057667 0.67278699]\n",
      "\n",
      "Sorted first 5 elements:\n",
      "[0.11779404 0.16327394 0.32612381 0.39536213 0.98837963 0.25510787\n",
      " 0.01398678 0.15188239 0.12057667 0.67278699]\n"
     ]
    }
   ],
   "source": [
    "import numpy as np\n",
    "\n",
    "arr = np.array([0.39536213, 0.11779404, 0.32612381, 0.16327394, 0.98837963, \n",
    "                0.25510787, 0.01398678, 0.15188239, 0.12057667, 0.67278699])\n",
    "\n",
    "n = 5\n",
    "\n",
    "sorted_arr = np.copy(arr)\n",
    "sorted_arr[:n] = np.sort(sorted_arr[:n])\n",
    "\n",
    "print(\"Original array:\")\n",
    "print(arr)\n",
    "print(\"\\nSorted first 5 elements:\")\n",
    "print(sorted_arr)\n"
   ]
  },
  {
   "cell_type": "markdown",
   "id": "4f9a7a85-ace0-493a-8cba-60afc6a5ecd2",
   "metadata": {},
   "source": [
    "#### 9. Write a NumPy program to sort an given array by the nth column."
   ]
  },
  {
   "cell_type": "code",
   "execution_count": 34,
   "id": "fd7cee83-38e0-4b4a-a23e-0bfc1c18e515",
   "metadata": {},
   "outputs": [
    {
     "name": "stdin",
     "output_type": "stream",
     "text": [
      "Enter value between 0 and 2 1\n"
     ]
    },
    {
     "name": "stdout",
     "output_type": "stream",
     "text": [
      "Original array:\n",
      "[[1 5 0]\n",
      " [3 2 5]\n",
      " [8 7 6]]\n",
      "\n",
      "Sorted by the nth column:\n",
      "[[3 2 5]\n",
      " [1 5 0]\n",
      " [8 7 6]]\n"
     ]
    }
   ],
   "source": [
    "import numpy as np\n",
    "\n",
    "arr = np.array([[1, 5, 0],\n",
    "                [3, 2, 5],\n",
    "                [8, 7, 6]])\n",
    "\n",
    "n = int(input(f\"Enter value between 0 and {len(arr[0]) - 1}\"))\n",
    "\n",
    "sorted_arr = arr[arr[:, n].argsort()]\n",
    "\n",
    "print(\"Original array:\")\n",
    "print(arr)\n",
    "\n",
    "print(\"\\nSorted by the nth column:\")\n",
    "print(sorted_arr)"
   ]
  },
  {
   "cell_type": "markdown",
   "id": "930df138-595c-49e9-bf81-9034349ae6c8",
   "metadata": {},
   "source": [
    "# NumPy Advanced Indexing: Exercises, Practice, and Solutions"
   ]
  },
  {
   "cell_type": "markdown",
   "id": "140d6330-27ff-4082-b95d-3032e0e632cb",
   "metadata": {},
   "source": [
    "#### 20. Write a NumPy program that creates a 2D NumPy array and uses a mask array (boolean array) for indexing to select a subset of elements that match the mask criteria."
   ]
  },
  {
   "cell_type": "code",
   "execution_count": 48,
   "id": "fca45231-b09d-4bfe-94e5-4f71b5004828",
   "metadata": {},
   "outputs": [
    {
     "name": "stdout",
     "output_type": "stream",
     "text": [
      "original array: \n",
      "[[21  7  1  1 47]\n",
      " [ 2 46 26 32 30]\n",
      " [34 24  8 31 43]\n",
      " [23 18 16 13 34]\n",
      " [11  0 38 11 32]]\n",
      "Conditioned array: \n",
      "[[False False False False  True]\n",
      " [False  True  True  True  True]\n",
      " [ True False False  True  True]\n",
      " [False False False False  True]\n",
      " [False False  True False  True]]\n",
      "Masked array: \n",
      "[47 46 26 32 30 34 31 43 34 38 32]\n"
     ]
    }
   ],
   "source": [
    "import numpy as np\n",
    "arr = np.random.randint(0, 50, size=(5, 5))\n",
    "print(f\"original array: \\n{arr}\")\n",
    "condition = arr > 25\n",
    "print(f\"Conditioned array: \\n{condition}\")\n",
    "mask = arr[condition]\n",
    "print(f\"Masked array: \\n{mask}\")"
   ]
  },
  {
   "cell_type": "markdown",
   "id": "eaa26191-8590-446d-98c0-82deadf92511",
   "metadata": {},
   "source": [
    "#### 16. Write a NumPy program that creates a 2D NumPy array and uses np.nonzero to find indices of elements that satisfy a condition, then uses these indices for advanced indexing."
   ]
  },
  {
   "cell_type": "code",
   "execution_count": 61,
   "id": "8ec560af-c80e-46bb-bfbb-3bc133384fba",
   "metadata": {},
   "outputs": [
    {
     "name": "stdout",
     "output_type": "stream",
     "text": [
      "Original array: \n",
      "[[3 2 1 0 2]\n",
      " [4 3 0 0 2]\n",
      " [3 2 3 3 3]\n",
      " [3 0 1 0 2]\n",
      " [4 3 2 1 3]]\n",
      "----------------------------------------\n",
      "Conditioned array: \n",
      "[[False  True  True  True  True]\n",
      " [False False  True  True  True]\n",
      " [False  True False False False]\n",
      " [False  True  True  True  True]\n",
      " [False False  True  True False]]\n",
      "----------------------------------------\n",
      "Indices od array: \n",
      "(array([0, 0, 0, 0, 1, 1, 1, 2, 3, 3, 3, 3, 4, 4], dtype=int64), array([1, 2, 3, 4, 2, 3, 4, 1, 1, 2, 3, 4, 2, 3], dtype=int64))\n",
      "----------------------------------------\n",
      "Subset of array: \n",
      "[2 1 0 2 0 0 2 2 0 1 0 2 2 1]\n",
      "----------------------------------------\n"
     ]
    }
   ],
   "source": [
    "import numpy as np\n",
    "arr = np.random.randint(0, 5, size = (5, 5))\n",
    "print(f\"Original array: \\n{arr}\", end = '\\n'+ \"-\"*40 + \"\\n\")\n",
    "condition = arr < 3 # this is the conditon, this creates mask array, of the boolean values as per the condition\n",
    "print(f\"Conditioned array: \\n{condition}\", end = '\\n'+ \"-\"*40 + \"\\n\")\n",
    "indices = np.nonzero(condition) # this method returns the indices of the array according to the conditons specified\n",
    "print(f\"Indices od array: \\n{indices}\", end = '\\n'+ \"-\"*40 + \"\\n\")\n",
    "subset = arr[indices] # this gives the subset of the array, based on the tuple provided\n",
    "# The return type is tuple containing arrays, and the arrays inside the tuple are of type numpy.ndarray.\n",
    "print(f\"Subset of array: \\n{subset}\", end = '\\n'+ \"-\"*40 + \"\\n\")"
   ]
  },
  {
   "cell_type": "markdown",
   "id": "d7bd8a59-8e5f-414d-9a9a-e8364e4469ff",
   "metadata": {},
   "source": [
    "#### 14. Write a NumPy program that creates a 2D NumPy array and uses slicing in combination with index arrays to select a rectangular subarray."
   ]
  },
  {
   "cell_type": "code",
   "execution_count": 64,
   "id": "0fa0e1a9-a663-414f-bdbc-6dc1b8e7d7a7",
   "metadata": {},
   "outputs": [
    {
     "name": "stdout",
     "output_type": "stream",
     "text": [
      "Original array:\n",
      "[[ 1  2  3  4]\n",
      " [ 5  6  7  8]\n",
      " [ 9 10 11 12]\n",
      " [13 14 15 16]]\n",
      "\n",
      "Selected rectangular subarray:\n",
      "[[ 2  3]\n",
      " [ 6  7]\n",
      " [10 11]]\n"
     ]
    }
   ],
   "source": [
    "import numpy as np\n",
    "\n",
    "arr = np.array([[1, 2, 3, 4],\n",
    "                [5, 6, 7, 8],\n",
    "                [9, 10, 11, 12],\n",
    "                [13, 14, 15, 16]])\n",
    "\n",
    "row_indices = np.array([0, 1, 2])  # Select rows 0, 1, 2\n",
    "col_indices = np.array([1, 2])     # Select columns 1 and 2\n",
    "\n",
    "subarray = arr[row_indices[:, None], col_indices]\n",
    "\n",
    "print(\"Original array:\")\n",
    "print(arr)\n",
    "\n",
    "print(\"\\nSelected rectangular subarray:\")\n",
    "print(subarray)\n"
   ]
  },
  {
   "cell_type": "code",
   "execution_count": null,
   "id": "5f535022-7dd1-419d-b953-15c44e09bcdf",
   "metadata": {},
   "outputs": [],
   "source": [
    "                                                                                                                                                                                                                                                      "
   ]
  },
  {
   "cell_type": "code",
   "execution_count": null,
   "id": "7a8c4daf-ef86-44a5-ad8c-2adee79346a8",
   "metadata": {},
   "outputs": [],
   "source": []
  },
  {
   "cell_type": "markdown",
   "id": "ae14d56a-3c68-4a9f-96bf-53afe9300ebf",
   "metadata": {},
   "source": [
    "#### Just leaning"
   ]
  },
  {
   "cell_type": "code",
   "execution_count": 69,
   "id": "ce18e398-a8ab-4f1b-aa2c-7bb3941c6f3f",
   "metadata": {},
   "outputs": [
    {
     "name": "stdout",
     "output_type": "stream",
     "text": [
      "[0 1 2]\n",
      "[0 1 2]\n",
      "[[1 0 0]\n",
      " [0 5 0]\n",
      " [0 0 9]]\n",
      "[[1]\n",
      " [5]\n",
      " [9]]\n",
      "[1 5 9]\n"
     ]
    }
   ],
   "source": [
    "import numpy as np\n",
    "\n",
    "arr = np.array([[1, 2, 3], \n",
    "                [4, 5, 6], \n",
    "                [7, 8, 9]])\n",
    "\n",
    "diag_matrix = np.zeros_like(arr)  # Create a zero matrix of the same shape as arr\n",
    "row_indices = np.arange(arr.shape[0])\n",
    "col_indices = np.arange(arr.shape[1])\n",
    "print(row_indices)\n",
    "print(col_indices)\n",
    "diag_matrix[np.arange(arr.shape[0]), np.arange(arr.shape[1])] = arr.diagonal()\n",
    "ans = arr[row_indices[:, None], col_indices[:, None]]\n",
    "ans1 = arr[[0, 1, 2], [0, 1, 2]]\n",
    "print(diag_matrix)\n",
    "print(ans)\n",
    "print(ans1)\n"
   ]
  },
  {
   "cell_type": "code",
   "execution_count": 1,
   "id": "44329706-0762-4d2f-a8d8-c44ec1d241fc",
   "metadata": {},
   "outputs": [
    {
     "name": "stdout",
     "output_type": "stream",
     "text": [
      "[[1]\n",
      " [2]\n",
      " [3]]\n",
      "[[1 2 3]]\n",
      "\n",
      "----------------------------------------\n",
      "[[1]\n",
      " [2]\n",
      " [3]]\n",
      "[[1 2 3]]\n",
      "----------------------------------------\n",
      "[[0]\n",
      " [1]\n",
      " [2]]\n",
      "[[0 1 2]]\n"
     ]
    }
   ],
   "source": [
    "import numpy as np\n",
    "arr = np.array([1, 2, 3])\n",
    "\n",
    "print(arr[:, np.newaxis])  # Column vector\n",
    "print(arr[np.newaxis, :])  # Row vector\n",
    "print()\n",
    "print('-'*40)\n",
    "print(arr[:, None])\n",
    "print(arr[None , : ])\n",
    "\n",
    "print('-'*40)\n",
    "row_indices = np.array([0, 1, 2])\n",
    "col_indices = [0, 1, 2]\n",
    "print(row_indices[:, None])\n",
    "\n",
    "# print(np.array(col_indices[None:,]))  this wont work\n",
    "col_indices = np.array(col_indices)\n",
    "col_indices = np.array([0, 1, 2])\n",
    "print(col_indices[None, :])\n",
    "# print(arr[row_indices[:, None]])\n",
    "# print(arr[row_indices[:, None]])"
   ]
  },
  {
   "cell_type": "code",
   "execution_count": null,
   "id": "ebc8a4a1-60c0-4bf5-9208-5ba4a714308a",
   "metadata": {},
   "outputs": [],
   "source": []
  }
 ],
 "metadata": {
  "kernelspec": {
   "display_name": "Python [conda env:base] *",
   "language": "python",
   "name": "conda-base-py"
  },
  "language_info": {
   "codemirror_mode": {
    "name": "ipython",
    "version": 3
   },
   "file_extension": ".py",
   "mimetype": "text/x-python",
   "name": "python",
   "nbconvert_exporter": "python",
   "pygments_lexer": "ipython3",
   "version": "3.12.7"
  }
 },
 "nbformat": 4,
 "nbformat_minor": 5
}
