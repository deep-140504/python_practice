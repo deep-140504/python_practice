{
 "cells": [
  {
   "cell_type": "code",
   "execution_count": 7,
   "id": "eab15c02-c832-47fe-be40-f7d0af91d050",
   "metadata": {},
   "outputs": [
    {
     "name": "stdout",
     "output_type": "stream",
     "text": [
      "{'title': 'foo', 'body': 'bar', 'userId': 3, 'id': 101}\n",
      "{'title': 'foo', 'body': 'bar', 'userId': 1, 'id': 101}\n"
     ]
    }
   ],
   "source": [
    "import urllib3\n",
    "import json\n",
    "\n",
    "http = urllib3.PoolManager()\n",
    "\n",
    "url = 'https://jsonplaceholder.typicode.com/posts'\n",
    "\n",
    "data1 = {\n",
    "    'title': 'foo',\n",
    "    'body': 'bar',\n",
    "    'userId': 3\n",
    "}\n",
    "data2 = {\n",
    "    'title': 'foo',\n",
    "    'body': 'bar',\n",
    "    'userId': 1\n",
    "}\n",
    "\n",
    "json_data1 = json.dumps(data1)\n",
    "json_data2 = json.dumps(data2)\n",
    "\n",
    "response1 = http.request(\n",
    "    'POST',\n",
    "    url,\n",
    "    body=json_data1,  \n",
    "    headers={'Content-Type': 'application/json'} \n",
    ")\n",
    "response2 = http.request(\n",
    "    'POST',\n",
    "    url,\n",
    "    body = json_data2,\n",
    "    headers = {'Content-Type': 'application/json'}\n",
    ")\n",
    "\n",
    "response_data1 = response1.data.decode('utf-8')\n",
    "\n",
    "response_data2 = response2.data.decode('utf-8')\n",
    "\n",
    "response_json1 = json.loads(response_data1)\n",
    "\n",
    "response_json2 = json.loads(response_data2)\n",
    "print(response_json1)\n",
    "print(response_json2)\n"
   ]
  },
  {
   "cell_type": "code",
   "execution_count": null,
   "id": "b9aceeac-19a2-43c4-94b7-58d00a0fbcf7",
   "metadata": {},
   "outputs": [],
   "source": []
  }
 ],
 "metadata": {
  "kernelspec": {
   "display_name": "Python [conda env:base] *",
   "language": "python",
   "name": "conda-base-py"
  },
  "language_info": {
   "codemirror_mode": {
    "name": "ipython",
    "version": 3
   },
   "file_extension": ".py",
   "mimetype": "text/x-python",
   "name": "python",
   "nbconvert_exporter": "python",
   "pygments_lexer": "ipython3",
   "version": "3.12.7"
  }
 },
 "nbformat": 4,
 "nbformat_minor": 5
}
