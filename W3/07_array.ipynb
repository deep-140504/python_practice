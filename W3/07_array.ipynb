{
 "cells": [
  {
   "cell_type": "markdown",
   "id": "0db8f11f-aeb7-49ba-9b18-1064f452b580",
   "metadata": {},
   "source": [
    "#### 12. Write a Python program to remove the first occurrence of a specified element from an array."
   ]
  },
  {
   "cell_type": "code",
   "execution_count": 5,
   "id": "b6de9362-05fe-43d8-9054-a76267308e58",
   "metadata": {},
   "outputs": [
    {
     "name": "stdout",
     "output_type": "stream",
     "text": [
      "Array before removal: [1, 2, 3, 4, 1, 2, 3, 4]\n",
      "Array after removal: [1, 2, 4, 1, 2, 3, 4]\n"
     ]
    }
   ],
   "source": [
    "def fun(arr):\n",
    "    if 3 in arr:\n",
    "        idx = arr.index(3)\n",
    "        del arr[idx]\n",
    "\n",
    "a = [1, 2, 3, 4, 1, 2, 3, 4]\n",
    "print(f\"Array before removal: {a}\")\n",
    "fun(a)\n",
    "print(f\"Array after removal: {a}\")\n"
   ]
  },
  {
   "cell_type": "code",
   "execution_count": null,
   "id": "a4df3c43-8419-4e50-8f01-9586c5a989c1",
   "metadata": {},
   "outputs": [],
   "source": []
  }
 ],
 "metadata": {
  "kernelspec": {
   "display_name": "Python [conda env:base] *",
   "language": "python",
   "name": "conda-base-py"
  },
  "language_info": {
   "codemirror_mode": {
    "name": "ipython",
    "version": 3
   },
   "file_extension": ".py",
   "mimetype": "text/x-python",
   "name": "python",
   "nbconvert_exporter": "python",
   "pygments_lexer": "ipython3",
   "version": "3.12.7"
  }
 },
 "nbformat": 4,
 "nbformat_minor": 5
}
