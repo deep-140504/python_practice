{
 "cells": [
  {
   "cell_type": "markdown",
   "id": "46c0cdee-e8f1-4112-b13e-da3076ed38c8",
   "metadata": {},
   "source": [
    "#### Exercise 29: Calculate the exponential of all elements in a list."
   ]
  },
  {
   "cell_type": "code",
   "execution_count": 8,
   "id": "0926adbb-c665-4755-a99c-2ad5dfec87cd",
   "metadata": {},
   "outputs": [
    {
     "name": "stdout",
     "output_type": "stream",
     "text": [
      "[1, 4, 9, 16]\n"
     ]
    }
   ],
   "source": [
    "ls = [1, 2, 3, 4]\n",
    "for i in range(len(ls)):\n",
    "    ls[i] = ls[i] ** 2\n",
    "print(ls)"
   ]
  },
  {
   "cell_type": "markdown",
   "id": "ff8dfbc6-39fd-4e0f-94a5-56b789d52237",
   "metadata": {},
   "source": [
    "#### Exercise 31: Create a random 3x3 list of lists and replace all values greater than 0.5 with 1 and all others with 0."
   ]
  },
  {
   "cell_type": "code",
   "execution_count": 12,
   "id": "ea8618de-8ebf-4200-913b-a59d7e5c0589",
   "metadata": {},
   "outputs": [
    {
     "name": "stdout",
     "output_type": "stream",
     "text": [
      "[[1, 0, 0], [0, 1, 1], [0, 0, 1]]\n"
     ]
    }
   ],
   "source": [
    "import random\n",
    "matrix = [[random.random() for _ in range(3)] for _ in range(3)]\n",
    "matrix = [[1 if x > 0.5 else 0 for x in row] for row in matrix]\n",
    "print(matrix)"
   ]
  },
  {
   "cell_type": "code",
   "execution_count": null,
   "id": "2e4144fe-9a3c-461f-a59b-d593e796796d",
   "metadata": {},
   "outputs": [],
   "source": []
  }
 ],
 "metadata": {
  "kernelspec": {
   "display_name": "Python [conda env:base] *",
   "language": "python",
   "name": "conda-base-py"
  },
  "language_info": {
   "codemirror_mode": {
    "name": "ipython",
    "version": 3
   },
   "file_extension": ".py",
   "mimetype": "text/x-python",
   "name": "python",
   "nbconvert_exporter": "python",
   "pygments_lexer": "ipython3",
   "version": "3.12.7"
  }
 },
 "nbformat": 4,
 "nbformat_minor": 5
}
