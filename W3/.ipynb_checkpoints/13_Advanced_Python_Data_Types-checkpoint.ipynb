{
 "cells": [
  {
   "cell_type": "markdown",
   "id": "11fe5875-8db3-44c0-9f0f-101e17441eb0",
   "metadata": {},
   "source": [
    "# Boolean Data Type\n",
    "#### 10. Write a Python program that checks a simple authentication system. The program verifies the provided username and password against predefined usernames and passwords by using boolean checks."
   ]
  },
  {
   "cell_type": "code",
   "execution_count": 7,
   "id": "a91c3af2-6e88-42eb-9618-9a7532e2d6bc",
   "metadata": {},
   "outputs": [
    {
     "name": "stdin",
     "output_type": "stream",
     "text": [
      "Enter your user ID:  user1\n",
      "Enter your password:  Pass@123\n"
     ]
    },
    {
     "name": "stdout",
     "output_type": "stream",
     "text": [
      "Login successful. Welcome, user1\n"
     ]
    }
   ],
   "source": [
    "def authenticate(user_id, user_pass):\n",
    "    credentials = {\n",
    "        \"user1\": \"Pass@123\",\n",
    "        \"user2\": \"Secure#456\",\n",
    "        \"admin\": \"Admin$789\"\n",
    "    }\n",
    "    return user_id in credentials and credentials[user_id] == user_pass\n",
    "\n",
    "def main():\n",
    "    try:\n",
    "        user_id = input(\"Enter your user ID: \")\n",
    "        user_pass = input(\"Enter your password: \")\n",
    "        if authenticate(user_id, user_pass):\n",
    "            print(\"Login successful. Welcome,\", user_id)\n",
    "        else:\n",
    "            print(\"Login failed. Invalid user ID or password.\")\n",
    "    except Exception as error:\n",
    "        print(\"An unexpected error occurred:\", error)\n",
    "\n",
    "if __name__ == \"__main__\":\n",
    "    main()\n"
   ]
  },
  {
   "cell_type": "markdown",
   "id": "96b645f6-c714-4ddc-817c-57ea3bb9d3ae",
   "metadata": {},
   "source": [
    "# None Data Type\n",
    "#### 10. Write a Python function that replaces all occurrences of a substring in a string with another substring. Returns None if the original string is empty."
   ]
  },
  {
   "cell_type": "code",
   "execution_count": 14,
   "id": "8fae70af-1ea5-4b63-b10e-20e4304bf492",
   "metadata": {},
   "outputs": [
    {
     "name": "stdout",
     "output_type": "stream",
     "text": [
      "Hi World\n"
     ]
    }
   ],
   "source": [
    "def fun(original_string, new_string, old_string):\n",
    "    if(original_string):\n",
    "        return (original_string.replace(old_string, new_string))\n",
    "    else:\n",
    "        return None\n",
    "\n",
    "original_string = \"Hello World\"\n",
    "new_string = \"Hi\"\n",
    "old_string = \"Hello\"\n",
    "print(fun(original_string, new_string, old_string))"
   ]
  },
  {
   "cell_type": "markdown",
   "id": "fedc35d1-c9ca-480e-a82d-0c05321a4912",
   "metadata": {},
   "source": [
    "# Bytes and Byte arrays\n",
    "#### 10. Convert bytearray to bytes"
   ]
  },
  {
   "cell_type": "code",
   "execution_count": 17,
   "id": "0c7831b0-b662-423b-93f7-2fb11784e891",
   "metadata": {},
   "outputs": [
    {
     "name": "stdout",
     "output_type": "stream",
     "text": [
      "b'abcd'\n"
     ]
    }
   ],
   "source": [
    "a = bytearray([97, 98, 99, 100])\n",
    "b = bytes(a)\n",
    "print(b)"
   ]
  },
  {
   "cell_type": "markdown",
   "id": "8eebf03e-cac2-4bc6-adfd-f9f9c904496d",
   "metadata": {},
   "source": [
    "# Memory Views Data Type\n",
    "#### 10. Hexadecimal values of list elements using memory views in Python"
   ]
  },
  {
   "cell_type": "code",
   "execution_count": 24,
   "id": "b945c3a7-7c8c-4cb5-8495-6102c853b354",
   "metadata": {},
   "outputs": [
    {
     "name": "stdout",
     "output_type": "stream",
     "text": [
      "Original list values: [8, 16, 42, 92, 128]\n",
      "Hex values of the list elements:\n",
      "0x8\n",
      "0x10\n",
      "0x2a\n",
      "0x5c\n",
      "0x80\n"
     ]
    }
   ],
   "source": [
    "def display_hex_values(mem_view):\n",
    "    for val in mem_view:\n",
    "        print(hex(val))\n",
    "\n",
    "def main():\n",
    "    numbers = [8, 16, 42, 92, 128]\n",
    "    print(\"Original list values:\", numbers)\n",
    "\n",
    "    mem_view = memoryview(bytearray(numbers))\n",
    "\n",
    "    print(\"Hex values of the list elements:\")\n",
    "    display_hex_values(mem_view)\n",
    "\n",
    "if __name__ == \"__main__\":\n",
    "    main()\n"
   ]
  },
  {
   "cell_type": "markdown",
   "id": "e278a8ab-103b-4dc6-ad81-485f714246ea",
   "metadata": {},
   "source": [
    "# Frozenset views\n",
    "#### 10. Write a Python program that generates a frozenset containing the squares of all odd numbers from 1 to 15 using set comprehension."
   ]
  },
  {
   "cell_type": "code",
   "execution_count": 29,
   "id": "c7f83b90-a859-4692-aeee-135d9336eeda",
   "metadata": {},
   "outputs": [
    {
     "name": "stdout",
     "output_type": "stream",
     "text": [
      "frozenset({0, 1, 64, 121, 4, 36, 100, 196, 9, 169, 16, 49, 81, 144, 25})\n"
     ]
    }
   ],
   "source": [
    "frozen_set = frozenset({i ** 2 for i in range(15)})\n",
    "print(frozen_set)"
   ]
  },
  {
   "cell_type": "markdown",
   "id": "76bd4dfe-d8c5-49df-a49f-778a4d9cc53e",
   "metadata": {},
   "source": [
    "#### 9. Write a Python program that defines a NamedTuple named \"Car\" with fields 'make', 'model', 'year', and 'engine' (a NamedTuple representing engine details). Create an instance of the \"Car\" NamedTuple and print its attributes."
   ]
  },
  {
   "cell_type": "code",
   "execution_count": 34,
   "id": "32d55edc-dce5-4ccb-932d-720cc53b342c",
   "metadata": {},
   "outputs": [
    {
     "name": "stdout",
     "output_type": "stream",
     "text": [
      "Make: Toyota\n",
      "Model: Camry\n",
      "Year: 2023\n",
      "Engine Type: 2.0L\n",
      "Engine Cylinders: 6\n"
     ]
    }
   ],
   "source": [
    "from collections import namedtuple\n",
    "\n",
    "Engine = namedtuple('Engine', ['type', 'cylinders'])\n",
    "Car = namedtuple('Car', ['make', 'model', 'year', 'engine'])\n",
    "\n",
    "engine_details = Engine(type='2.0L', cylinders=6)\n",
    "car_instance = Car(make='Toyota', model='Camry', year=2023, engine=engine_details)\n",
    "\n",
    "print(\"Make:\", car_instance.make)\n",
    "print(\"Model:\", car_instance.model)\n",
    "print(\"Year:\", car_instance.year)\n",
    "print(\"Engine Type:\", car_instance.engine.type)\n",
    "print(\"Engine Cylinders:\", car_instance.engine.cylinders)"
   ]
  },
  {
   "cell_type": "markdown",
   "id": "57558a60-493c-40e1-95d8-bc06fb100cc0",
   "metadata": {},
   "source": [
    "# Python OrderedDict\n",
    "#### 10. Write a Python function that takes a list of words and returns an OrderedDict where keys are the words and values are the lengths of the words."
   ]
  },
  {
   "cell_type": "code",
   "execution_count": 50,
   "id": "a0df1a01-5c41-4892-952c-31a96bb00966",
   "metadata": {},
   "outputs": [
    {
     "name": "stdout",
     "output_type": "stream",
     "text": [
      "a 1\n",
      "ab 2\n",
      "abc 3\n",
      "def 3\n",
      "abcd 4\n"
     ]
    }
   ],
   "source": [
    "from collections import OrderedDict\n",
    "def fun(words):\n",
    "    ordered_dict = OrderedDict()\n",
    "    for word in words:\n",
    "        ordered_dict[word] = (len(word))\n",
    "    return ordered_dict\n",
    "words = [\"a\", \"ab\", \"abc\", \"def\", \"abcd\"]\n",
    "res = fun(words)\n",
    "for k, v in res.items():\n",
    "    print(k, v)"
   ]
  },
  {
   "cell_type": "markdown",
   "id": "e506ff16-88ee-4d6f-bc05-eac665fb8876",
   "metadata": {},
   "source": [
    "# Counter\n",
    "#### 10. Write a Python program that creates a 'Counter' for a list of items and uses dictionary-style access to update the count of specific items."
   ]
  },
  {
   "cell_type": "code",
   "execution_count": 58,
   "id": "38e79897-0676-4da4-b869-65d94b768880",
   "metadata": {},
   "outputs": [
    {
     "name": "stdout",
     "output_type": "stream",
     "text": [
      "Before updating:Counter({'Red': 4, 'Black': 2, 'Pink': 2, 'Green': 1, 'Orange': 1, 'White': 1})\n",
      "After updating:Counter({'Red': 6, 'Black': 2, 'Green': 1, 'Orange': 1, 'White': 1, 'Pink': 0})\n"
     ]
    }
   ],
   "source": [
    "from collections import Counter\n",
    "items = ['Red', 'Green', 'Black', 'Black', 'Red', 'Red', 'Orange', 'Pink', 'Pink', 'Red', 'White']\n",
    "cnt = Counter(items)\n",
    "print(f\"Before updating:{cnt}\")\n",
    "cnt['Red'] += 2\n",
    "cnt['Pink'] -= 2\n",
    "print(f\"After updating:{cnt}\")"
   ]
  },
  {
   "cell_type": "markdown",
   "id": "3f07b533-161d-4f2a-820c-d8c64cc589b6",
   "metadata": {},
   "source": [
    "# Python Ellipsis\n",
    "#### 9. Write a Python program that creates a custom class with an 'init' method. Use 'ellipsis' to indicate that some attributes may be added dynamically."
   ]
  },
  {
   "cell_type": "code",
   "execution_count": 61,
   "id": "09816eaa-f121-48df-a7bd-57ad595ed588",
   "metadata": {},
   "outputs": [
    {
     "name": "stdout",
     "output_type": "stream",
     "text": [
      "Name: Alice\n",
      "Age: 28\n",
      "Address: 456 Maple Ave\n",
      "Occupation: Engineer\n"
     ]
    }
   ],
   "source": [
    "class DynamicAttributes:\n",
    "    def __init__(self, name, age):\n",
    "        self.name = name\n",
    "        self.age = age\n",
    "        self.address = ...\n",
    "\n",
    "    def add_attribute(self, key, value):\n",
    "        setattr(self, key, value)\n",
    "\n",
    "person = DynamicAttributes(\"Alice\", 28)\n",
    "person.add_attribute(\"address\", \"456 Maple Ave\")\n",
    "person.add_attribute(\"occupation\", \"Engineer\")\n",
    "\n",
    "print(f\"Name: {person.name}\")\n",
    "print(f\"Age: {person.age}\")\n",
    "print(f\"Address: {person.address}\")\n",
    "print(f\"Occupation: {person.occupation}\")\n"
   ]
  },
  {
   "cell_type": "code",
   "execution_count": null,
   "id": "67f0732b-b043-4876-9d84-955ee658be81",
   "metadata": {},
   "outputs": [],
   "source": []
  }
 ],
 "metadata": {
  "kernelspec": {
   "display_name": "Python [conda env:base] *",
   "language": "python",
   "name": "conda-base-py"
  },
  "language_info": {
   "codemirror_mode": {
    "name": "ipython",
    "version": 3
   },
   "file_extension": ".py",
   "mimetype": "text/x-python",
   "name": "python",
   "nbconvert_exporter": "python",
   "pygments_lexer": "ipython3",
   "version": "3.12.7"
  }
 },
 "nbformat": 4,
 "nbformat_minor": 5
}
