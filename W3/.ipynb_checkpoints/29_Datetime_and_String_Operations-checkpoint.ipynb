{
 "cells": [
  {
   "cell_type": "markdown",
   "id": "a3762793-fbec-4461-80ed-73c34b34772c",
   "metadata": {},
   "source": [
    "# Python NumPy DateTime "
   ]
  },
  {
   "cell_type": "markdown",
   "id": "06292617-b23e-4637-b8f6-c4b78871c3ba",
   "metadata": {},
   "source": [
    "#### 6. Write a NumPy program to find the number of weekdays in March 2017.\n"
   ]
  },
  {
   "cell_type": "code",
   "execution_count": 6,
   "id": "cba8ab95-5a65-428b-b4f8-08ec52d40639",
   "metadata": {},
   "outputs": [
    {
     "name": "stdout",
     "output_type": "stream",
     "text": [
      "Number of weekdays in March 2017:\n",
      "23\n"
     ]
    }
   ],
   "source": [
    "import numpy as np\n",
    "\n",
    "start_date = '2017-03-01'\n",
    "end_date = '2017-04-01'\n",
    "\n",
    "weekdays_count = np.busday_count(start_date, end_date)\n",
    "\n",
    "print(\"Number of weekdays in March 2017:\")\n",
    "print(weekdays_count)\n"
   ]
  },
  {
   "cell_type": "markdown",
   "id": "252c28c4-38db-4798-b7b7-e62af4983287",
   "metadata": {},
   "source": [
    "#### 7. Write a NumPy program to convert numpy datetime64 to Timestamp."
   ]
  },
  {
   "cell_type": "code",
   "execution_count": 9,
   "id": "824a6172-51cc-4ed7-8dec-6b29b82c4dc9",
   "metadata": {},
   "outputs": [
    {
     "name": "stdout",
     "output_type": "stream",
     "text": [
      "Current date:\n",
      "2017-04-01T08:01:12.722055\n",
      "Timestamp:\n",
      "1491033672.722055\n",
      "UTC from Timestamp:\n",
      "2025-01-30 07:15:34.043558+00:00\n"
     ]
    }
   ],
   "source": [
    "import numpy as np\n",
    "import pandas as pd\n",
    "\n",
    "dt64 = np.datetime64('2017-04-01T08:01:12.722055')\n",
    "timestamp = pd.to_datetime(dt64)\n",
    "\n",
    "print(\"Current date:\")\n",
    "print(dt64)\n",
    "\n",
    "print(\"Timestamp:\")\n",
    "print(timestamp.timestamp())\n",
    "\n",
    "print(\"UTC from Timestamp:\")\n",
    "print(timestamp.utcnow())\n"
   ]
  },
  {
   "cell_type": "markdown",
   "id": "52ceaac4-3d3f-4aa2-afd2-12081d8d386f",
   "metadata": {},
   "source": [
    "# Python NumPy String"
   ]
  },
  {
   "cell_type": "markdown",
   "id": "894d654c-6ec5-4e1f-9763-4dac6d0448ff",
   "metadata": {},
   "source": [
    "#### 22. Write a NumPy program to split a given text into lines and split the single line into array values."
   ]
  },
  {
   "cell_type": "code",
   "execution_count": 22,
   "id": "cbe1de67-83dd-4119-a4a0-b177c2635224",
   "metadata": {},
   "outputs": [
    {
     "name": "stdout",
     "output_type": "stream",
     "text": [
      "[['' '' '' '']\n",
      " ['01' 'V' 'Debby' 'Pramod']\n",
      " ['02' 'V' 'Artemiy' 'Ellie']\n",
      " ['03' 'V' 'Yasir' 'Mikael']\n",
      " ['04' 'V' 'Linda' 'Lykos']\n",
      " ['05' 'V' 'Sven' 'Mikkel']\n",
      " ['06' 'V' 'Jack' 'Viktor']\n",
      " ['07' 'V' 'Lara' 'Mikkel']\n",
      " ['08' 'V' 'Alex' 'David']\n",
      " ['09' 'V' 'Jim' 'Mikkel']\n",
      " ['10' 'V' 'Rose' 'Lykos']]\n"
     ]
    }
   ],
   "source": [
    "# Solution 1\n",
    "import numpy as np\n",
    "\n",
    "txt = \"\"\"\n",
    "01 V Debby Pramod\n",
    "02 V Artemiy Ellie\n",
    "03 V Yasir Mikael\n",
    "04 V Linda Lykos\n",
    "05 V Sven Mikkel\n",
    "06 V Jack Viktor\n",
    "07 V Lara Mikkel\n",
    "08 V Alex David\n",
    "09 V Jim Mikkel\n",
    "10 V Rose Lykos\n",
    "\"\"\"\n",
    "\n",
    "lines = txt.splitlines()\n",
    "split_lines = [line.split() for line in lines]\n",
    "\n",
    "max_len = max(len(line) for line in split_lines)\n",
    "\n",
    "# Pad the lines to ensure all have the same length\n",
    "padded_lines = [line + [''] * (max_len - len(line)) for line in split_lines]\n",
    "\n",
    "arr = np.array(padded_lines)\n",
    "\n",
    "print(arr)\n"
   ]
  },
  {
   "cell_type": "code",
   "execution_count": 18,
   "id": "5d8eda8c-9fcb-43a6-8c14-43a5d8ced148",
   "metadata": {},
   "outputs": [
    {
     "name": "stdout",
     "output_type": "stream",
     "text": [
      "[]\n",
      "['01', 'V', 'Debby', 'Pramod']\n",
      "['02', 'V', 'Artemiy', 'Ellie']\n",
      "['03', 'V', 'Yasir', 'Mikael']\n",
      "['04', 'V', 'Linda', 'Lykos']\n",
      "['05', 'V', 'Sven', 'Mikkel']\n",
      "['06', 'V', 'Jack', 'Viktor']\n",
      "['07', 'V', 'Lara', 'Mikkel']\n",
      "['08', 'V', 'Alex', 'David']\n",
      "['09', 'V', 'Jim', 'Mikkel']\n",
      "['10', 'V', 'Rose', 'Lykos']\n"
     ]
    }
   ],
   "source": [
    "# SOution 2\n",
    "import numpy as np\n",
    "txt = \"\"\"\n",
    "01 V Debby Pramod\n",
    "02 V Artemiy Ellie\n",
    "03 V Yasir Mikael\n",
    "04 V Linda Lykos\n",
    "05 V Sven Mikkel\n",
    "06 V Jack Viktor\n",
    "07 V Lara Mikkel\n",
    "08 V Alex David\n",
    "09 V Jim Mikkel\n",
    "10 V Rose Lykos\n",
    "\"\"\"\n",
    "\n",
    "lines = txt.splitlines()\n",
    "split_lines = [line.split() for line in lines]\n",
    "\n",
    "for line in split_lines:\n",
    "    print(line)\n"
   ]
  },
  {
   "cell_type": "markdown",
   "id": "439c218e-ef2c-4448-abd8-4726689b664d",
   "metadata": {},
   "source": [
    "#### 19. Write a NumPy program to add two zeros to the beginning of each element of a given array of string values."
   ]
  },
  {
   "cell_type": "code",
   "execution_count": 25,
   "id": "75328b12-2cb2-4f27-88f5-d3e516780aec",
   "metadata": {},
   "outputs": [
    {
     "name": "stdout",
     "output_type": "stream",
     "text": [
      "Original array:\n",
      "['1.12' '22.233' '3.71' '456.123' '5.11']\n",
      "Array with two leading zeros added to each element:\n",
      "['001.12' '0022.233' '003.71' '00456.123' '005.11']\n",
      "Alternate method:\n",
      "['001.12' '0022.233' '003.71' '00456.123' '005.11']\n"
     ]
    }
   ],
   "source": [
    "import numpy as np\n",
    "\n",
    "arr = np.array(['1.12', '22.233', '3.71', '456.123', '5.11'])\n",
    "modified_arr = np.char.add('00', arr)\n",
    "\n",
    "print(\"Original array:\")\n",
    "print(arr)\n",
    "\n",
    "print(\"Array with two leading zeros added to each element:\")\n",
    "print(modified_arr)\n",
    "\n",
    "alternate_arr = np.array([f'00{s}' for s in arr])\n",
    "print(\"Alternate method:\")\n",
    "print(alternate_arr)\n"
   ]
  },
  {
   "cell_type": "code",
   "execution_count": null,
   "id": "160c5378-fcbb-4e1d-9c50-c3f41f7f9b0d",
   "metadata": {},
   "outputs": [],
   "source": []
  }
 ],
 "metadata": {
  "kernelspec": {
   "display_name": "Python [conda env:base] *",
   "language": "python",
   "name": "conda-base-py"
  },
  "language_info": {
   "codemirror_mode": {
    "name": "ipython",
    "version": 3
   },
   "file_extension": ".py",
   "mimetype": "text/x-python",
   "name": "python",
   "nbconvert_exporter": "python",
   "pygments_lexer": "ipython3",
   "version": "3.12.7"
  }
 },
 "nbformat": 4,
 "nbformat_minor": 5
}
