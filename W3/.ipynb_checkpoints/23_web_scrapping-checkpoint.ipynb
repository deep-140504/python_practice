{
 "cells": [
  {
   "cell_type": "markdown",
   "id": "3f5f6cbb-399d-405b-bb79-85204ddc1db8",
   "metadata": {},
   "source": [
    "#### USGS Earthquake API Documentation"
   ]
  },
  {
   "cell_type": "code",
   "execution_count": 2,
   "id": "df7a7231-851b-4b12-ac1a-a601d722ad6a",
   "metadata": {},
   "outputs": [
    {
     "name": "stdout",
     "output_type": "stream",
     "text": [
      "Number of magnitude 4.5+ earthquakes detected worldwide: 548\n"
     ]
    }
   ],
   "source": [
    "import requests\n",
    "\n",
    "def get_earthquake_count(min_magnitude=4.5):\n",
    "    url = \"https://earthquake.usgs.gov/fdsnws/event/1/query\"\n",
    "    params = {\n",
    "        \"format\": \"geojson\",\n",
    "        \"minmagnitude\": min_magnitude\n",
    "    }\n",
    "    \n",
    "    response = requests.get(url, params=params)\n",
    "    \n",
    "    if response.status_code == 200:\n",
    "        data = response.json()\n",
    "        earthquake_count = len(data[\"features\"])  # Count the number of earthquakes\n",
    "        return earthquake_count\n",
    "    else:\n",
    "        return f\"Error: {response.status_code}\"\n",
    "\n",
    "earthquake_count = get_earthquake_count(4.5)\n",
    "print(f\"Number of magnitude 4.5+ earthquakes detected worldwide: {earthquake_count}\")\n"
   ]
  },
  {
   "cell_type": "code",
   "execution_count": null,
   "id": "86059c0a-2472-4fb0-ab32-c56c1daa42d0",
   "metadata": {},
   "outputs": [],
   "source": []
  }
 ],
 "metadata": {
  "kernelspec": {
   "display_name": "Python [conda env:base] *",
   "language": "python",
   "name": "conda-base-py"
  },
  "language_info": {
   "codemirror_mode": {
    "name": "ipython",
    "version": 3
   },
   "file_extension": ".py",
   "mimetype": "text/x-python",
   "name": "python",
   "nbconvert_exporter": "python",
   "pygments_lexer": "ipython3",
   "version": "3.12.7"
  }
 },
 "nbformat": 4,
 "nbformat_minor": 5
}
