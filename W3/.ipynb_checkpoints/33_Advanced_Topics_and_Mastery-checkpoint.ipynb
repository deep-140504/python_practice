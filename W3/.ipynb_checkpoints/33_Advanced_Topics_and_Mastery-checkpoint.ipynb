{
 "cells": [
  {
   "cell_type": "markdown",
   "id": "3045911d-0cfa-45ca-a269-552c20865cc8",
   "metadata": {},
   "source": [
    "# Advanced NumPy"
   ]
  },
  {
   "cell_type": "markdown",
   "id": "2c66f327-24d2-45e7-b8d7-6f0e06d44784",
   "metadata": {},
   "source": [
    "#### 33. Write a NumPy program to create a 3x3 array with random values and calculate the pairwise Euclidean distance between each pair of rows."
   ]
  },
  {
   "cell_type": "code",
   "execution_count": 3,
   "id": "bbe367ba-75ca-4cfd-ae7e-ed7ac987a646",
   "metadata": {},
   "outputs": [
    {
     "name": "stdout",
     "output_type": "stream",
     "text": [
      "3x3 Random Array:\n",
      " [[0.37454012 0.95071431 0.73199394]\n",
      " [0.59865848 0.15601864 0.15599452]\n",
      " [0.05808361 0.86617615 0.60111501]]\n",
      "\n",
      "Pairwise Euclidean Distance Matrix:\n",
      " [[0.         1.00675001 0.35273321]\n",
      " [1.00675001 0.         0.99733501]\n",
      " [0.35273321 0.99733501 0.        ]]\n"
     ]
    }
   ],
   "source": [
    "import numpy as np\n",
    "from scipy.spatial.distance import cdist\n",
    "\n",
    "np.random.seed(42) \n",
    "A = np.random.rand(3, 3)  \n",
    "\n",
    "euclidean_distances = cdist(A, A, metric='euclidean')\n",
    "\n",
    "# Display results\n",
    "print(\"3x3 Random Array:\\n\", A)\n",
    "print(\"\\nPairwise Euclidean Distance Matrix:\\n\", euclidean_distances)\n"
   ]
  },
  {
   "cell_type": "markdown",
   "id": "2dac7ac7-1233-442a-b379-5e7e97dab5f4",
   "metadata": {},
   "source": [
    "#### 5. Replace all odd numbers in an array of 1-10 with -1"
   ]
  },
  {
   "cell_type": "code",
   "execution_count": 14,
   "id": "907acb63-f01a-433e-bfb7-c3bad1bb1e3b",
   "metadata": {},
   "outputs": [
    {
     "name": "stdout",
     "output_type": "stream",
     "text": [
      "[1 3 5 7 9]\n",
      "[-1  2 -1  4 -1  6 -1  8 -1 10]\n"
     ]
    }
   ],
   "source": [
    "import numpy as np\n",
    "arr = np.arange(1, 11)\n",
    "print(arr[arr % 2 != 0])\n",
    "arr[arr % 2 != 0] = -1\n",
    "print(arr)"
   ]
  },
  {
   "cell_type": "code",
   "execution_count": null,
   "id": "9736955d-5547-4868-a0ee-f810fbc69e8a",
   "metadata": {},
   "outputs": [],
   "source": []
  }
 ],
 "metadata": {
  "kernelspec": {
   "display_name": "Python [conda env:base] *",
   "language": "python",
   "name": "conda-base-py"
  },
  "language_info": {
   "codemirror_mode": {
    "name": "ipython",
    "version": 3
   },
   "file_extension": ".py",
   "mimetype": "text/x-python",
   "name": "python",
   "nbconvert_exporter": "python",
   "pygments_lexer": "ipython3",
   "version": "3.12.7"
  }
 },
 "nbformat": 4,
 "nbformat_minor": 5
}
