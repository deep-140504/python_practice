{
 "cells": [
  {
   "cell_type": "markdown",
   "id": "26197933-8a31-4104-99d0-45feea4734ec",
   "metadata": {},
   "source": [
    "#### Python Unit test"
   ]
  },
  {
   "cell_type": "code",
   "execution_count": null,
   "id": "4598b8e5-3f19-4fd7-9ac4-e7551de8000d",
   "metadata": {},
   "outputs": [],
   "source": [
    "import unittest\n",
    "\n",
    "def is_sorted_ascending(lst):\n",
    "    return all(lst[i] <= lst[i+1] for i in range(len(lst)-1))\n",
    "\n",
    "class TestSortedAscending(unittest.TestCase):\n",
    "    def test_sorted_list(self):\n",
    "        lst = [1, 2, 3, 4, 5, 6, 7]\n",
    "        self.assertTrue(is_sorted_ascending(lst), \"The list is not sorted in ascending order\")\n",
    "\n",
    "    def test_unsorted_list(self):\n",
    "        lst = [5, 7, 2, 8, 1, 9]\n",
    "        self.assertFalse(is_sorted_ascending(lst), \"The list is sorted in ascending order\")\n",
    "\n",
    "if __name__ == '__main__':\n",
    "    unittest.main()\n"
   ]
  },
  {
   "cell_type": "markdown",
   "id": "1e9da62b-1cd3-4899-9127-fbd8b6bb8cc1",
   "metadata": {},
   "source": [
    "#### Python Exception Handling"
   ]
  },
  {
   "cell_type": "code",
   "execution_count": 5,
   "id": "dda25cf1-0c57-4452-a7fa-7514eb2531e0",
   "metadata": {},
   "outputs": [
    {
     "name": "stdout",
     "output_type": "stream",
     "text": [
      "5.0\n",
      "Cannot divide by zero\n",
      "An error occurred: unsupported operand type(s) for /: 'str' and 'int'\n"
     ]
    }
   ],
   "source": [
    "def divide(a, b):\n",
    "    try:\n",
    "        result = a / b\n",
    "        return result\n",
    "    except ZeroDivisionError:\n",
    "        return \"Cannot divide by zero\"\n",
    "    except Exception as e:\n",
    "        return f\"An error occurred: {e}\"\n",
    "\n",
    "print(divide(10, 2))\n",
    "print(divide(10, 0))\n",
    "print(divide(\"10\", 2)) "
   ]
  },
  {
   "cell_type": "markdown",
   "id": "fce687c3-5552-403f-8780-b64b468392d5",
   "metadata": {},
   "source": [
    "#### Decorator"
   ]
  },
  {
   "cell_type": "markdown",
   "id": "06814311-884e-4bd2-ae2a-cb819fbfe81d",
   "metadata": {},
   "source": [
    "#### Creating a Python decorator to measure function execution time"
   ]
  },
  {
   "cell_type": "code",
   "execution_count": 11,
   "id": "32625e7d-72c3-497f-9f4a-125cc3d73a8b",
   "metadata": {},
   "outputs": [
    {
     "name": "stdout",
     "output_type": "stream",
     "text": [
      "Function calculate_multiply took 0.000000000 seconds to execute\n",
      "Result: 120\n"
     ]
    }
   ],
   "source": [
    "import time\n",
    "\n",
    "def measure_execution_time(func):\n",
    "    def wrapper(*args, **kwargs):\n",
    "        start_time = time.time()\n",
    "        result = func(*args, **kwargs)\n",
    "        end_time = time.time()\n",
    "        execution_time = end_time - start_time\n",
    "        print(f\"Function {func.__name__} took {execution_time:.9f} seconds to execute\")\n",
    "        return result\n",
    "    return wrapper\n",
    "\n",
    "@measure_execution_time\n",
    "def calculate_multiply(numbers):\n",
    "    tot = 1\n",
    "    for x in numbers:\n",
    "        tot *= x\n",
    "    return tot\n",
    "\n",
    "result = calculate_multiply([1, 2, 3, 4, 5])\n",
    "print(\"Result:\", result)"
   ]
  },
  {
   "cell_type": "code",
   "execution_count": null,
   "id": "7f57bc8c-b890-440b-9b61-5bf2018eb3be",
   "metadata": {},
   "outputs": [],
   "source": []
  }
 ],
 "metadata": {
  "kernelspec": {
   "display_name": "Python [conda env:base] *",
   "language": "python",
   "name": "conda-base-py"
  },
  "language_info": {
   "codemirror_mode": {
    "name": "ipython",
    "version": 3
   },
   "file_extension": ".py",
   "mimetype": "text/x-python",
   "name": "python",
   "nbconvert_exporter": "python",
   "pygments_lexer": "ipython3",
   "version": "3.12.7"
  }
 },
 "nbformat": 4,
 "nbformat_minor": 5
}
