{
 "cells": [
  {
   "cell_type": "markdown",
   "id": "662bcb93-e296-457d-9ace-cad51ca5ed81",
   "metadata": {},
   "source": [
    "#### 15. Longest String in List"
   ]
  },
  {
   "cell_type": "code",
   "execution_count": 4,
   "id": "cd5ec282-9591-41d5-a7c2-d9e0ebef96c1",
   "metadata": {},
   "outputs": [
    {
     "name": "stdout",
     "output_type": "stream",
     "text": [
      "center\n"
     ]
    }
   ],
   "source": [
    "ls = ['cat', 'car', 'fear', 'center']\n",
    "ans = \"\"\n",
    "for i in ls:\n",
    "    if(len(i) > len(ans)):\n",
    "        ans = i\n",
    "print(ans)"
   ]
  },
  {
   "cell_type": "markdown",
   "id": "18590fcc-6364-473f-9880-efe44e0deb29",
   "metadata": {},
   "source": [
    "#### 16. Find Strings with Substring"
   ]
  },
  {
   "cell_type": "code",
   "execution_count": 6,
   "id": "f44daaeb-956f-409a-9510-c19512942a74",
   "metadata": {},
   "outputs": [
    {
     "name": "stdout",
     "output_type": "stream",
     "text": [
      "['cat', 'car']\n",
      "['dog', 'donut', 'todo']\n",
      "[]\n"
     ]
    }
   ],
   "source": [
    "def find_strings_with_substring(substring, string_list):\n",
    "    return [s for s in string_list if substring in s]\n",
    "\n",
    "print(find_strings_with_substring('ca', ('cat', 'car', 'fear', 'center')))\n",
    "print(find_strings_with_substring('o', ('cat', 'dog', 'shatter', 'donut', 'at', 'todo', '')))\n",
    "print(find_strings_with_substring('oe', ('cat', 'dog', 'shatter', 'donut', 'at', 'todo', '')))\n"
   ]
  },
  {
   "cell_type": "code",
   "execution_count": null,
   "id": "61d57d23-7065-470d-8885-143cc7f6ec52",
   "metadata": {},
   "outputs": [],
   "source": []
  }
 ],
 "metadata": {
  "kernelspec": {
   "display_name": "Python [conda env:base] *",
   "language": "python",
   "name": "conda-base-py"
  },
  "language_info": {
   "codemirror_mode": {
    "name": "ipython",
    "version": 3
   },
   "file_extension": ".py",
   "mimetype": "text/x-python",
   "name": "python",
   "nbconvert_exporter": "python",
   "pygments_lexer": "ipython3",
   "version": "3.12.7"
  }
 },
 "nbformat": 4,
 "nbformat_minor": 5
}
