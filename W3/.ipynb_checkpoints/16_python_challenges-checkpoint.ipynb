{
 "cells": [
  {
   "cell_type": "markdown",
   "id": "4fdee0cb-6123-499a-b46b-e3c4a2e9187b",
   "metadata": {},
   "source": [
    "#### 49. Write a Python program to find the index of the first term in the Fibonacci sequence to contain 500 digits."
   ]
  },
  {
   "cell_type": "code",
   "execution_count": 12,
   "id": "4bb42c9d-d3c8-4836-91a1-b60374bc2e0d",
   "metadata": {},
   "outputs": [
    {
     "name": "stdout",
     "output_type": "stream",
     "text": [
      "2389\n"
     ]
    }
   ],
   "source": [
    "fib = [1, 1]\n",
    "def fun():\n",
    "    i = 2\n",
    "    while True:\n",
    "        a = fib[i - 1] \n",
    "        b = fib[i - 2]\n",
    "        fib.append(a + b)\n",
    "        if(len(str(fib[i])) == 500):\n",
    "            print(i)\n",
    "            break\n",
    "        i = i + 1\n",
    "fun()\n",
    "# print(fib)"
   ]
  },
  {
   "cell_type": "markdown",
   "id": "88e34c7a-852d-46a6-ab61-09c67700cc89",
   "metadata": {},
   "source": [
    "#### 59. Starting with the number 1 and moving to the right in a clockwise direction a 5 by 5 spiral is formed as follows"
   ]
  },
  {
   "cell_type": "markdown",
   "id": "177f1376-3a93-45b5-9840-73831cdad337",
   "metadata": {},
   "source": [
    "#### Solution 1"
   ]
  },
  {
   "cell_type": "code",
   "execution_count": 170,
   "id": "88b234b8-ac43-47f9-abfa-280e183d84f5",
   "metadata": {},
   "outputs": [
    {
     "name": "stdout",
     "output_type": "stream",
     "text": [
      "669171001\n"
     ]
    }
   ],
   "source": [
    "def fun(n):\n",
    "    s1, s2 = 1, 1\n",
    "    fs1 = 2\n",
    "    fs2 = 4\n",
    "    curr = 1\n",
    "    ans1 = 1\n",
    "    ans2 = 0\n",
    "    for i in range(1, n):\n",
    "        s1 = s1 + fs1\n",
    "        fs1 = fs1 + 2\n",
    "        ans1 = ans1 + s1\n",
    "    for i in range(0, n // 2):\n",
    "        a = curr +  fs2\n",
    "        b = curr + fs2 * 2\n",
    "        fs2 = fs2 + 4\n",
    "        curr = b\n",
    "        ans2 = ans2 + a + b\n",
    "    return ans1 + ans2\n",
    "# n = 7\n",
    "n = 1001\n",
    "print(fun(n))"
   ]
  },
  {
   "cell_type": "markdown",
   "id": "06d43c3b-9592-4d1b-832f-f65d99d95573",
   "metadata": {},
   "source": [
    "#### Solution 2"
   ]
  },
  {
   "cell_type": "code",
   "execution_count": 168,
   "id": "a82f9d7a-b80d-421f-8eac-8761da9e0335",
   "metadata": {},
   "outputs": [
    {
     "name": "stdout",
     "output_type": "stream",
     "text": [
      "669171001\n"
     ]
    }
   ],
   "source": [
    "def fun(n):\n",
    "    traversals = n // 2 + 1\n",
    "    temp = 1\n",
    "    ans = 1\n",
    "    for i in range(1, traversals):\n",
    "        f = (i) * 2\n",
    "        for j in range(4):\n",
    "            temp = temp + f\n",
    "            ans += temp\n",
    "    return (ans)\n",
    "n = 1001\n",
    "print(fun(n))"
   ]
  },
  {
   "cell_type": "code",
   "execution_count": null,
   "id": "30534bfa-44b6-4dc2-8b23-5dd17a396193",
   "metadata": {},
   "outputs": [],
   "source": []
  }
 ],
 "metadata": {
  "kernelspec": {
   "display_name": "Python [conda env:base] *",
   "language": "python",
   "name": "conda-base-py"
  },
  "language_info": {
   "codemirror_mode": {
    "name": "ipython",
    "version": 3
   },
   "file_extension": ".py",
   "mimetype": "text/x-python",
   "name": "python",
   "nbconvert_exporter": "python",
   "pygments_lexer": "ipython3",
   "version": "3.12.7"
  }
 },
 "nbformat": 4,
 "nbformat_minor": 5
}
