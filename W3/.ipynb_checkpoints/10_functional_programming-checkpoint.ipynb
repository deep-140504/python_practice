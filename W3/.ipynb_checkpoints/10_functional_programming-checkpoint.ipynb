{
 "cells": [
  {
   "cell_type": "markdown",
   "id": "3544060f-9a9b-4c0d-b412-c325ac4d2739",
   "metadata": {},
   "source": [
    "# Functional Programming\n",
    "#### 8. Write a Python function that takes a list and returns a new list with distinct elements from the first list."
   ]
  },
  {
   "cell_type": "code",
   "execution_count": 6,
   "id": "79563013-2302-4a6d-9144-eb901952ba55",
   "metadata": {},
   "outputs": [
    {
     "name": "stdout",
     "output_type": "stream",
     "text": [
      "[1, 2, 3, 4]\n"
     ]
    }
   ],
   "source": [
    "def fun(arr):\n",
    "    ans = list(set(arr))\n",
    "    return ans\n",
    "arr = [1, 2, 2, 3, 3, 3, 4, 4, 4, 4]\n",
    "ans = fun(arr)\n",
    "print(ans)"
   ]
  },
  {
   "cell_type": "markdown",
   "id": "e0ccabcb-7f54-4b11-a6bd-da264af8ef9c",
   "metadata": {},
   "source": [
    "#### 1. Write a python program to print pascal triangle"
   ]
  },
  {
   "cell_type": "code",
   "execution_count": 41,
   "id": "398705af-1639-4afc-a972-9bc52a9ea312",
   "metadata": {},
   "outputs": [
    {
     "name": "stdout",
     "output_type": "stream",
     "text": [
      "1 \n",
      "1 1 \n",
      "1 2 1 \n",
      "1 3 3 1 \n",
      "1 4 6 4 1 \n",
      "1 5 10 10 5 1 \n",
      "1 6 15 20 15 6 1 \n"
     ]
    }
   ],
   "source": [
    "def fun(n):\n",
    "    ls = []\n",
    "    for i in range(n):\n",
    "        tls = [1] * (i + 1)\n",
    "        ls.append(tls)\n",
    "    for i in range (2, n):\n",
    "        for j in range(1, i):\n",
    "            ls[i][j] = ls[i - 1][j - 1] + ls[i - 1][j]\n",
    "    for i in range(len(ls)):\n",
    "        for j in range(len(ls[i])):\n",
    "            print(ls[i][j], end = \" \")\n",
    "        print()\n",
    "n = 7\n",
    "fun(n)"
   ]
  },
  {
   "cell_type": "markdown",
   "id": "ddb676da-2409-4f1b-81ae-a0b75aeb473d",
   "metadata": {},
   "source": [
    "#### 15. Write a Python program that accepts a hyphen-separated sequence of words as input and prints the words in a hyphen-separated sequence after sorting them alphabetically."
   ]
  },
  {
   "cell_type": "code",
   "execution_count": 52,
   "id": "d8670169-9898-4f61-adb3-c00fb0ddef08",
   "metadata": {},
   "outputs": [
    {
     "name": "stdout",
     "output_type": "stream",
     "text": [
      "black-green-red-white-yellow\n"
     ]
    }
   ],
   "source": [
    "def fun(s):\n",
    "    lst = sorted(s.split(\"-\"))\n",
    "    ans = \"-\".join(lst)\n",
    "    return ans\n",
    "string = \"green-red-yellow-black-white\"\n",
    "ans = fun(string)\n",
    "print(ans)"
   ]
  },
  {
   "cell_type": "markdown",
   "id": "1a4d6907-68bd-4e97-b894-3650b25b3772",
   "metadata": {},
   "source": [
    "# Lambda Functions\n",
    "#### 12. Write a Python program to rearrange positive and negative numbers in a given array using Lambda."
   ]
  },
  {
   "cell_type": "code",
   "execution_count": 15,
   "id": "7daea19d-7bf5-4e4e-bcfa-75fc8e4b5a30",
   "metadata": {},
   "outputs": [
    {
     "name": "stdout",
     "output_type": "stream",
     "text": [
      "[2, 5, 7, 8, 9, -10, -3, -1]\n"
     ]
    }
   ],
   "source": [
    "arr = [-1, 2, -3, 5, 7, 8, 9, -10]\n",
    "result = sorted(arr, key = lambda i: 0 if i == 0 else -1 / i)\n",
    "print(result)"
   ]
  },
  {
   "cell_type": "markdown",
   "id": "6b21563e-a36c-44b3-8296-f68806062674",
   "metadata": {},
   "source": [
    "# Map \n",
    "#### 17. Write a Python program to convert a given list of tuples to a list of strings using the map function."
   ]
  },
  {
   "cell_type": "code",
   "execution_count": 22,
   "id": "cc61a152-d517-4254-a912-105ffbdd0b01",
   "metadata": {},
   "outputs": [
    {
     "name": "stdout",
     "output_type": "stream",
     "text": [
      "[['a', 'b'], ['c', 'd'], ['e', 'f']]\n",
      "['a b', 'c d', 'e f']\n"
     ]
    }
   ],
   "source": [
    "def fun(lst):\n",
    "    res = list(map(\" \".join, lst))\n",
    "    # here in .join, the function join is not called by (), as the function as only passed as an argument, rather than calling inside of the map\n",
    "    # map function applies the function provided as first argument to each element present inside the iterable,\n",
    "    # in this case the iterable is the list of tuples having string,\n",
    "    # and the .join is applied on the iterable so, there is a tuple inside of the list\n",
    "    # so to sum up=> map applies function on each elelment of iterable and join method joins the string inside of iterable\n",
    "    return res\n",
    "lst = [('a', 'b'), ('c', 'd'), ('e', 'f')]\n",
    "lst = list(map(list, lst))\n",
    "print(lst)\n",
    "ans = fun(lst)\n",
    "print(ans)"
   ]
  },
  {
   "cell_type": "markdown",
   "id": "2825144c-8bba-40ab-b32d-4ef478cf8fb9",
   "metadata": {},
   "source": [
    "# Itertools\n",
    "#### 44. Write a  Python program to extract a non-zero block from a given integer list."
   ]
  },
  {
   "cell_type": "code",
   "execution_count": 36,
   "id": "bf6d54c0-8ca5-4d19-857c-b5a20c6dad06",
   "metadata": {},
   "outputs": [
    {
     "name": "stdout",
     "output_type": "stream",
     "text": [
      "[[1], [2, 3], [4, 5]]\n",
      "[[1], [2, 3], [4, 5]]\n"
     ]
    }
   ],
   "source": [
    "from itertools import groupby\n",
    "def solution1(arr):\n",
    "    grouped = groupby(arr, lambda x: x == 0)\n",
    "    res = []\n",
    "    for key, val in grouped:\n",
    "        if not key:\n",
    "            res.append(list(val))\n",
    "    return res\n",
    "def solution2(arr):\n",
    "    res = [list(val) for key, val in groupby(arr, lambda x: x == 0) if not key]\n",
    "    # res = [list(x[1]) for x in groupby(arr, lambda x: x == 0) if not x[0]]\n",
    "    return res\n",
    "lst = [1, 0, 0, 2, 3, 0, 4, 5, 0]\n",
    "print(solution1(lst))\n",
    "print(solution2(lst))"
   ]
  },
  {
   "cell_type": "markdown",
   "id": "89aa2e43-dbd0-4c15-80e6-824576745987",
   "metadata": {},
   "source": [
    "#### Compute the Sum of Digits for Each Number in a List"
   ]
  },
  {
   "cell_type": "code",
   "execution_count": 46,
   "id": "74a82808-fcd4-4400-94f5-24784f129f0f",
   "metadata": {},
   "outputs": [
    {
     "name": "stdout",
     "output_type": "stream",
     "text": [
      "[6, 15, 24, 2]\n"
     ]
    }
   ],
   "source": [
    "import itertools\n",
    "\n",
    "def sum_of_digits(n):\n",
    "    return sum(int(digit) for digit in str(n))\n",
    "\n",
    "numbers = [123, 456, 789, 101]\n",
    "result = list(itertools.starmap(sum_of_digits, zip(numbers)))\n",
    "# the zip conversion happens here as it converts the integer into a tuple and in starmap, second argument is an interable, so thats why\n",
    "print(result)\n"
   ]
  },
  {
   "cell_type": "code",
   "execution_count": null,
   "id": "2bb29fcd-150b-4f74-bebf-c0fe99b2521e",
   "metadata": {},
   "outputs": [],
   "source": []
  }
 ],
 "metadata": {
  "kernelspec": {
   "display_name": "Python [conda env:base] *",
   "language": "python",
   "name": "conda-base-py"
  },
  "language_info": {
   "codemirror_mode": {
    "name": "ipython",
    "version": 3
   },
   "file_extension": ".py",
   "mimetype": "text/x-python",
   "name": "python",
   "nbconvert_exporter": "python",
   "pygments_lexer": "ipython3",
   "version": "3.12.7"
  }
 },
 "nbformat": 4,
 "nbformat_minor": 5
}
