{
 "cells": [
  {
   "cell_type": "markdown",
   "id": "0800e062-fffe-44a7-ad3c-472ca094dad7",
   "metadata": {},
   "source": [
    "#### 1. Write a Python program to create an Enum object and display a member name and value."
   ]
  },
  {
   "cell_type": "code",
   "execution_count": 4,
   "id": "b6d7f927-be95-4041-a292-f06893fd317c",
   "metadata": {},
   "outputs": [
    {
     "name": "stdout",
     "output_type": "stream",
     "text": [
      "Member name: Albania\n",
      "Member value: 355\n"
     ]
    }
   ],
   "source": [
    "from enum import Enum\n",
    "\n",
    "class CountryCode(Enum):\n",
    "    Afghanistan = 93\n",
    "    Albania = 355\n",
    "    Algeria = 213\n",
    "    Andorra = 376\n",
    "    Angola = 244\n",
    "\n",
    "member = CountryCode.Albania\n",
    "print(f\"Member name: {member.name}\")\n",
    "print(f\"Member value: {member.value}\")"
   ]
  },
  {
   "cell_type": "code",
   "execution_count": null,
   "id": "2ab91ee5-20c1-436f-ba56-d6612880b3f4",
   "metadata": {},
   "outputs": [],
   "source": []
  }
 ],
 "metadata": {
  "kernelspec": {
   "display_name": "Python [conda env:base] *",
   "language": "python",
   "name": "conda-base-py"
  },
  "language_info": {
   "codemirror_mode": {
    "name": "ipython",
    "version": 3
   },
   "file_extension": ".py",
   "mimetype": "text/x-python",
   "name": "python",
   "nbconvert_exporter": "python",
   "pygments_lexer": "ipython3",
   "version": "3.12.7"
  }
 },
 "nbformat": 4,
 "nbformat_minor": 5
}
