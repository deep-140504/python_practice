{
 "cells": [
  {
   "cell_type": "code",
   "execution_count": 1,
   "id": "8b6c68b5-2384-4b09-87dc-3b19cff5a6a3",
   "metadata": {},
   "outputs": [
    {
     "name": "stdout",
     "output_type": "stream",
     "text": [
      "[1 2 3 4]\n"
     ]
    }
   ],
   "source": [
    "import numpy as np\n",
    "lst = [1, 2, 3, 4]\n",
    "arr = np.array(lst)\n",
    "print(arr)"
   ]
  },
  {
   "cell_type": "code",
   "execution_count": 3,
   "id": "fb5f7f49-c9ac-4775-a42d-67f6727d59ca",
   "metadata": {},
   "outputs": [
    {
     "name": "stdout",
     "output_type": "stream",
     "text": [
      "[4 5 6 7]\n",
      "[4 5 6 7]\n"
     ]
    }
   ],
   "source": [
    "scalar = 3\n",
    "print(arr + scalar)\n",
    "tarr = scalar + arr\n",
    "print(tarr)"
   ]
  },
  {
   "cell_type": "code",
   "execution_count": 5,
   "id": "723daa5f-895e-413d-9388-d3898734d100",
   "metadata": {},
   "outputs": [
    {
     "name": "stdout",
     "output_type": "stream",
     "text": [
      "[[0. 0. 0.]\n",
      " [0. 0. 0.]]\n",
      "[[[0. 0. 0. 0.]\n",
      "  [0. 0. 0. 0.]\n",
      "  [0. 0. 0. 0.]]\n",
      "\n",
      " [[0. 0. 0. 0.]\n",
      "  [0. 0. 0. 0.]\n",
      "  [0. 0. 0. 0.]]]\n"
     ]
    }
   ],
   "source": [
    "arr2 = np.zeros((2, 3))\n",
    "arr1 = np.zeros((2, 3, 4))\n",
    "print(arr2)\n",
    "print(arr1)"
   ]
  },
  {
   "cell_type": "markdown",
   "id": "98693b1d-9d43-4545-a088-82ebf666f709",
   "metadata": {},
   "source": [
    "# **Python NumPy Basic**"
   ]
  },
  {
   "cell_type": "markdown",
   "id": "3cc4808d-4593-4885-ae08-de4ba0eb69f4",
   "metadata": {},
   "source": [
    "#### 59. Element-Wise Multiply Two Arrays"
   ]
  },
  {
   "cell_type": "code",
   "execution_count": 56,
   "id": "89188108-2056-4ad7-bba1-6dada9d70900",
   "metadata": {},
   "outputs": [
    {
     "name": "stdout",
     "output_type": "stream",
     "text": [
      "[ 5 12]\n",
      "[21 32]\n"
     ]
    }
   ],
   "source": [
    "import numpy as np\n",
    "lst1 = np.array([\n",
    "    [1, 2],\n",
    "    [3, 4]\n",
    "])\n",
    "lst2 = np.array([\n",
    "    [5, 6],\n",
    "    [7, 8]\n",
    "])\n",
    "ans = [] \n",
    "for i in range(len(lst1)):\n",
    "    # icommented o/p when print(ans)\n",
    "\n",
    "    # (lst1[i] * lst2[i]) this returns a list of type np.array\n",
    "    \n",
    "     # ans.extend(lst1[i] * lst2[i]) # this adds single elements inside of the list o/p [5, 12, 21, 32], when []\n",
    "    ans.append(lst1[i] * lst2[i]) # this appends list in list o/p [array([ 5, 12]), array([21, 32])], when []\n",
    "    \n",
    "    # ans.extend(lst1[i] * lst2[i]) # [[], 5, 12, 21, 32], when [[]]\n",
    "    # ans.append(lst1[i] * lst2[i]) # [[], array([ 5, 12]), array([21, 32])], when [[]]\n",
    "for i in ans:\n",
    "    print(i)\n",
    "# print(ans)"
   ]
  },
  {
   "cell_type": "code",
   "execution_count": 58,
   "id": "9b049dce-b489-4c4b-84da-a48d870cfa2d",
   "metadata": {},
   "outputs": [
    {
     "name": "stdout",
     "output_type": "stream",
     "text": [
      "[[ 1  2  3  4]\n",
      " [ 5  6  7  8]\n",
      " [ 9 10 11 12]]\n"
     ]
    }
   ],
   "source": [
    "list_1 = [1, 2, 3, 4]\n",
    "list_2 = [5, 6, 7, 8]\n",
    "list_3 = [9, 10, 11, 12]\n",
    "print(np.array([list_1, list_2, list_3]))"
   ]
  },
  {
   "cell_type": "code",
   "execution_count": 181,
   "id": "6456dfd6-5c83-4b66-a7ff-5ce8fa381028",
   "metadata": {},
   "outputs": [
    {
     "name": "stdout",
     "output_type": "stream",
     "text": [
      "[[[1 2]\n",
      "  [5 6]]\n",
      "\n",
      " [[3 4]\n",
      "  [7 8]]]\n",
      "[[[1 2]\n",
      "  [3 4]]\n",
      "\n",
      " [[5 6]\n",
      "  [7 8]]]\n"
     ]
    }
   ],
   "source": [
    "arr = np.array([[[1, 2], [3, 4]], [[5, 6], [7, 8]]])\n",
    "print(np.swapaxes(arr, 0, 1))  # Swap axis 0 and 1\n",
    "print(arr)"
   ]
  },
  {
   "cell_type": "code",
   "execution_count": 183,
   "id": "685b2187-b718-4004-b5af-f2222769ee64",
   "metadata": {},
   "outputs": [
    {
     "name": "stdout",
     "output_type": "stream",
     "text": [
      "[0.37454012 0.95071431 0.73199394]\n"
     ]
    }
   ],
   "source": [
    "np.random.seed(42)  # Ensures the same random numbers\n",
    "print(np.random.rand(3))  \n"
   ]
  },
  {
   "cell_type": "code",
   "execution_count": 64,
   "id": "789dcc75-a143-41de-9a82-5a0b4184f4ce",
   "metadata": {},
   "outputs": [
    {
     "data": {
      "text/plain": [
       "array([[[[0., 0.],\n",
       "         [0., 0.],\n",
       "         [0., 0.]],\n",
       "\n",
       "        [[0., 0.],\n",
       "         [0., 0.],\n",
       "         [0., 0.]],\n",
       "\n",
       "        [[0., 0.],\n",
       "         [0., 0.],\n",
       "         [0., 0.]]],\n",
       "\n",
       "\n",
       "       [[[0., 0.],\n",
       "         [0., 0.],\n",
       "         [0., 0.]],\n",
       "\n",
       "        [[0., 0.],\n",
       "         [0., 0.],\n",
       "         [0., 0.]],\n",
       "\n",
       "        [[0., 0.],\n",
       "         [0., 0.],\n",
       "         [0., 0.]]]])"
      ]
     },
     "execution_count": 64,
     "metadata": {},
     "output_type": "execute_result"
    }
   ],
   "source": [
    "np.zeros((2, 3, 3, 2))"
   ]
  },
  {
   "cell_type": "code",
   "execution_count": 68,
   "id": "0fcae33b-0597-40a1-bdd9-0c6addbca5fc",
   "metadata": {},
   "outputs": [
    {
     "data": {
      "text/plain": [
       "array([[0., 0., 0.],\n",
       "       [0., 0., 0.]])"
      ]
     },
     "execution_count": 68,
     "metadata": {},
     "output_type": "execute_result"
    }
   ],
   "source": [
    "np.zeros((2, 3))"
   ]
  },
  {
   "cell_type": "code",
   "execution_count": 72,
   "id": "ab3f7bc7-b1b5-4193-9cf5-760d300a0c5a",
   "metadata": {},
   "outputs": [
    {
     "data": {
      "text/plain": [
       "array([[[1, 1],\n",
       "        [1, 1]],\n",
       "\n",
       "       [[1, 1],\n",
       "        [1, 1]],\n",
       "\n",
       "       [[1, 1],\n",
       "        [1, 1]],\n",
       "\n",
       "       [[1, 1],\n",
       "        [1, 1]]])"
      ]
     },
     "execution_count": 72,
     "metadata": {},
     "output_type": "execute_result"
    }
   ],
   "source": [
    "np.ones((4, 2, 2), dtype='int32')"
   ]
  },
  {
   "cell_type": "code",
   "execution_count": 74,
   "id": "86792e4b-6a10-4452-9123-77328cb2021c",
   "metadata": {},
   "outputs": [
    {
     "data": {
      "text/plain": [
       "array([[99, 99],\n",
       "       [99, 99]])"
      ]
     },
     "execution_count": 74,
     "metadata": {},
     "output_type": "execute_result"
    }
   ],
   "source": [
    "np.full((2, 2), 99)"
   ]
  },
  {
   "cell_type": "code",
   "execution_count": 88,
   "id": "eea851d4-4392-4cae-9199-0e4e29ea9713",
   "metadata": {},
   "outputs": [
    {
     "data": {
      "text/plain": [
       "array([[0.22756907, 0.07887271],\n",
       "       [0.07329586, 0.46574191],\n",
       "       [0.56378082, 0.30711183],\n",
       "       [0.00458031, 0.19312585]])"
      ]
     },
     "execution_count": 88,
     "metadata": {},
     "output_type": "execute_result"
    }
   ],
   "source": [
    "np.random.rand(4, 2)"
   ]
  },
  {
   "cell_type": "code",
   "execution_count": 120,
   "id": "11ec7fb4-53be-4179-aa88-9503785aed17",
   "metadata": {},
   "outputs": [
    {
     "data": {
      "text/plain": [
       "array([[9, 1, 5],\n",
       "       [7, 1, 0],\n",
       "       [6, 9, 0]])"
      ]
     },
     "execution_count": 120,
     "metadata": {},
     "output_type": "execute_result"
    }
   ],
   "source": [
    "np.random.randint(10, size=(3, 3))"
   ]
  },
  {
   "cell_type": "code",
   "execution_count": 124,
   "id": "5cd59db8-afc0-4d31-befa-f698ecc14a08",
   "metadata": {},
   "outputs": [
    {
     "name": "stdout",
     "output_type": "stream",
     "text": [
      "[[1 2 3]\n",
      " [1 2 3]\n",
      " [1 2 3]]\n"
     ]
    }
   ],
   "source": [
    "arr = np.array([[1, 2, 3]])\n",
    "r1 = np.repeat(arr, 3, axis = 0)\n",
    "print(r1)"
   ]
  },
  {
   "cell_type": "code",
   "execution_count": null,
   "id": "2c0fd717-8df2-48a7-9567-165ef095ef7f",
   "metadata": {},
   "outputs": [],
   "source": []
  },
  {
   "cell_type": "code",
   "execution_count": null,
   "id": "f9dde3c3-9619-49c6-b3c4-181798821b30",
   "metadata": {},
   "outputs": [],
   "source": []
  },
  {
   "cell_type": "code",
   "execution_count": null,
   "id": "d7bc6d4d-027c-4c5a-af7c-e5d2ccb605e5",
   "metadata": {},
   "outputs": [],
   "source": []
  },
  {
   "cell_type": "code",
   "execution_count": 153,
   "id": "927282e1-e04d-4a88-ab84-61d37c49c9e0",
   "metadata": {},
   "outputs": [
    {
     "name": "stdout",
     "output_type": "stream",
     "text": [
      "[[1 1 1 1 1]\n",
      " [1 0 0 0 1]\n",
      " [1 0 9 0 1]\n",
      " [1 0 0 0 1]\n",
      " [1 1 1 1 1]]\n"
     ]
    }
   ],
   "source": [
    "output = np.ones((5, 5), dtype = 'int32')\n",
    "# print(output)\n",
    "zero_matrix = np.zeros((3, 3), dtype = 'int32')\n",
    "zero_matrix[1, 1] = 9\n",
    "# print(zero_matrix)\n",
    "output[1:4, 1:4] = zero_matrix\n",
    "\n",
    "print(output)"
   ]
  },
  {
   "cell_type": "markdown",
   "id": "85711dd1-731a-4988-8245-9970e650cf1c",
   "metadata": {},
   "source": [
    "# Python NumPy arrays"
   ]
  },
  {
   "cell_type": "markdown",
   "id": "721f6753-1b5b-464d-b84d-82b187f2e963",
   "metadata": {},
   "source": [
    "#### 192. Extract all contiguous 4x4 blocks from a 12x12 matrix."
   ]
  },
  {
   "cell_type": "code",
   "execution_count": 177,
   "id": "f74793b6-31f3-46dd-a05f-9545ade5f73d",
   "metadata": {},
   "outputs": [
    {
     "name": "stdout",
     "output_type": "stream",
     "text": [
      "3 9 5 10 \n",
      "3 4 8 10 \n",
      "8 3 9 6 \n",
      "2 1 0 5 \n",
      "---------------\n",
      "6 10 5 8 \n",
      "4 8 0 9 \n",
      "2 6 0 2 \n",
      "0 3 10 5 \n",
      "---------------\n",
      "3 8 2 3 \n",
      "9 9 2 9 \n",
      "3 3 2 0 \n",
      "2 7 1 2 \n",
      "---------------\n",
      "6 8 10 9 \n",
      "10 9 6 4 \n",
      "5 3 1 10 \n",
      "0 2 6 6 \n",
      "---------------\n",
      "7 6 3 10 \n",
      "3 9 10 9 \n",
      "6 10 6 0 \n",
      "1 8 2 6 \n",
      "---------------\n",
      "2 10 0 7 \n",
      "1 6 10 5 \n",
      "2 0 9 7 \n",
      "2 4 6 6 \n",
      "---------------\n",
      "6 7 0 8 \n",
      "7 8 3 0 \n",
      "3 8 7 8 \n",
      "4 8 8 2 \n",
      "---------------\n",
      "3 8 10 2 \n",
      "2 4 3 5 \n",
      "1 9 9 6 \n",
      "3 4 5 5 \n",
      "---------------\n",
      "4 5 9 2 \n",
      "3 6 8 3 \n",
      "1 3 5 5 \n",
      "7 10 1 1 \n",
      "---------------\n",
      "[[ 3  9  5 10  6 10  5  8  3  8  2  3]\n",
      " [ 3  4  8 10  4  8  0  9  9  9  2  9]\n",
      " [ 8  3  9  6  2  6  0  2  3  3  2  0]\n",
      " [ 2  1  0  5  0  3 10  5  2  7  1  2]\n",
      " [ 6  8 10  9  7  6  3 10  2 10  0  7]\n",
      " [10  9  6  4  3  9 10  9  1  6 10  5]\n",
      " [ 5  3  1 10  6 10  6  0  2  0  9  7]\n",
      " [ 0  2  6  6  1  8  2  6  2  4  6  6]\n",
      " [ 6  7  0  8  3  8 10  2  4  5  9  2]\n",
      " [ 7  8  3  0  2  4  3  5  3  6  8  3]\n",
      " [ 3  8  7  8  1  9  9  6  1  3  5  5]\n",
      " [ 4  8  8  2  3  4  5  5  7 10  1  1]]\n"
     ]
    }
   ],
   "source": [
    "arr = np.random.randint(11, size = (12, 12), dtype = \"int32\")\n",
    "for i in range(0, len(arr), 4):\n",
    "    for j in range(0, len(arr[i]), 4):\n",
    "        t = arr[i: i + 4, j: j + 4]\n",
    "        for a in t:\n",
    "            for b in a:\n",
    "                print(b, end = \" \")\n",
    "            print()\n",
    "        print('-'*15)\n",
    "print(arr)"
   ]
  },
  {
   "cell_type": "markdown",
   "id": "eb820d61-2603-40cb-a69f-2d46a34e9f1f",
   "metadata": {},
   "source": [
    "#### 205. Compute weight sum of rows where names match a condition"
   ]
  },
  {
   "cell_type": "code",
   "execution_count": 228,
   "id": "bdd3fe68-c069-473e-a554-4aba277c5e0a",
   "metadata": {},
   "outputs": [
    {
     "name": "stdin",
     "output_type": "stream",
     "text": [
      "Enter a character:  x\n"
     ]
    },
    {
     "name": "stdout",
     "output_type": "stream",
     "text": [
      "[]\n",
      "0.0\n"
     ]
    }
   ],
   "source": [
    "import numpy as np\n",
    "\n",
    "def fun(arr, char):\n",
    "    # condition = np.char.find(arr[:, 2][0], char) >= 0\n",
    "    # condition = np.char.find(arr[:, 2], char) >= 0  # Checks all names, this is giving right o/p as the names are in camel cases, and character being passed in capital\n",
    "\n",
    "\n",
    "    # condition = np.char.startswith(arr[:, 2][0], char) # this checks only for the first elelment of the string\n",
    "    condition = np.char.startswith(arr[:, 2], char) # this checks for the every element inside of the lists\n",
    "    weights = arr[condition, 3].astype(float)\n",
    "    print(weights)\n",
    "    ans = np.sum(weights)\n",
    "    return ans\n",
    "arr = np.array([\n",
    "    ['01', 'V', 'Debby Pramod', 30.21],\n",
    "    ['02', 'V', 'Artemiy Ellie', 29.32],\n",
    "    ['03', 'V', 'Baptist Kamal', 31.00],\n",
    "    ['04', 'V', 'Lavanya Davide', 30.22],\n",
    "    ['05', 'V', 'Fulton Antwan', 30.21],\n",
    "    ['06', 'V', 'Euanthe Sandeep', 31.00],\n",
    "    ['07', 'V', 'Endzela BSanda', 32.00],\n",
    "    ['08', 'V', 'Victoire Waman', 29.21],\n",
    "    ['09', 'V', 'Briar Nur', 30.00],\n",
    "    ['10', 'V', 'Rose Lykos', 32.00]\n",
    "])\n",
    "\n",
    "ch = input(\"Enter a character: \")\n",
    "ch = ch.upper()\n",
    "print(fun(arr, ch))"
   ]
  },
  {
   "cell_type": "code",
   "execution_count": null,
   "id": "6f52b0e3-cbfa-4865-806b-4d7e8151173e",
   "metadata": {},
   "outputs": [],
   "source": []
  }
 ],
 "metadata": {
  "kernelspec": {
   "display_name": "Python [conda env:base] *",
   "language": "python",
   "name": "conda-base-py"
  },
  "language_info": {
   "codemirror_mode": {
    "name": "ipython",
    "version": 3
   },
   "file_extension": ".py",
   "mimetype": "text/x-python",
   "name": "python",
   "nbconvert_exporter": "python",
   "pygments_lexer": "ipython3",
   "version": "3.12.7"
  }
 },
 "nbformat": 4,
 "nbformat_minor": 5
}
