{
 "cells": [
  {
   "cell_type": "markdown",
   "id": "a29f07fe-289a-4233-a69b-da43e336db8d",
   "metadata": {},
   "source": [
    "# Python File Handling Exercises"
   ]
  },
  {
   "cell_type": "markdown",
   "id": "6a21ea30-e98a-43d7-88cb-0dee2ed5ffb7",
   "metadata": {},
   "source": [
    "#### 1. Read content from one file and write it into another file"
   ]
  },
  {
   "cell_type": "code",
   "execution_count": 6,
   "id": "fd26b8d4-024b-4c01-a968-fdfd08c03c15",
   "metadata": {},
   "outputs": [],
   "source": [
    "output_file = open(\"b.txt\", 'w')\n",
    "with open(\"a.txt\", 'r') as scan:\n",
    "    output_file.write(scan.read())\n",
    "output_file.close()"
   ]
  },
  {
   "cell_type": "markdown",
   "id": "8138efcb-2ba2-4f11-9999-6c53e933ffcf",
   "metadata": {},
   "source": [
    "#### 2. Write a dictionary to a file in Python"
   ]
  },
  {
   "cell_type": "code",
   "execution_count": 17,
   "id": "fd069ae0-32c7-4df3-98a2-7bd0ea8dcec9",
   "metadata": {},
   "outputs": [],
   "source": [
    "import json\n",
    "details = {\n",
    "    'a': [1, 2],\n",
    "    'b': [3, 4]\n",
    "}\n",
    "with open(\"content.txt\", 'w') as cnt:\n",
    "    cnt.write(json.dumps(details))\n",
    "    \n",
    "\n",
    "\n",
    "\n",
    "details = {'Name': \"Bob\", 'Age' :28}  \n",
    "  \n",
    "with open('file.txt','w') as data:  \n",
    "      data.write(str(details))"
   ]
  },
  {
   "cell_type": "markdown",
   "id": "b48cd063-e80b-4271-a21d-9977ea66dbf9",
   "metadata": {},
   "source": [
    "#### 3. How to check file size in Python?"
   ]
  },
  {
   "cell_type": "code",
   "execution_count": 30,
   "id": "f614b5c3-2ca9-48bf-8436-765f9d103ac9",
   "metadata": {},
   "outputs": [
    {
     "name": "stdout",
     "output_type": "stream",
     "text": [
      "9\n",
      "9\n"
     ]
    }
   ],
   "source": [
    "from pathlib import Path \n",
    "  \n",
    "sz = Path('a.txt').stat().st_size\n",
    "  \n",
    "print(sz) \n",
    "\n",
    "import os \n",
    "\n",
    "sz = os.path.getsize(\"a.txt\") \n",
    "\n",
    "print(sz) \n",
    "# thing to take into consideration is that, the size given here is in the bytes"
   ]
  },
  {
   "cell_type": "markdown",
   "id": "ce97cc24-77f1-4367-a7a6-0acd185bbfd3",
   "metadata": {},
   "source": [
    "#### 4. Find the most repeated word in a text file"
   ]
  },
  {
   "cell_type": "code",
   "execution_count": 35,
   "id": "1047e312-ae97-442c-bd06-7f617b5d10d6",
   "metadata": {},
   "outputs": [],
   "source": [
    "\"\"\"\n",
    "python provide functionality to interact with two types of files, (1) text files and (2) binary files\n",
    "(1) Text Files: in text files, each lines are terminated with the special character called End Of Line(EOL),\n",
    "    by default EOL in text files is '\\n'\n",
    "(2) Binary files: in this type of files, there is no EOL, data is converted to the machine understandable binary language,\n",
    "    and then stored\n",
    "\"\"\"\n",
    "with open(\"lorem.txt\", \"w\") as content:\n",
    "    content.write(\"\"\"Lorem ipsum dolor sit amet, consectetur adipiscing elit. Sed do eiusmod tempor incididunt ut labore et dolore magna aliqua. \n",
    "Ut enim ad minim veniam, quis nostrud exercitation ullamco laboris nisi ut aliquip ex ea commodo consequat. \n",
    "Duis aute irure dolor in reprehenderit in voluptate velit esse cillum dolore eu fugiat nulla pariatur. \n",
    "Excepteur sint occaecat cupidatat non proident, sunt in culpa qui officia deserunt mollit anim id est laborum.\n",
    "\n",
    "Curabitur pretium tincidunt lacus. Nulla gravida orci a odio. Nullam varius, turpis et commodo pharetra, est eros bibendum elit, \n",
    "nec luctus magna felis sollicitudin mauris. Integer in mauris eu nibh euismod gravida. Duis ac tellus et risus vulputate vehicula. \n",
    "Donec lobortis risus a elit. Etiam tempor. Ut ullamcorper, ligula eu tempor congue, eros est euismod turpis, id tincidunt sapien risus a quam. \n",
    "Maecenas fermentum consequat mi. Donec fermentum. Pellentesque malesuada nulla a mi. Duis sapien sem, aliquet nec, commodo eget, consequat quis, neque.\n",
    "\n",
    "Aliquam faucibus, elit ut dictum aliquet, felis nisl adipiscing sapien, sed malesuada diam lacus eget erat. \n",
    "Cras mollis scelerisque nunc. Nullam arcu. Aliquam consequat. Curabitur augue lorem, dapibus quis, laoreet et, pretium ac, nisi. \n",
    "Aenean magna nisl, mollis quis, molestie eu, feugiat in, orci. In hac habitasse platea dictumst. \n",
    "\n",
    "Fusce convallis, mauris imperdiet gravida bibendum, nisl turpis suscipit mauris, sed placerat ipsum urna sed risus. \n",
    "Class aptent taciti sociosqu ad litora torquent per conubia nostra, per inceptos hymenaeos. Ut pretium hendrerit libero. \n",
    "Proin nec arcu non lorem vulputate rutrum. Fusce in elit sit amet felis mollis commodo. Etiam lacus magna, mollis ut, aliquam vitae, tempus eget, ligula.\n",
    "\n",
    "Nunc nec velit non ligula sagittis blandit. Aliquam erat volutpat. Nam a urna. Ut interdum vestibulum libero. \n",
    "Curabitur interdum, felis quis suscipit consequat, purus orci consectetur massa, sit amet lobortis elit erat eu sapien. \n",
    "Aenean id libero. Integer varius quam at magna. Maecenas porttitor congue massa. Fusce posuere, magna sed pulvinar ultricies, purus lectus malesuada libero, \n",
    "sit amet commodo magna eros quis urna. Nunc viverra imperdiet enim. Fusce est. Vivamus a tellus. \n",
    "\n",
    "Pellentesque habitant morbi tristique senectus et netus et malesuada fames ac turpis egestas. Proin pharetra nonummy pede. \n",
    "Mauris et orci. Aenean nec lorem. In porttitor. Donec laoreet nonummy augue. Suspendisse dui purus, scelerisque at, vulputate vitae, pretium mattis, nunc. \n",
    "Mauris eget neque at sem venenatis eleifend. Ut nonummy. Fusce aliquet pede non pede. Suspendisse dapibus lorem pellentesque magna. Integer nulla.\n",
    "\"\"\")"
   ]
  },
  {
   "cell_type": "code",
   "execution_count": 57,
   "id": "8ec1b8c2-bfbc-4f74-bc62-27b8a5b7ddd7",
   "metadata": {},
   "outputs": [
    {
     "name": "stdout",
     "output_type": "stream",
     "text": [
      "Most repeated word: ut\n",
      "Frequency: 9\n"
     ]
    }
   ],
   "source": [
    "ls = []\n",
    "frequency = 0\n",
    "with open(\"lorem.txt\", \"r\") as text:\n",
    "    for line in text:\n",
    "        line_word = line.strip().lower().replace(',','').replace('.','').split(\" \")\n",
    "        for w in line_word:\n",
    "            ls.append(w)\n",
    "    # print(ls)\n",
    "for i in range(0, len(ls)):  \n",
    "    count = 1; \n",
    "    for j in range(i+1, len(ls)):  \n",
    "        if(ls[i] == ls[j]):  \n",
    "            count = count + 1;  \n",
    "    if(count > frequency):  \n",
    "        frequency = count;  \n",
    "        frequent_word = ls[i];\n",
    "print(\"Most repeated word: \" + frequent_word)\n",
    "print(\"Frequency: \" + str(frequency))\n"
   ]
  },
  {
   "cell_type": "markdown",
   "id": "dc94e82e-abe6-4823-8bae-7f8b30e53708",
   "metadata": {},
   "source": [
    "#### 5. How to read specific lines from a File in Python?"
   ]
  },
  {
   "cell_type": "code",
   "execution_count": 80,
   "id": "3c4e5d32-db53-4e5a-987c-215d76d02f4c",
   "metadata": {},
   "outputs": [
    {
     "name": "stdout",
     "output_type": "stream",
     "text": [
      "tenth line\n",
      "\n",
      "first three lines\n",
      "['Lorem ipsum dolor sit amet, consectetur adipiscing elit. Sed do eiusmod tempor incididunt ut labore et dolore magna aliqua.', 'Ut enim ad minim veniam, quis nostrud exercitation ullamco laboris nisi ut aliquip ex ea commodo consequat.', 'Duis aute irure dolor in reprehenderit in voluptate velit esse cillum dolore eu fugiat nulla pariatur.']\n",
      "Excepteur sint occaecat cupidatat non proident, sunt in culpa qui officia deserunt mollit anim id est laborum.\n",
      "\n",
      "Lorem ipsum dolor sit amet, consectetur adipiscing elit. Sed do eiusmod tempor incididunt ut labore et dolore magna aliqua. \n",
      "\n",
      "Donec lobortis risus a elit. Etiam tempor. Ut ullamcorper, ligula eu tempor congue, eros est euismod turpis, id tincidunt sapien risus a quam. \n",
      "\n",
      "Cras mollis scelerisque nunc. Nullam arcu. Aliquam consequat. Curabitur augue lorem, dapibus quis, laoreet et, pretium ac, nisi. \n",
      "\n"
     ]
    }
   ],
   "source": [
    "# Text files are composed of plain text document\n",
    "# text files are also known as flat diles or plain files\n",
    "# python provide easy support to read and access the content within the file.\n",
    "# text files are first opened and then the content is accessed from it in the order og lines\n",
    "# by default, the line numbers begin with the 0th indec.\n",
    "# there are various way to read specific lines from a text file in python, this article is aimed at discussing them\n",
    "\n",
    "# Method 1: using fileobject.readlines()\n",
    "# this method reads lines into the stream.\n",
    "# this method is used when a single line or range of lines are to be accessed simultaneously\n",
    "# it can be used to print lines from ant random starting index to some ending index\n",
    "# it initially reads the entire content of the file and keep a copy of it in memory\n",
    "# the lines at the specifies indices are the accessed\n",
    "\n",
    "with open(\"lorem.txt\") as text:\n",
    "    # this is wrong as, strip method cant be called on the file object\n",
    "    # strip methods can only be called on the strings\n",
    "    # so striping can be handled separately\n",
    "    # content = text.strip().readlines()\n",
    "    content = text.readlines()\n",
    "    \n",
    "    content = [line.strip().replace(\"'\", \"\").replace(\"‘\", \"\").replace(\"’\", \"\") for line in content]\n",
    "     \n",
    "    print(\"tenth line\")\n",
    "    print(content[9])\n",
    "\n",
    "    # printing first 3 lines using the slicing\n",
    "    print(\"first three lines\")\n",
    "    print(content[0:3])\n",
    "\n",
    "\n",
    "# Method 2: linecache package \n",
    "import linecache \n",
    "\n",
    "particular_line = linecache.getline('lorem.txt', 4) \n",
    "\n",
    "print(particular_line) \n",
    "\n",
    "# difference between method 1 and 2 is that the second one is not giving ''\n",
    "\n",
    "# Method 3: enumerate()\n",
    "# the enumerate() method is used to convert a strnig or a list object to a sequence of data indexed bu numbers.\n",
    "# it is then used in the listing of data in combination with for loop\n",
    "# lines at particular indexes can be accessed by specifying the index numbers required in an array\n",
    "\n",
    "specified_lines = [0, 7, 11] \n",
    "with open(\"lorem.txt\") as file:\n",
    "    for pos, l_num in enumerate(file): \n",
    "        if pos in specified_lines: \n",
    "            print(l_num) "
   ]
  },
  {
   "cell_type": "code",
   "execution_count": null,
   "id": "d59f6bd4-526d-435d-b76d-8f46bdad09e3",
   "metadata": {},
   "outputs": [],
   "source": []
  }
 ],
 "metadata": {
  "kernelspec": {
   "display_name": "Python [conda env:base] *",
   "language": "python",
   "name": "conda-base-py"
  },
  "language_info": {
   "codemirror_mode": {
    "name": "ipython",
    "version": 3
   },
   "file_extension": ".py",
   "mimetype": "text/x-python",
   "name": "python",
   "nbconvert_exporter": "python",
   "pygments_lexer": "ipython3",
   "version": "3.12.7"
  }
 },
 "nbformat": 4,
 "nbformat_minor": 5
}
