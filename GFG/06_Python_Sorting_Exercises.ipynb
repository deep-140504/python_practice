{
 "cells": [
  {
   "cell_type": "markdown",
   "id": "76fc5cc8-dd23-4388-8d3b-7abc422af6bc",
   "metadata": {},
   "source": [
    "# Python Sorting Exercises"
   ]
  },
  {
   "cell_type": "raw",
   "id": "dcb757ae-82a9-4e59-9b03-e0ce50cbdc80",
   "metadata": {},
   "source": [
    "Notes:\n",
    "[1] Bubble Sort:-\n",
    "Time Complexity: O(n^2)\n",
    "Spcae Complexity: O(1)\n",
    "1. Start with the entire array and compare adjacent elements.\n",
    "2. For each pair of adjacent elements:\n",
    "    If the left element is greater than the right element, swap them.\n",
    "3. Repeat this process for the entire array, reducing the unsorted portion by one element each time (the largest element \"bubbles up\" to its correct position at the end).\n",
    "4. Stop when no swaps are needed, indicating the array is fully sorted.\n",
    "\n",
    "[2] Selection Sort:-\n",
    "Time Complexity: O(n^2)\n",
    "Spcae Complexity: O(1)\n",
    "1. Divide the array into two parts: sorted and unsorted.\n",
    "2. Find the smallest element in the unsorted portion.\n",
    "3. Swap the smallest element with the first element of the unsorted portion, expanding the sorted portion by one element.\n",
    "4. Repeat until the entire array is sorted.\n",
    "\n",
    "[3] Insertion Sort:-\n",
    "Time Complexity: O(n^2)\n",
    "Spcae Complexity: O(1)\n",
    "1. Start with the second element of the array (index 1) because the first element is already considered sorted.\n",
    "2. For each element in the array (from left to right):\n",
    "    Compare the current element with elements in the sorted portion of the array (elements to its left).\n",
    "    Shift all elements in the sorted portion that are larger than the current element one position to the right.\n",
    "    Insert the current element into its correct position within the sorted portion.\n",
    "3. Repeat the process until all elements are sorted."
   ]
  },
  {
   "cell_type": "markdown",
   "id": "4a32c82a-2138-4654-94ff-5c6683d996a4",
   "metadata": {},
   "source": [
    "#### 1. Sort a String"
   ]
  },
  {
   "cell_type": "code",
   "execution_count": 10,
   "id": "e89d126f-1d92-4faf-8f7c-d865db099e06",
   "metadata": {},
   "outputs": [
    {
     "name": "stdout",
     "output_type": "stream",
     "text": [
      "abc\n",
      "abc\n"
     ]
    }
   ],
   "source": [
    "def solution1(s):\n",
    "    st = \"\"\n",
    "    t = sorted(s)\n",
    "    for i in t:\n",
    "        st = st + i\n",
    "    return st\n",
    "def solution2(s):\n",
    "    return \"\".join(sorted(s))\n",
    "s = \"cba\"\n",
    "print(solution1(s))\n",
    "print(solution2(s))"
   ]
  },
  {
   "cell_type": "markdown",
   "id": "a7c6e1be-b0f2-4e61-8e94-70fcbcb54c0a",
   "metadata": {},
   "source": [
    "#### 2. Counting Sort"
   ]
  },
  {
   "cell_type": "code",
   "execution_count": 15,
   "id": "d1b2dbba-1dd1-49ee-abcd-98e5693af928",
   "metadata": {},
   "outputs": [
    {
     "name": "stdout",
     "output_type": "stream",
     "text": [
      "abbccc\n",
      "abbccc\n",
      "abbccc\n"
     ]
    }
   ],
   "source": [
    "from collections import defaultdict\n",
    "from collections import Counter\n",
    "def solution1(s):\n",
    "    cnt = defaultdict(int)\n",
    "    ans = \"\"\n",
    "    for i in s:\n",
    "        cnt[i] = cnt[i] + 1\n",
    "    key = sorted(cnt.keys())\n",
    "    for k in key:\n",
    "        v = cnt[k]\n",
    "        while(v):\n",
    "            ans = ans + k\n",
    "            v = v - 1\n",
    "    return ans\n",
    "def solution2(s):\n",
    "    ans = \"\"\n",
    "    cnt = [0] * 26\n",
    "    for i in s:\n",
    "        cnt[ord(i) - ord('a')] += 1\n",
    "    i = 0\n",
    "    for freq in cnt:\n",
    "        ans = ans + freq * chr(i + ord('a'))\n",
    "        i = i + 1\n",
    "    return ans\n",
    "def solution3(s):\n",
    "    temp_dict = Counter(s)\n",
    "    # temp_dict = sorted(temp_dict.items()) so this returns list of tuples, it is necessary to convert the tuples into the dictionary\n",
    "    temp_dict = dict(sorted(temp_dict.items()))\n",
    "\n",
    "    temp_s = [key * value for key, value in temp_dict.items()]\n",
    "    s = \"\".join(temp_s)\n",
    "    return s\n",
    "s = \"cccbba\"\n",
    "print(solution1(s))\n",
    "print(solution2(s))\n",
    "print(solution3(s))"
   ]
  },
  {
   "cell_type": "markdown",
   "id": "d1f001dd-ad59-4981-8446-ee16a2e73a2c",
   "metadata": {},
   "source": [
    "#### 3. Topological sort"
   ]
  },
  {
   "cell_type": "code",
   "execution_count": 31,
   "id": "53b135e7-fe41-40ae-b72f-19e0433993af",
   "metadata": {},
   "outputs": [],
   "source": [
    "class Solution:\n",
    "    def topologicalSort(self, adj):\n",
    "        v = len(adj)\n",
    "        \n",
    "        def dfs(node):\n",
    "            visit[node] = True\n",
    "            for nei in adj[node]:\n",
    "                if not visit[nei]:\n",
    "                    dfs(nei)\n",
    "            stack.append(node)\n",
    "        \n",
    "        visit = [False] * v\n",
    "        stack = []\n",
    "        \n",
    "        for i in range(v):\n",
    "            if not visit[i]:\n",
    "                dfs(i)\n",
    "        \n",
    "        return stack[::-1]"
   ]
  },
  {
   "cell_type": "markdown",
   "id": "b49ddad9-20bd-48a0-b94f-31ffaeaac494",
   "metadata": {},
   "source": [
    "#### 4. Bubble Sort"
   ]
  },
  {
   "cell_type": "code",
   "execution_count": 34,
   "id": "caef0ac7-d345-45d0-b3cc-cbd6639ea6c8",
   "metadata": {},
   "outputs": [
    {
     "name": "stdout",
     "output_type": "stream",
     "text": [
      "[1, 2, 3, 4, 5]\n"
     ]
    }
   ],
   "source": [
    "def bubble_sort(arr):\n",
    "    for i in range(len(arr)):\n",
    "\n",
    "        for j in range(i + 1, len(arr)):\n",
    "            if(arr[i] > arr[j]):\n",
    "                arr[i], arr[j] = arr[j], arr[i]\n",
    "arr = [5, 4, 3, 2, 1]\n",
    "bubble_sort(arr)\n",
    "print(arr)"
   ]
  },
  {
   "cell_type": "markdown",
   "id": "14730bd1-38ba-4dda-90e1-3fd7d875bbd0",
   "metadata": {},
   "source": [
    "#### 5. Selection Sort"
   ]
  },
  {
   "cell_type": "code",
   "execution_count": 37,
   "id": "16e20d36-efb9-4903-a398-04bfa1033ada",
   "metadata": {},
   "outputs": [
    {
     "name": "stdout",
     "output_type": "stream",
     "text": [
      "[1, 2, 3, 4, 5]\n"
     ]
    }
   ],
   "source": [
    "def selection_sort(arr):\n",
    "    for i in range(len(arr)):\n",
    "        min_index = i\n",
    "        k = i\n",
    "        for j in range(i + 1, len(arr)):\n",
    "            if(arr[j] < arr[k]):\n",
    "                k = j\n",
    "        arr[min_index], arr[k] = arr[k], arr[min_index]\n",
    "arr = [5, 4, 3, 2, 1]\n",
    "selection_sort(arr)\n",
    "print(arr)"
   ]
  },
  {
   "cell_type": "markdown",
   "id": "f12fe2fc-0d3b-48f7-acae-45d159f2d08d",
   "metadata": {},
   "source": [
    "#### 6. Insertion Sort"
   ]
  },
  {
   "cell_type": "code",
   "execution_count": 48,
   "id": "cf19c466-cc7e-4658-8125-6c9c66a1fe47",
   "metadata": {},
   "outputs": [
    {
     "name": "stdout",
     "output_type": "stream",
     "text": [
      "[1, 2, 3, 4, 5]\n"
     ]
    }
   ],
   "source": [
    "def insertion_sort(list1):   \n",
    "    for i in range(1, len(list1)):  \n",
    "        a = list1[i]  \n",
    "        j = i - 1\n",
    "        while j >= 0 and a < list1[j]:  \n",
    "            list1[j + 1] = list1[j]  \n",
    "            j -= 1\n",
    "            list1[j + 1] = a\n",
    "    return list1  \n",
    "arr = [5, 4, 3, 2, 1]\n",
    "insertion_sort(arr)\n",
    "print(arr)"
   ]
  },
  {
   "cell_type": "markdown",
   "id": "f578ae8c-ffc0-4f58-98bb-95206934bb82",
   "metadata": {},
   "source": [
    "#### 7. Quick Sort"
   ]
  },
  {
   "cell_type": "code",
   "execution_count": 51,
   "id": "9602e6d5-bdbe-490e-9380-4da6b999bc38",
   "metadata": {},
   "outputs": [
    {
     "name": "stdout",
     "output_type": "stream",
     "text": [
      "Unsorted Array\n",
      "[1, 7, 4, 1, 10, 9, -2]\n",
      "Sorted Array in Ascending Order:\n",
      "[-2, 1, 1, 4, 7, 9, 10]\n"
     ]
    }
   ],
   "source": [
    "def partition(array, low, high):\n",
    "    pivot = array[high]\n",
    "    i = low - 1\n",
    "\n",
    "    for j in range(low, high):\n",
    "        if array[j] <= pivot:\n",
    "            i = i + 1\n",
    "            (array[i], array[j]) = (array[j], array[i])\n",
    "\n",
    "    (array[i + 1], array[high]) = (array[high], array[i + 1])\n",
    "    return i + 1\n",
    "\n",
    "def quickSort(array, low, high):\n",
    "    if low < high:\n",
    "        pi = partition(array, low, high)\n",
    "        quickSort(array, low, pi - 1)\n",
    "        quickSort(array, pi + 1, high)\n",
    "\n",
    "data = [1, 7, 4, 1, 10, 9, -2]\n",
    "print(\"Unsorted Array\")\n",
    "print(data)\n",
    "\n",
    "size = len(data)\n",
    "quickSort(data, 0, size - 1)\n",
    "\n",
    "print('Sorted Array in Ascending Order:')\n",
    "print(data)\n"
   ]
  },
  {
   "cell_type": "markdown",
   "id": "7b362a87-24cb-499b-8700-0a3e97ce97c1",
   "metadata": {},
   "source": [
    "#### 8. Merge Sort"
   ]
  },
  {
   "cell_type": "code",
   "execution_count": 56,
   "id": "94a3a602-c403-4ea3-a5a0-077d5abbc864",
   "metadata": {},
   "outputs": [
    {
     "name": "stdout",
     "output_type": "stream",
     "text": [
      "Sorted array is\n",
      "[5, 6, 7, 11, 12, 13]\n"
     ]
    }
   ],
   "source": [
    "def heapify(arr, n, i):\n",
    "    largest = i\n",
    "    l = 2 * i + 1\n",
    "    r = 2 * i + 2\n",
    "\n",
    "    if l < n and arr[i] < arr[l]:\n",
    "        largest = l\n",
    "\n",
    "    if r < n and arr[largest] < arr[r]:\n",
    "        largest = r\n",
    "\n",
    "    if largest != i:\n",
    "        (arr[i], arr[largest]) = (arr[largest], arr[i])\n",
    "        heapify(arr, n, largest)\n",
    "\n",
    "def heapSort(arr):\n",
    "    n = len(arr)\n",
    "\n",
    "    for i in range(n // 2, -1, -1):\n",
    "        heapify(arr, n, i)\n",
    "\n",
    "    for i in range(n - 1, 0, -1):\n",
    "        (arr[i], arr[0]) = (arr[0], arr[i])\n",
    "        heapify(arr, i, 0)\n",
    "\n",
    "arr = [12, 11, 13, 5, 6, 7]\n",
    "heapSort(arr)\n",
    "n = len(arr)\n",
    "print('Sorted array is')\n",
    "print(arr)\n"
   ]
  },
  {
   "cell_type": "code",
   "execution_count": null,
   "id": "2d9cac60-b1b7-4609-899f-2d8162782053",
   "metadata": {},
   "outputs": [],
   "source": []
  }
 ],
 "metadata": {
  "kernelspec": {
   "display_name": "Python [conda env:base] *",
   "language": "python",
   "name": "conda-base-py"
  },
  "language_info": {
   "codemirror_mode": {
    "name": "ipython",
    "version": 3
   },
   "file_extension": ".py",
   "mimetype": "text/x-python",
   "name": "python",
   "nbconvert_exporter": "python",
   "pygments_lexer": "ipython3",
   "version": "3.12.7"
  }
 },
 "nbformat": 4,
 "nbformat_minor": 5
}
