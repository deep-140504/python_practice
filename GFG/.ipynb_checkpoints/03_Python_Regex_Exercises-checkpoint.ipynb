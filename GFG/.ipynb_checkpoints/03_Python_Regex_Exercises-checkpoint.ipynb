{
 "cells": [
  {
   "cell_type": "markdown",
   "id": "ee04128c-737f-4b68-810f-0efcd3a7a8b1",
   "metadata": {},
   "source": [
    "#### 1. Regex - Python"
   ]
  },
  {
   "cell_type": "code",
   "execution_count": 11,
   "id": "a2c9ec42-2f35-4270-acf4-1d0e94c25dab",
   "metadata": {},
   "outputs": [
    {
     "name": "stdout",
     "output_type": "stream",
     "text": [
      "123 34234 34 5 "
     ]
    }
   ],
   "source": [
    "import re\n",
    "def numberMatcher(str):\n",
    "    pat=r\"\\d+\"\n",
    "    match=re.findall(pat,str) ##find all finds all the matched texts and returns a list\n",
    "    if(match): \n",
    "        for i in match:\n",
    "            print(i, end=\" \")\n",
    "    else:\n",
    "        print(-1,end=\"\")\n",
    "str = \"asdasd123asmdasdk34234kfdsd34sdfk5\"\n",
    "numberMatcher(str)"
   ]
  },
  {
   "cell_type": "markdown",
   "id": "0b2adc94-cf7f-42d2-8cd4-e61078a576e9",
   "metadata": {},
   "source": [
    "#### 2. Regular Expressions 2 - Python"
   ]
  },
  {
   "cell_type": "code",
   "execution_count": 29,
   "id": "365a7dc4-2334-426d-838d-6cf91ad5dfc3",
   "metadata": {},
   "outputs": [
    {
     "name": "stdout",
     "output_type": "stream",
     "text": [
      "True\n"
     ]
    }
   ],
   "source": [
    "def validate(str):\n",
    "    pat = r\"^[a-z]+\\W+\\d+$\" # there should not be any spaces, in the pattern if not required, as it will give error otherwise\n",
    "    match = re.search(pat, str)\n",
    "    if(match):\n",
    "        return True\n",
    "    else:\n",
    "        return False\n",
    "str = \"asdsab@!@234\"\n",
    "print(validate(str))"
   ]
  },
  {
   "cell_type": "markdown",
   "id": "673d3925-8300-4ff9-8a1c-f8b9766a2255",
   "metadata": {},
   "source": [
    "#### 3. Python program to find the type of IP Address using Regex"
   ]
  },
  {
   "cell_type": "code",
   "execution_count": 35,
   "id": "aa9fedc2-5e13-463f-8ee0-2c4c4d77145f",
   "metadata": {},
   "outputs": [
    {
     "name": "stdout",
     "output_type": "stream",
     "text": [
      "Neither\n",
      "IPv6\n",
      "Neither\n"
     ]
    }
   ],
   "source": [
    "import re\n",
    "\n",
    "# Use raw strings to avoid invalid escape sequence warnings\n",
    "ipv4 = r'''^(25[0-5]|2[0-4][0-9]|[0-1]?[0-9][0-9]?)\\.( \n",
    "\t\t\t25[0-5]|2[0-4][0-9]|[0-1]?[0-9][0-9]?)\\.( \n",
    "\t\t\t25[0-5]|2[0-4][0-9]|[0-1]?[0-9][0-9]?)\\.( \n",
    "\t\t\t25[0-5]|2[0-4][0-9]|[0-1]?[0-9][0-9]?)$'''\n",
    "\n",
    "ipv6 = r'''(([0-9a-fA-F]{1,4}:){7,7}[0-9a-fA-F]{1,4}|\n",
    "\t\t([0-9a-fA-F]{1,4}:){1,7}:|([0-9a-fA-F]{1,4}:)\n",
    "\t\t{1,6}:[0-9a-fA-F]{1,4}|([0-9a-fA-F]{1,4}:){1\n",
    "\t\t,5}(:[0-9a-fA-F]{1,4}){1,2}|([0-9a-fA-F]{1,4}\n",
    "\t\t:){1,4}(:[0-9a-fA-F]{1,4}){1,3}|([0-9a-fA-F]{\n",
    "\t\t1,4}:){1,3}(:[0-9a-fA-F]{1,4}){1,4}|([0-9a-fA\n",
    "\t\t-F]{1,4}:){1,2}(:[0-9a-fA-F]{1,4}){1,5}|[0-9a\n",
    "\t\t-fA-F]{1,4}:((:[0-9a-fA-F]{1,4}){1,6})|:((:[0\n",
    "\t\t-9a-fA-F]{1,4}){1,7}|:)|fe80:(:[0-9a-fA-F]{0,\n",
    "\t\t4}){0,4}%[0-9a-zA-Z]{1,}|::(ffff(:0{1,4}){0,1}\n",
    "\t\t:){0,1}((25[0-5]|(2[0-4]|1{0,1}[0-9]){0,1}[0-9\n",
    "\t\t])\\.){3,3}(25[0-5]|(2[0-4]|1{0,1}[0-9]){0,1}[0\n",
    "\t\t-9])|([0-9a-fA-F]{1,4}:){1,4}:((25[0-5]|(2[0-4]\n",
    "\t\t|1{0,1}[0-9]){0,1}[0-9])\\.){3,3}(25[0-5]|(2[0-4]\n",
    "\t\t|1{0,1}[0-9]){0,1}[0-9]))''' \n",
    "\n",
    "def find(Ip): \n",
    "\tif re.search(ipv4, Ip):\n",
    "\t\tprint(\"IPv4\")\n",
    "\telif re.search(ipv6, Ip):\n",
    "\t\tprint(\"IPv6\")\n",
    "\telse:\n",
    "\t\tprint(\"Neither\")\n",
    "\n",
    "if __name__ == '__main__': \n",
    "\tIp = \"256.0.2.126\"\n",
    "\tfind(Ip) \n",
    "\tIp = \"3001:0da8:75a3:0000:0000:8a2e:0370:7334\"\n",
    "\tfind(Ip) \n",
    "\tIp = \"36.12.08.20.52\"\n",
    "\tfind(Ip)\n"
   ]
  },
  {
   "cell_type": "markdown",
   "id": "31569154-9158-4f97-878b-607af9d17af7",
   "metadata": {},
   "source": [
    "#### 4. Python program to find Indices of Overlapping Substrings"
   ]
  },
  {
   "cell_type": "code",
   "execution_count": 33,
   "id": "7401815d-b000-428a-b216-7f5ea02b7767",
   "metadata": {},
   "outputs": [
    {
     "name": "stdout",
     "output_type": "stream",
     "text": [
      "[3, 15]\n"
     ]
    }
   ],
   "source": [
    "import re\n",
    "def fun(p, s):\n",
    "    a = [i.start() for i in re.finditer(p, s)]\n",
    "    return a\n",
    "s = 'barfoobarfoobarfoobarfoobarfoo'\n",
    "p = 'foobarfoo'\n",
    "print(fun(p, s))"
   ]
  },
  {
   "cell_type": "markdown",
   "id": "f8f511ec-21c2-4cda-99c5-997515601448",
   "metadata": {},
   "source": [
    "#### 5. Python program to extract Strings between HTML Tags"
   ]
  },
  {
   "cell_type": "code",
   "execution_count": 2,
   "id": "0209b397-120d-4eb4-ba5c-5dd3ab1f2720",
   "metadata": {},
   "outputs": [
    {
     "name": "stdout",
     "output_type": "stream",
     "text": [
      "The original string is : <b>Gfg</b> is <b>Best</b>. I love <b>Reading CS</b> from it.\n",
      "The Strings extracted : ['Gfg', 'Best', 'Reading CS']\n"
     ]
    }
   ],
   "source": [
    "import re\n",
    "\n",
    "test_str = '<b>Gfg</b> is <b>Best</b>. I love <b>Reading CS</b> from it.'\n",
    "\n",
    "print(\"The original string is : \" + str(test_str))\n",
    "\n",
    "tag = \"b\"\n",
    "\n",
    "reg_str = \"<\" + tag + \">(.*?)</\" + tag + \">\"\n",
    "res = re.findall(reg_str, test_str)\n",
    "\n",
    "print(\"The Strings extracted : \" + str(res))\n"
   ]
  },
  {
   "cell_type": "markdown",
   "id": "d3acede3-171e-4daa-aa2b-9926015d9ba5",
   "metadata": {},
   "source": [
    "#### 6. Python – Check if String Contain Only Defined Characters using Regex"
   ]
  },
  {
   "cell_type": "code",
   "execution_count": 41,
   "id": "0a4bb146-8fef-4db8-aadb-528a0478e03f",
   "metadata": {},
   "outputs": [
    {
     "name": "stdout",
     "output_type": "stream",
     "text": [
      "Valid String\n",
      "Invalid String\n"
     ]
    }
   ],
   "source": [
    "import re\n",
    "def check(str, pattern):\n",
    "\tif re.search(pattern, str):\n",
    "\t\tprint(\"Valid String\")\n",
    "\telse:\n",
    "\t\tprint(\"Invalid String\")\n",
    "pattern = re.compile('^[1234]+$')\n",
    "check('2134', pattern)\n",
    "check('349', pattern)\n"
   ]
  },
  {
   "cell_type": "markdown",
   "id": "ca1417f8-4528-4a3b-a75a-cd89ece9d7d7",
   "metadata": {},
   "source": [
    "#### 7. Python program to find files having a particular extension using RegEx"
   ]
  },
  {
   "cell_type": "code",
   "execution_count": 47,
   "id": "050f7cf0-cd71-40d0-b374-1aa25b387e35",
   "metadata": {},
   "outputs": [
    {
     "name": "stdout",
     "output_type": "stream",
     "text": [
      "The file ending with .html is: gfg.html\n"
     ]
    }
   ],
   "source": [
    "import re \n",
    "filenames = [\"gfg.html\", \"geeks.xml\", \"computer.txt\", \"geeksforgeeks.jpg\"] \n",
    "for file in filenames: \n",
    "\tmatch = re.search(r\"\\.html$\", file) \n",
    "\tif match: \n",
    "\t\tprint(\"The file ending with .html is:\", file) "
   ]
  }
 ],
 "metadata": {
  "kernelspec": {
   "display_name": "Python [conda env:base] *",
   "language": "python",
   "name": "conda-base-py"
  },
  "language_info": {
   "codemirror_mode": {
    "name": "ipython",
    "version": 3
   },
   "file_extension": ".py",
   "mimetype": "text/x-python",
   "name": "python",
   "nbconvert_exporter": "python",
   "pygments_lexer": "ipython3",
   "version": "3.12.7"
  }
 },
 "nbformat": 4,
 "nbformat_minor": 5
}
