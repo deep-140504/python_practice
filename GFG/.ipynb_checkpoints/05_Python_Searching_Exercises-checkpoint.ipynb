{
 "cells": [
  {
   "cell_type": "markdown",
   "id": "5b4de9b9-9154-4741-9b59-c332db798128",
   "metadata": {},
   "source": [
    "# Python Searching Exercises"
   ]
  },
  {
   "cell_type": "markdown",
   "id": "969ace64-d2be-443e-b8d8-1e3d9b6790eb",
   "metadata": {},
   "source": [
    "#### 1. Last Match"
   ]
  },
  {
   "cell_type": "code",
   "execution_count": 3,
   "id": "25db1286-7afc-40dd-811f-69199ef39941",
   "metadata": {},
   "outputs": [],
   "source": [
    "class Solution:\n",
    "    def check(self, A, B, ind):\n",
    "        for i in range(len(B)):\n",
    "            if(i + ind >= len(A)):\n",
    "                return False\n",
    "            if(A[i + ind] != B[i]):\n",
    "                return False\n",
    "        else:\n",
    "            return True\n",
    "    def findLastOccurence(self, A, B):\n",
    "        # code here \n",
    "        ans = -1\n",
    "        i = 0\n",
    "        j = 0\n",
    "        while i < len(A):\n",
    "            if(self.check(A, B, i)):\n",
    "                ans = max(ans, i + 1)\n",
    "            i += 1\n",
    "        return ans"
   ]
  },
  {
   "cell_type": "markdown",
   "id": "340f29e8-7d7d-4f7e-be15-33a36eff70ac",
   "metadata": {},
   "source": [
    "#### 2. Pattern searching"
   ]
  },
  {
   "cell_type": "code",
   "execution_count": 8,
   "id": "303f7e98-503d-4c2e-ab40-36ae61f59389",
   "metadata": {},
   "outputs": [],
   "source": [
    "import re\n",
    "def searchPattern(txt, pat):\n",
    "    return re.search(pat, txt)\n"
   ]
  },
  {
   "cell_type": "markdown",
   "id": "dafa02c7-9788-4964-8ca3-bad1bd468a00",
   "metadata": {},
   "source": [
    "#### 3. Binary Search"
   ]
  },
  {
   "cell_type": "code",
   "execution_count": 13,
   "id": "ebb7deb5-f804-4f87-b642-1351d9261c33",
   "metadata": {},
   "outputs": [],
   "source": [
    "class Solution:\n",
    "    def binarysearch(self, arr, k):\n",
    "        start, end = 0, len(arr) - 1\n",
    "        while start <= end:\n",
    "            mid = start + (end - start) // 2\n",
    "            if arr[mid] < k:\n",
    "                start = mid + 1\n",
    "            elif arr[mid] == k:\n",
    "                if mid == 0 or arr[mid - 1] != k:\n",
    "                    return mid\n",
    "                end = mid - 1\n",
    "            else:\n",
    "                end = mid - 1\n",
    "        return -1"
   ]
  },
  {
   "cell_type": "markdown",
   "id": "7a731a9b-93c0-4770-ab04-af345e214430",
   "metadata": {},
   "source": [
    "#### 4. Linear Search"
   ]
  },
  {
   "cell_type": "code",
   "execution_count": 20,
   "id": "82d86ec7-8935-4dc0-ad7b-d3f4a4ffd408",
   "metadata": {},
   "outputs": [
    {
     "name": "stdout",
     "output_type": "stream",
     "text": [
      "3 present in [1, 2, 3, 4] at index 2\n"
     ]
    }
   ],
   "source": [
    "def fun(ls, i, target):\n",
    "    if(i == len(ls)):\n",
    "        return -1\n",
    "    if(ls[i] == target):\n",
    "        return i\n",
    "    return fun(ls, i + 1, target)\n",
    "ls = [1, 2, 3, 4]\n",
    "ans = fun(ls, 0, 3)\n",
    "tar = 3\n",
    "if(ans == -1):\n",
    "    print(f\"{tar} not present in {ls}\")\n",
    "else:\n",
    "    print(f\"{tar} present in {ls} at index {ans}\")"
   ]
  },
  {
   "cell_type": "markdown",
   "id": "da270d37-e678-46d1-bc2e-aca924954100",
   "metadata": {},
   "source": [
    "#### 5. Recursive and iterative Binary Search"
   ]
  },
  {
   "cell_type": "code",
   "execution_count": 23,
   "id": "58dbd35d-02a5-484c-9eaf-a2a70bd2afac",
   "metadata": {},
   "outputs": [
    {
     "name": "stdout",
     "output_type": "stream",
     "text": [
      "Element is present at index 3\n"
     ]
    }
   ],
   "source": [
    "def binary_search(arr, low, high, x):\n",
    "    if high >= low:\n",
    "        mid = (high + low) // 2\n",
    "        if arr[mid] == x:\n",
    "            return mid\n",
    "        elif arr[mid] > x:\n",
    "            return binary_search(arr, low, mid - 1, x)\n",
    "        else:\n",
    "            return binary_search(arr, mid + 1, high, x)\n",
    "    else:\n",
    "        return -1\n",
    "\n",
    "arr = [2, 3, 4, 10, 40]\n",
    "x = 10\n",
    "\n",
    "result = binary_search(arr, 0, len(arr)-1, x)\n",
    "\n",
    "if result != -1:\n",
    "    print(\"Element is present at index\", str(result))\n",
    "else:\n",
    "    print(\"Element is not present in array\")\n"
   ]
  },
  {
   "cell_type": "code",
   "execution_count": 25,
   "id": "10814ac7-5890-4f3b-81fa-1e6b1ccb81da",
   "metadata": {},
   "outputs": [
    {
     "name": "stdout",
     "output_type": "stream",
     "text": [
      "Element is present at index 3\n"
     ]
    }
   ],
   "source": [
    "def binary_search(arr, x):\n",
    "    low = 0\n",
    "    high = len(arr) - 1\n",
    "    mid = 0\n",
    "\n",
    "    while low <= high:\n",
    "        mid = (high + low) // 2\n",
    "\n",
    "        if arr[mid] < x:\n",
    "            low = mid + 1\n",
    "        elif arr[mid] > x:\n",
    "            high = mid - 1\n",
    "        else:\n",
    "            return mid\n",
    "\n",
    "    return -1\n",
    "\n",
    "arr = [2, 3, 4, 10, 40]\n",
    "x = 10\n",
    "\n",
    "result = binary_search(arr, x)\n",
    "\n",
    "if result != -1:\n",
    "    print(\"Element is present at index\", str(result))\n",
    "else:\n",
    "    print(\"Element is not present in array\")\n"
   ]
  },
  {
   "cell_type": "markdown",
   "id": "0cd024f0-2931-49bb-8ddb-cabb17deb1b4",
   "metadata": {},
   "source": [
    "#### 6. Python Program for Anagram Substring Search (Or Search for all permutations)"
   ]
  },
  {
   "cell_type": "code",
   "execution_count": 28,
   "id": "29c23f71-7bf1-4b21-9e5a-e8415a94a416",
   "metadata": {},
   "outputs": [
    {
     "name": "stdout",
     "output_type": "stream",
     "text": [
      "Found at Index 0\n",
      "Found at Index 5\n",
      "Found at Index 6\n"
     ]
    }
   ],
   "source": [
    "MAX = 256\n",
    "\n",
    "def compare(arr1, arr2): \n",
    "    for i in range(MAX): \n",
    "        if arr1[i] != arr2[i]: \n",
    "            return False\n",
    "    return True\n",
    "\n",
    "def search(pat, txt): \n",
    "    M = len(pat) \n",
    "    N = len(txt) \n",
    "    countP = [0]*MAX\n",
    "    countTW = [0]*MAX\n",
    "\n",
    "    for i in range(M): \n",
    "        countP[ord(pat[i])] += 1\n",
    "        countTW[ord(txt[i])] += 1\n",
    "\n",
    "    for i in range(M, N): \n",
    "        if compare(countP, countTW): \n",
    "            print(\"Found at Index\", (i-M)) \n",
    "\n",
    "        countTW[ord(txt[i])] += 1\n",
    "        countTW[ord(txt[i-M])] -= 1\n",
    "    \n",
    "    if compare(countP, countTW): \n",
    "        print(\"Found at Index\", N-M)\n",
    "\n",
    "txt = \"BACDGABCDA\"\n",
    "pat = \"ABCD\"    \n",
    "search(pat, txt)\n"
   ]
  },
  {
   "cell_type": "code",
   "execution_count": null,
   "id": "6b51527f-937f-4c89-b500-796f0ba89d7b",
   "metadata": {},
   "outputs": [],
   "source": []
  }
 ],
 "metadata": {
  "kernelspec": {
   "display_name": "Python [conda env:base] *",
   "language": "python",
   "name": "conda-base-py"
  },
  "language_info": {
   "codemirror_mode": {
    "name": "ipython",
    "version": 3
   },
   "file_extension": ".py",
   "mimetype": "text/x-python",
   "name": "python",
   "nbconvert_exporter": "python",
   "pygments_lexer": "ipython3",
   "version": "3.12.7"
  }
 },
 "nbformat": 4,
 "nbformat_minor": 5
}
