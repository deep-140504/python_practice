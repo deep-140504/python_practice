{
 "cells": [
  {
   "cell_type": "raw",
   "id": "84446fbd-6507-4397-94e5-6e7d85b4b15a",
   "metadata": {},
   "source": [
    "JSON stands for Java Script Object Notation\n",
    "JSON is mainly used for transferring data across the servers and the browsers\n",
    "Pythonsupports JSON with a built in package called JSON\n",
    "this package provides all the necessary tools for working with JSON Object including parsing and serializing\n",
    "\n",
    "Serializing\n",
    "Serializing is the process of encoding the form naive datatype to Json format\n",
    "The python module json converts a python dictionary object into JSON object, list and tuple are converted into JSON array, and int and float converted as JSON number, None converted as JSON null"
   ]
  },
  {
   "cell_type": "markdown",
   "id": "d06e4b62-365a-4d2a-909b-97d64caf05d2",
   "metadata": {},
   "source": [
    "#### 1. Convert class object to JSON in Python"
   ]
  },
  {
   "cell_type": "code",
   "execution_count": 7,
   "id": "1f7f5dee-4f43-4100-8890-52a97bbc04af",
   "metadata": {},
   "outputs": [
    {
     "name": "stdout",
     "output_type": "stream",
     "text": [
      "{\"roll_no\": \"85\", \"name\": \"Swapnil\", \"batch\": \"IMT\"}\n",
      "{\"roll_no\": \"124\", \"name\": \"Akash\", \"batch\": \"IMT\"}\n",
      "{\"brand\": \"Honda\", \"name\": \"city\", \"batch\": \"2005\"}\n",
      "{\"brand\": \"Honda\", \"name\": \"Amaze\", \"batch\": \"2011\"}\n"
     ]
    }
   ],
   "source": [
    "# import required packages \n",
    "import json \n",
    "  \n",
    "# custom class \n",
    "class Student: \n",
    "    def __init__(self, roll_no, name, batch): \n",
    "        self.roll_no = roll_no \n",
    "        self.name = name \n",
    "        self.batch = batch \n",
    "  \n",
    "  \n",
    "class Car: \n",
    "    def __init__(self, brand, name, batch): \n",
    "        self.brand = brand \n",
    "        self.name = name \n",
    "        self.batch = batch \n",
    "# main function \n",
    "if __name__ == \"__main__\": \n",
    "    \n",
    "    # create two new student objects \n",
    "    s1 = Student(\"85\", \"Swapnil\", \"IMT\") \n",
    "    s2 = Student(\"124\", \"Akash\", \"IMT\") \n",
    "  \n",
    "    # create two new car objects \n",
    "    c1 = Car(\"Honda\", \"city\", \"2005\") \n",
    "    c2 = Car(\"Honda\", \"Amaze\", \"2011\") \n",
    "  \n",
    "    # convert to JSON format \n",
    "    # __dict__ will convert the values passed to the class and the corresponding attributes to the dictionary\n",
    "    jsonstr1 = json.dumps(s1.__dict__) \n",
    "    jsonstr2 = json.dumps(s2.__dict__) \n",
    "    jsonstr3 = json.dumps(c1.__dict__) \n",
    "    jsonstr4 = json.dumps(c2.__dict__) \n",
    "  \n",
    "    # print created JSON objects \n",
    "    print(jsonstr1) \n",
    "    print(jsonstr2) \n",
    "    print(jsonstr3) \n",
    "    print(jsonstr4) \n",
    "\n",
    "# so nothing much in this, just create class with attributes, create class objects for the same and pass the values in the constructor\n",
    "# then, call JSON.dumps on the dictionary objects of the class object being created"
   ]
  },
  {
   "cell_type": "markdown",
   "id": "d2da8cff-4091-467d-b476-cd1655d86494",
   "metadata": {},
   "source": [
    "#### 2. Convert JSON data Into a Custom Python Object"
   ]
  },
  {
   "cell_type": "code",
   "execution_count": 11,
   "id": "1a3ad9e1-5f69-42d5-b4b0-fa2db902f874",
   "metadata": {},
   "outputs": [
    {
     "name": "stdout",
     "output_type": "stream",
     "text": [
      "GeekCustomDecoder 2 Pune\n"
     ]
    }
   ],
   "source": [
    "import json\n",
    "from collections import namedtuple\n",
    "\n",
    "def customDecoder(geekDict):\n",
    "    return namedtuple('X', geekDict.keys())(*geekDict.values())\n",
    "\n",
    "geekJsonData = '{\"name\" : \"GeekCustomDecoder\", \"id\" : 2, \"location\" : \"Pune\"}'\n",
    "\n",
    "x = json.loads(geekJsonData, object_hook=customDecoder)\n",
    "\n",
    "print(x.name, x.id, x.location)\n"
   ]
  },
  {
   "cell_type": "markdown",
   "id": "1e8d7471-65d1-4089-8828-ab5649ae25c4",
   "metadata": {},
   "source": [
    "#### 3. Flattening JSON objects in Python"
   ]
  },
  {
   "cell_type": "code",
   "execution_count": 14,
   "id": "1b195508-d676-4d22-886b-8acacb15b8bd",
   "metadata": {},
   "outputs": [
    {
     "name": "stdout",
     "output_type": "stream",
     "text": [
      "{'user_Rachel_UserID': 1717171717, 'user_Rachel_Email': 'rachel1999@gmail.com', 'user_Rachel_friends_0': 'John', 'user_Rachel_friends_1': 'Jeremy', 'user_Rachel_friends_2': 'Emily'}\n"
     ]
    }
   ],
   "source": [
    "unflat_json = {'user': \n",
    "               {'Rachel': \n",
    "                {'UserID': 1717171717,\n",
    "                 'Email': 'rachel1999@gmail.com',\n",
    "                 'friends': ['John', 'Jeremy', 'Emily']\n",
    "                }\n",
    "               }\n",
    "              }\n",
    "\n",
    "def flatten_json(y):\n",
    "    out = {}\n",
    "\n",
    "    def flatten(x, name=''):\n",
    "        if type(x) is dict:\n",
    "            for a in x:\n",
    "                flatten(x[a], name + a + '_')\n",
    "        elif type(x) is list:\n",
    "            i = 0\n",
    "            for a in x:\n",
    "                flatten(a, name + str(i) + '_')\n",
    "                i += 1\n",
    "        else:\n",
    "            out[name[:-1]] = x\n",
    "\n",
    "    flatten(y)\n",
    "    return out\n",
    "\n",
    "print(flatten_json(unflat_json))\n"
   ]
  },
  {
   "cell_type": "markdown",
   "id": "0d6f47f1-02e8-47f0-8c95-1c8953b1a867",
   "metadata": {},
   "source": [
    "#### 4. Convert CSV to JSON using Python"
   ]
  },
  {
   "cell_type": "code",
   "execution_count": 19,
   "id": "f672ae84-e0cc-4284-a5b8-2f34fe70f603",
   "metadata": {},
   "outputs": [],
   "source": [
    "import csv\n",
    "import json\n",
    "\n",
    "def make_json(csvFilePath, jsonFilePath):\n",
    "    data = {}\n",
    "    with open(csvFilePath, encoding='utf-8') as csvf:\n",
    "        csvReader = csv.DictReader(csvf)\n",
    "        for rows in csvReader:\n",
    "            key = rows['No']\n",
    "            data[key] = rows\n",
    "\n",
    "    with open(jsonFilePath, 'w', encoding='utf-8') as jsonf:\n",
    "        jsonf.write(json.dumps(data, indent=4))\n",
    "\n",
    "csvFilePath = r'Names.csv'\n",
    "jsonFilePath = r'Names.json'\n",
    "\n",
    "make_json(csvFilePath, jsonFilePath) "
   ]
  },
  {
   "cell_type": "code",
   "execution_count": null,
   "id": "fbaed109-5124-403d-abc5-3f2883c31274",
   "metadata": {},
   "outputs": [],
   "source": []
  }
 ],
 "metadata": {
  "kernelspec": {
   "display_name": "Python [conda env:base] *",
   "language": "python",
   "name": "conda-base-py"
  },
  "language_info": {
   "codemirror_mode": {
    "name": "ipython",
    "version": 3
   },
   "file_extension": ".py",
   "mimetype": "text/x-python",
   "name": "python",
   "nbconvert_exporter": "python",
   "pygments_lexer": "ipython3",
   "version": "3.12.7"
  }
 },
 "nbformat": 4,
 "nbformat_minor": 5
}
