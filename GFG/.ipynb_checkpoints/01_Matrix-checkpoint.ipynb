{
 "cells": [
  {
   "cell_type": "markdown",
   "id": "1945ccf4-7aa6-4068-a440-fba5599212e1",
   "metadata": {},
   "source": [
    "# Matrix Ecercises\n"
   ]
  },
  {
   "cell_type": "markdown",
   "id": "2953ac6b-1cfc-418b-8fba-ad5f5d2813a0",
   "metadata": {},
   "source": [
    "#### 1. Matrix Operations"
   ]
  },
  {
   "cell_type": "code",
   "execution_count": 3,
   "id": "71f240a1-8982-465c-8a8d-ef70289957a2",
   "metadata": {},
   "outputs": [],
   "source": [
    "class Solution:\n",
    "    def endPoints(self, matrix, m, n):\n",
    "        ##code here\n",
    "        M = m\n",
    "        N = n\n",
    "        \n",
    "        di = {\"U\": [-1, 0], \"D\": [1, 0], \"R\": [0, 1], \"L\": [0, -1]}\n",
    "        dir_0 = {\"U\": \"R\", \"R\": \"D\", \"D\": \"L\", \"L\": \"U\"}\n",
    "        \n",
    "        curr_dir = \"R\"\n",
    "        i = 0\n",
    "        j = 0\n",
    "        while(i < m and j < n):\n",
    "            ti, tj = i, j\n",
    "            if(matrix[i][j] == 0):\n",
    "                i = i + di[curr_dir][0]\n",
    "                j = j + di[curr_dir][1]\n",
    "                \n",
    "            elif (matrix[i][j] == 1):\n",
    "                matrix[i][j] = 0\n",
    "                curr_dir = dir_0[curr_dir]\n",
    "                i = i + di[curr_dir][0]\n",
    "                j = j + di[curr_dir][1]\n",
    "                \n",
    "            if(i < 0 or i == m or j < 0 or j == n):\n",
    "                return (ti, tj)"
   ]
  },
  {
   "cell_type": "markdown",
   "id": "b087ed96-7b4a-4712-94ae-999e9bec98ff",
   "metadata": {},
   "source": [
    "#### 2. Last cell in a Matrix"
   ]
  },
  {
   "cell_type": "code",
   "execution_count": 6,
   "id": "7c20fbba-68fb-438e-87ce-89fdab853ac7",
   "metadata": {},
   "outputs": [],
   "source": [
    "\n",
    "class Solution:\n",
    "    def endPoints(self, matrix, R, C):\n",
    "        #code here\n",
    "        m = R\n",
    "        n = C\n",
    "        di = {\"U\": [-1, 0], \"D\": [1, 0], \"R\": [0, 1], \"L\": [0, -1]}\n",
    "        dir_0 = {\"U\": \"R\", \"R\": \"D\", \"D\": \"L\", \"L\": \"U\"}\n",
    "        \n",
    "        curr_dir = \"R\"\n",
    "        i = 0\n",
    "        j = 0\n",
    "        while(i < m and j < n):\n",
    "            ti, tj = i, j\n",
    "            if(matrix[i][j] == 0):\n",
    "                i = i + di[curr_dir][0]\n",
    "                j = j + di[curr_dir][1]\n",
    "                \n",
    "            elif (matrix[i][j] == 1):\n",
    "                matrix[i][j] = 0\n",
    "                curr_dir = dir_0[curr_dir]\n",
    "                i = i + di[curr_dir][0]\n",
    "                j = j + di[curr_dir][1]\n",
    "                \n",
    "            if(i < 0 or i == m or j < 0 or j == n):\n",
    "                return (ti, tj)"
   ]
  },
  {
   "cell_type": "markdown",
   "id": "82a04911-55aa-4a4b-8419-a5cd950d71b9",
   "metadata": {},
   "source": [
    "#### 3. Assigning Subsequent Rows to Matrix first row elements"
   ]
  },
  {
   "cell_type": "code",
   "execution_count": 11,
   "id": "1fb7dc93-07d9-4bc3-8f04-86c96e99f314",
   "metadata": {},
   "outputs": [
    {
     "name": "stdout",
     "output_type": "stream",
     "text": [
      "original list:  [[1, 2, 3], [4, 5, 6], [7, 8, 9], [10, 11, 12]]\n",
      "updated list:  {1: [4, 5, 6], 2: [7, 8, 9], 3: [10, 11, 12]}\n"
     ]
    }
   ],
   "source": [
    "lst = [[1, 2, 3], [4, 5, 6], [7, 8, 9], [10, 11, 12]]\n",
    "print(\"original list: \", str(lst))\n",
    "result = {lst[0][ele] : lst[ele + 1] for ele in range(len(lst) - 1)}\n",
    "print(\"updated list: \", str(result))"
   ]
  },
  {
   "cell_type": "markdown",
   "id": "28dd45d4-3c9c-4ac6-8f34-0454ee316626",
   "metadata": {},
   "source": [
    "#### 4. Adding and Subtracting Matrices in Python"
   ]
  },
  {
   "cell_type": "code",
   "execution_count": 17,
   "id": "5c1262f3-2eb0-4219-a012-8a3efd516fc1",
   "metadata": {},
   "outputs": [
    {
     "name": "stdout",
     "output_type": "stream",
     "text": [
      "[[6, 10], [8, 12]]\n",
      "[[-4, -4], [-4, -4]]\n"
     ]
    }
   ],
   "source": [
    "l1 = [[1, 2], [3, 4]]\n",
    "l2 = [[5, 6], [7, 8]]\n",
    "res_add = [[0, 0], [0, 0]]\n",
    "res_sub = [[0, 0], [0, 0]]\n",
    "\n",
    "for i in range(len(l1)):\n",
    "    for j in range(len(l1[0])):\n",
    "        res_add[i][j] = l1[i][j] + l2[j][j]\n",
    "        res_sub[i][j] = l1[i][j] - l2[i][j]\n",
    "print(res_add)\n",
    "print(res_sub)\n",
    "\n",
    "\n",
    "\n"
   ]
  },
  {
   "cell_type": "markdown",
   "id": "80b39e8b-d51c-41e3-821a-f33c9029fc9a",
   "metadata": {},
   "source": [
    "#### 5. Group similar elements into Matrix"
   ]
  },
  {
   "cell_type": "code",
   "execution_count": 27,
   "id": "b79fc8d8-9919-4344-96e9-df2ad44b775d",
   "metadata": {},
   "outputs": [
    {
     "name": "stdout",
     "output_type": "stream",
     "text": [
      "[[1], [2, 2], [3, 3, 3], [4, 4, 4, 4]]\n"
     ]
    }
   ],
   "source": [
    "from collections import Counter\n",
    "l = [1, 2, 2, 3, 3, 3, 4, 4, 4, 4]\n",
    "t = Counter(l)\n",
    "res = [[key] * val for key, val in t.items()]\n",
    "print(res)"
   ]
  },
  {
   "cell_type": "markdown",
   "id": "e3bcb5b9-607a-4e18-bcd4-9c2b15011d76",
   "metadata": {},
   "source": [
    "#### 6. Row-wise element Addition in Tuple Matrix"
   ]
  },
  {
   "cell_type": "code",
   "execution_count": 45,
   "id": "bd9f1b22-f344-4bee-a8f4-42a410acea07",
   "metadata": {},
   "outputs": [
    {
     "name": "stdout",
     "output_type": "stream",
     "text": [
      "[('Gfg', 3), ('is', 3)]\n",
      "[('Gfg', 3), ('is', 3)]\n",
      "[('best', 1)]\n"
     ]
    }
   ],
   "source": [
    "test_list = [[('Gfg', 3), ('is', 3)], [('best', 1)], [('for', 5), ('geeks', 1)]]\n",
    "cus_eles = [6, 7, 8]\n",
    "\n",
    "for x in range(len(test_list)):\n",
    "    for y in range(x):\n",
    "        print(test_list[y])"
   ]
  },
  {
   "cell_type": "code",
   "execution_count": null,
   "id": "c82f35c6-89ce-4af6-8791-e6b13c4e4dd7",
   "metadata": {},
   "outputs": [],
   "source": []
  }
 ],
 "metadata": {
  "kernelspec": {
   "display_name": "Python [conda env:base] *",
   "language": "python",
   "name": "conda-base-py"
  },
  "language_info": {
   "codemirror_mode": {
    "name": "ipython",
    "version": 3
   },
   "file_extension": ".py",
   "mimetype": "text/x-python",
   "name": "python",
   "nbconvert_exporter": "python",
   "pygments_lexer": "ipython3",
   "version": "3.12.7"
  }
 },
 "nbformat": 4,
 "nbformat_minor": 5
}
