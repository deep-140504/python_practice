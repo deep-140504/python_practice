{
 "cells": [
  {
   "cell_type": "markdown",
   "id": "45a172d0-765a-4037-ba13-e1610ce79afb",
   "metadata": {},
   "source": [
    "# Python DSA Exercises"
   ]
  },
  {
   "cell_type": "markdown",
   "id": "99958201-493e-405f-9e64-635ce69a185d",
   "metadata": {},
   "source": [
    "#### 1. Python program to reverse a stack"
   ]
  },
  {
   "cell_type": "code",
   "execution_count": 17,
   "id": "5aa7700d-ac55-4937-9fa1-c6065f28091e",
   "metadata": {},
   "outputs": [
    {
     "name": "stdout",
     "output_type": "stream",
     "text": [
      "Original Stack\n",
      "5\n",
      "4\n",
      "3\n",
      "2\n",
      "1\n",
      "\n",
      "Stack after Reversing\n",
      "1\n",
      "2\n",
      "3\n",
      "4\n",
      "5\n"
     ]
    }
   ],
   "source": [
    "class Stack:\n",
    "    def __init__(self):\n",
    "        self.Elements = []\n",
    "        \n",
    "    def push(self, value):\n",
    "        self.Elements.append(value)\n",
    "    \n",
    "    def pop(self):\n",
    "        return self.Elements.pop()\n",
    "    \n",
    "    def empty(self):\n",
    "        return self.Elements == []\n",
    "    \n",
    "    def show(self):\n",
    "        for value in reversed(self.Elements):\n",
    "            print(value)\n",
    "\n",
    "def BottomInsert(s, value):\n",
    "    if s.empty():\n",
    "        s.push(value)\n",
    "    else:\n",
    "        popped = s.pop()\n",
    "        BottomInsert(s, value)\n",
    "        s.push(popped)\n",
    "\n",
    "def Reverse(s):\n",
    "    if s.empty():\n",
    "        pass\n",
    "    else:\n",
    "        popped = s.pop()\n",
    "        Reverse(s)\n",
    "        BottomInsert(s, popped)\n",
    "\n",
    "stk = Stack()\n",
    "\n",
    "stk.push(1)\n",
    "stk.push(2)\n",
    "stk.push(3)\n",
    "stk.push(4)\n",
    "stk.push(5)\n",
    "\n",
    "print(\"Original Stack\")\n",
    "stk.show()\n",
    "\n",
    "print(\"\\nStack after Reversing\")\n",
    "Reverse(stk)\n",
    "stk.show()\n"
   ]
  },
  {
   "cell_type": "markdown",
   "id": "19381a1c-9826-4117-a130-4ee196d79cfe",
   "metadata": {},
   "source": [
    "#### 2. Multithreaded Priority Queue in Python"
   ]
  },
  {
   "cell_type": "code",
   "execution_count": 6,
   "id": "916ac91d-7f77-4171-8439-bb4301b18a0c",
   "metadata": {},
   "outputs": [
    {
     "name": "stdout",
     "output_type": "stream",
     "text": [
      "Thread-1 processing A\n",
      "Thread-3 processing B\n",
      "Thread-2 processing C\n",
      "Thread-1 processing D\n",
      "Thread-3 processing E\n",
      "Exit Main Thread\n"
     ]
    }
   ],
   "source": [
    "import queue\n",
    "import threading\n",
    "import time\n",
    "\n",
    "thread_exit_Flag = 0\n",
    "\n",
    "class sample_Thread(threading.Thread): \n",
    "    def __init__(self, threadID, name, q): \n",
    "        threading.Thread.__init__(self) \n",
    "        self.threadID = threadID \n",
    "        self.name = name \n",
    "        self.q = q \n",
    "    \n",
    "    def run(self): \n",
    "        process_data(self.name, self.q) \n",
    "\n",
    "def process_data(threadName, q): \n",
    "    while not thread_exit_Flag: \n",
    "        queueLock.acquire() \n",
    "        if not workQueue.empty(): \n",
    "            data = q.get() \n",
    "            queueLock.release() \n",
    "            print(\"%s processing %s\" % (threadName, data)) \n",
    "        else: \n",
    "            queueLock.release() \n",
    "            time.sleep(1)\n",
    "\n",
    "thread_list = [\"Thread-1\", \"Thread-2\", \"Thread-3\"] \n",
    "name_list = [\"A\", \"B\", \"C\", \"D\", \"E\"] \n",
    "queueLock = threading.Lock() \n",
    "workQueue = queue.Queue(10) \n",
    "threads = [] \n",
    "threadID = 1\n",
    "\n",
    "for thread_name in thread_list: \n",
    "    thread = sample_Thread(threadID, thread_name, workQueue) \n",
    "    thread.start() \n",
    "    threads.append(thread) \n",
    "    threadID += 1\n",
    "\n",
    "queueLock.acquire() \n",
    "for items in name_list: \n",
    "    workQueue.put(items) \n",
    "queueLock.release() \n",
    "\n",
    "while not workQueue.empty(): \n",
    "    pass\n",
    "\n",
    "thread_exit_Flag = 1\n",
    "\n",
    "for t in threads: \n",
    "    t.join() \n",
    "\n",
    "print(\"Exit Main Thread\")"
   ]
  },
  {
   "cell_type": "markdown",
   "id": "94106c07-0b3e-4cc1-af86-4799c849b76f",
   "metadata": {},
   "source": [
    "#### 3. Check whether the given string is Palindrome using Stack"
   ]
  },
  {
   "cell_type": "code",
   "execution_count": 9,
   "id": "a088edae-0c92-4cc4-a31a-54b97653ffe3",
   "metadata": {},
   "outputs": [
    {
     "name": "stdout",
     "output_type": "stream",
     "text": [
      "Yes\n"
     ]
    }
   ],
   "source": [
    "stack = []\n",
    "top = -1\n",
    "\n",
    "def push(ele: str):\n",
    "    global top\n",
    "    top += 1\n",
    "    stack[top] = ele\n",
    "\n",
    "def pop():\n",
    "    global top\n",
    "    ele = stack[top]\n",
    "    top -= 1\n",
    "    return ele\n",
    "\n",
    "def isPalindrome(string: str) -> bool:\n",
    "    global stack\n",
    "    length = len(string)\n",
    "    stack = ['0'] * (length + 1)\n",
    "    mid = length // 2\n",
    "    i = 0\n",
    "    while i < mid:\n",
    "        push(string[i])\n",
    "        i += 1\n",
    "    if length % 2 != 0:\n",
    "        i += 1\n",
    "    while i < length:\n",
    "        ele = pop()\n",
    "        if ele != string[i]:\n",
    "            return False\n",
    "        i += 1\n",
    "    return True\n",
    "\n",
    "if __name__ == \"__main__\":\n",
    "    string = \"madam\"\n",
    "    if isPalindrome(string):\n",
    "        print(\"Yes\")\n",
    "    else:\n",
    "        print(\"No\")\n"
   ]
  },
  {
   "cell_type": "markdown",
   "id": "2a8f3e77-6fb0-4034-a157-a3dc34d916cb",
   "metadata": {},
   "source": [
    "#### 4. Program to Calculate the Edge Cover of a Graph"
   ]
  },
  {
   "cell_type": "code",
   "execution_count": 12,
   "id": "47b5d6e1-b5e6-4ba2-b6d8-be1c89ea575d",
   "metadata": {},
   "outputs": [
    {
     "name": "stdout",
     "output_type": "stream",
     "text": [
      "3\n"
     ]
    }
   ],
   "source": [
    "import math\n",
    "\n",
    "def edgeCover(n):\n",
    "    result = 0\n",
    "    result = math.ceil(n / 2.0)\n",
    "    return result\n",
    "\t\n",
    "if __name__ == \"__main__\" : \n",
    "    n = 5\n",
    "    print(int(edgeCover(n)))"
   ]
  },
  {
   "cell_type": "markdown",
   "id": "71545379-a903-4d72-8b18-b8f3de348f12",
   "metadata": {},
   "source": [
    "#### 5. Python Program for N Queen Problem | Backtracking-3"
   ]
  },
  {
   "cell_type": "code",
   "execution_count": 15,
   "id": "16cca314-61ce-48a9-bb20-8336a7707203",
   "metadata": {},
   "outputs": [
    {
     "name": "stdout",
     "output_type": "stream",
     "text": [
      "0 0 1 0 \n",
      "1 0 0 0 \n",
      "0 0 0 1 \n",
      "0 1 0 0 \n"
     ]
    },
    {
     "data": {
      "text/plain": [
       "True"
      ]
     },
     "execution_count": 15,
     "metadata": {},
     "output_type": "execute_result"
    }
   ],
   "source": [
    "global N\n",
    "N = 4\n",
    "\n",
    "def printSolution(board):\n",
    "    for i in range(N):\n",
    "        for j in range(N):\n",
    "            print(board[i][j], end=' ')\n",
    "        print()\n",
    "\n",
    "def isSafe(board, row, col):\n",
    "    for i in range(col):\n",
    "        if board[row][i] == 1:\n",
    "            return False\n",
    "    for i, j in zip(range(row, -1, -1), range(col, -1, -1)):\n",
    "        if board[i][j] == 1:\n",
    "            return False\n",
    "    for i, j in zip(range(row, N, 1), range(col, -1, -1)):\n",
    "        if board[i][j] == 1:\n",
    "            return False\n",
    "    return True\n",
    "\n",
    "def solveNQUtil(board, col):\n",
    "    if col >= N:\n",
    "        return True\n",
    "    for i in range(N):\n",
    "        if isSafe(board, i, col):\n",
    "            board[i][col] = 1\n",
    "            if solveNQUtil(board, col + 1) == True:\n",
    "                return True\n",
    "            board[i][col] = 0\n",
    "    return False\n",
    "\n",
    "def solveNQ():\n",
    "    board = [[0, 0, 0, 0],\n",
    "             [0, 0, 0, 0],\n",
    "             [0, 0, 0, 0],\n",
    "             [0, 0, 0, 0]]\n",
    "    if solveNQUtil(board, 0) == False:\n",
    "        print(\"Solution does not exist\")\n",
    "        return False\n",
    "    printSolution(board)\n",
    "    return True\n",
    "\n",
    "solveNQ()"
   ]
  },
  {
   "cell_type": "code",
   "execution_count": null,
   "id": "5380841a-9590-44fe-ba64-f502488a2228",
   "metadata": {},
   "outputs": [],
   "source": []
  }
 ],
 "metadata": {
  "kernelspec": {
   "display_name": "Python [conda env:base] *",
   "language": "python",
   "name": "conda-base-py"
  },
  "language_info": {
   "codemirror_mode": {
    "name": "ipython",
    "version": 3
   },
   "file_extension": ".py",
   "mimetype": "text/x-python",
   "name": "python",
   "nbconvert_exporter": "python",
   "pygments_lexer": "ipython3",
   "version": "3.12.7"
  }
 },
 "nbformat": 4,
 "nbformat_minor": 5
}
